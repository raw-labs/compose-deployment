{
 "cells": [
  {
   "cell_type": "markdown",
   "metadata": {},
   "source": [
    "# Materialized Views\n",
    "\n",
    "Views in RAW can benefit from RAW's automated caching described previously.\n",
    "\n",
    "However, for many use cases such a \"best-effort\" mechanism, is not sufficient as it does not provide explicit performance guarantees.\n",
    "\n",
    "Materialized Views are another mechanism in RAW, which provides much stricter guarantees of when the original data source is queried."
   ]
  },
  {
   "cell_type": "code",
   "execution_count": 3,
   "metadata": {},
   "outputs": [],
   "source": [
    "%load_ext raw_magic"
   ]
  },
  {
   "cell_type": "markdown",
   "metadata": {},
   "source": [
    "Materialized views are similar to views except that the data is forcefully cached in RAW.\n",
    "\n",
    "This cache is maintained indefinitely and is only refreshed if needed by the query logic.\n",
    "\n",
    "To define materialized views in RAW, use the `materialized_view` magic."
   ]
  },
  {
   "cell_type": "code",
   "execution_count": 10,
   "metadata": {},
   "outputs": [],
   "source": [
    "%%materialized_view airports_materialized\n",
    "\n",
    "SELECT * FROM READ(\"https://raw-tutorial.s3.amazonaws.com/airports.csv\", cache := interval \"30 day\")"
   ]
  },
  {
   "cell_type": "markdown",
   "metadata": {},
   "source": [
    "This materialized view will be created the first time it is used, and will be kept.\n",
    "\n",
    "It will only be refresh when a query refers to it after 30 days.\n",
    "\n",
    "Note that materialized views are not created at definition time - they are created the first time a query referring to them is executed."
   ]
  },
  {
   "cell_type": "markdown",
   "metadata": {},
   "source": [
    "## Joins and Duration\n",
    "\n",
    "Suppose we have another materialized view:"
   ]
  },
  {
   "cell_type": "code",
   "execution_count": 11,
   "metadata": {},
   "outputs": [],
   "source": [
    "%%materialized_view trips_materialized\n",
    "\n",
    "SELECT * FROM READ(\"https://raw-tutorial.s3.amazonaws.com/trips.json\", cache := interval \"15 day\")"
   ]
  },
  {
   "cell_type": "markdown",
   "metadata": {},
   "source": [
    "If a query joins both materialized views, it will benefit from materialized input on both sides."
   ]
  },
  {
   "cell_type": "code",
   "execution_count": 19,
   "metadata": {},
   "outputs": [
    {
     "data": {
      "text/html": [
       "<table class=\"nested-table\">\n",
       "<tr><th colspan=\"1\" rowspan=\"2\">AirportID</th><th colspan=\"1\" rowspan=\"2\">Name</th><th colspan=\"1\" rowspan=\"2\">City</th><th colspan=\"1\" rowspan=\"2\">Country</th><th colspan=\"1\" rowspan=\"2\">IATA_FAA</th><th colspan=\"1\" rowspan=\"2\">ICAO</th><th colspan=\"1\" rowspan=\"2\">Latitude</th><th colspan=\"1\" rowspan=\"2\">Longitude</th><th colspan=\"1\" rowspan=\"2\">Altitude</th><th colspan=\"1\" rowspan=\"2\">Timezone</th><th colspan=\"1\" rowspan=\"2\">DST</th><th colspan=\"1\" rowspan=\"2\">TZ</th><th colspan=\"1\" rowspan=\"2\">reason</th><th colspan=\"1\" rowspan=\"2\">origin</th><th colspan=\"1\" rowspan=\"2\">destination</th><th colspan=\"2\" rowspan=\"1\">dates</th></tr>\n",
       "<tr><th colspan=\"1\" rowspan=\"1\">departure</th><th colspan=\"1\" rowspan=\"1\">arrival</th></tr>\n",
       "<tr><td colspan=\"1\" rowspan=\"1\" class=\"\">1665</td><td colspan=\"1\" rowspan=\"1\" class=\"\">Geneve Cointrin</td><td colspan=\"1\" rowspan=\"1\" class=\"\">Geneva</td><td colspan=\"1\" rowspan=\"1\" class=\"\">Switzerland</td><td colspan=\"1\" rowspan=\"1\" class=\"\">GVA</td><td colspan=\"1\" rowspan=\"1\" class=\"\">LSGG</td><td colspan=\"1\" rowspan=\"1\" class=\"\">46.238064</td><td colspan=\"1\" rowspan=\"1\" class=\"\">6.10895</td><td colspan=\"1\" rowspan=\"1\" class=\"\">1411</td><td colspan=\"1\" rowspan=\"1\" class=\"\">1.0</td><td colspan=\"1\" rowspan=\"1\" class=\"\">E</td><td colspan=\"1\" rowspan=\"1\" class=\"\">Europe/Paris</td><td colspan=\"1\" rowspan=\"1\" class=\"\">Holidays</td><td colspan=\"1\" rowspan=\"1\" class=\"\">GVA</td><td colspan=\"1\" rowspan=\"1\" class=\"\">KEF</td><td colspan=\"1\" rowspan=\"1\" class=\"\">2016/02/27</td><td colspan=\"1\" rowspan=\"1\" class=\"\">2016/03/06</td></tr>\n",
       "<tr><td colspan=\"1\" rowspan=\"1\" class=\"\">1665</td><td colspan=\"1\" rowspan=\"1\" class=\"\">Geneve Cointrin</td><td colspan=\"1\" rowspan=\"1\" class=\"\">Geneva</td><td colspan=\"1\" rowspan=\"1\" class=\"\">Switzerland</td><td colspan=\"1\" rowspan=\"1\" class=\"\">GVA</td><td colspan=\"1\" rowspan=\"1\" class=\"\">LSGG</td><td colspan=\"1\" rowspan=\"1\" class=\"\">46.238064</td><td colspan=\"1\" rowspan=\"1\" class=\"\">6.10895</td><td colspan=\"1\" rowspan=\"1\" class=\"\">1411</td><td colspan=\"1\" rowspan=\"1\" class=\"\">1.0</td><td colspan=\"1\" rowspan=\"1\" class=\"\">E</td><td colspan=\"1\" rowspan=\"1\" class=\"\">Europe/Paris</td><td colspan=\"1\" rowspan=\"1\" class=\"\">Work</td><td colspan=\"1\" rowspan=\"1\" class=\"\">GVA</td><td colspan=\"1\" rowspan=\"1\" class=\"\">SFO</td><td colspan=\"1\" rowspan=\"1\" class=\"\">2016/04/10</td><td colspan=\"1\" rowspan=\"1\" class=\"\">2016/04/17</td></tr>\n",
       "<tr><td colspan=\"1\" rowspan=\"1\" class=\"\">1665</td><td colspan=\"1\" rowspan=\"1\" class=\"\">Geneve Cointrin</td><td colspan=\"1\" rowspan=\"1\" class=\"\">Geneva</td><td colspan=\"1\" rowspan=\"1\" class=\"\">Switzerland</td><td colspan=\"1\" rowspan=\"1\" class=\"\">GVA</td><td colspan=\"1\" rowspan=\"1\" class=\"\">LSGG</td><td colspan=\"1\" rowspan=\"1\" class=\"\">46.238064</td><td colspan=\"1\" rowspan=\"1\" class=\"\">6.10895</td><td colspan=\"1\" rowspan=\"1\" class=\"\">1411</td><td colspan=\"1\" rowspan=\"1\" class=\"\">1.0</td><td colspan=\"1\" rowspan=\"1\" class=\"\">E</td><td colspan=\"1\" rowspan=\"1\" class=\"\">Europe/Paris</td><td colspan=\"1\" rowspan=\"1\" class=\"\">Holidays</td><td colspan=\"1\" rowspan=\"1\" class=\"\">GVA</td><td colspan=\"1\" rowspan=\"1\" class=\"\">LCY</td><td colspan=\"1\" rowspan=\"1\" class=\"\">2016/05/22</td><td colspan=\"1\" rowspan=\"1\" class=\"\">2016/05/29</td></tr>\n",
       "</table>"
      ],
      "text/plain": [
       "<raw_magic.nested_table.NestedTable at 0x12a6946d0>"
      ]
     },
     "execution_count": 19,
     "metadata": {},
     "output_type": "execute_result"
    }
   ],
   "source": [
    "%%rql\n",
    "\n",
    "SELECT *\n",
    "FROM airports_materialized a, trips_materialized t\n",
    "WHERE t.origin=a.IATA_FAA"
   ]
  },
  {
   "cell_type": "markdown",
   "metadata": {},
   "source": [
    "If we were to define this query as a materialized view, one question is how often would that new materialized view have to be refreshed?\n",
    "\n",
    "The answer is that in case of joining multiple materialized views, the final materialized view has the smallest duration of each of its constituents parts.\n",
    "\n",
    "In this example since one materialized view refreshes every 30 days, and another every 15 days, the final materialized view refreshes also every 15 days, when the materialized view of 15 days refreshes itself."
   ]
  },
  {
   "cell_type": "markdown",
   "metadata": {},
   "source": [
    "## How refreshes happen\n",
    "\n",
    "In general, refreshing materialized views requires executing the original query and storing the new data.\n",
    "\n",
    "In some situations, depending on the data source, we foresee the possibility to use \"deltas\" of information to speed up this process. However, this should be considered an internal optimization of RAW."
   ]
  },
  {
   "cell_type": "markdown",
   "metadata": {},
   "source": [
    "**Next:** [Tables](Tables.ipynb)"
   ]
  }
 ],
 "metadata": {
  "kernelspec": {
   "display_name": "Python 3",
   "language": "python",
   "name": "python3"
  },
  "language_info": {
   "codemirror_mode": {
    "name": "ipython",
    "version": 3
   },
   "file_extension": ".py",
   "mimetype": "text/x-python",
   "name": "python",
   "nbconvert_exporter": "python",
   "pygments_lexer": "ipython3",
   "version": "3.6.9"
  }
 },
 "nbformat": 4,
 "nbformat_minor": 4
}
