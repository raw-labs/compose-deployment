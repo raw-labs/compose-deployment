{
 "cells": [
  {
   "cell_type": "markdown",
   "metadata": {},
   "source": [
    "# Creating Web Services\n",
    "\n",
    "RAW entities - views, materialized views, packages and tables - are available as REST services.\n",
    "\n",
    "This means that to create a \"Web Service\" in RAW, all you need to do is, for instance, define a view."
   ]
  },
  {
   "cell_type": "code",
   "execution_count": 1,
   "metadata": {},
   "outputs": [],
   "source": [
    "%load_ext raw_magic"
   ]
  },
  {
   "cell_type": "markdown",
   "metadata": {},
   "source": [
    "If we define a view such as:"
   ]
  },
  {
   "cell_type": "code",
   "execution_count": 3,
   "metadata": {},
   "outputs": [],
   "source": [
    "%%view view_as_webservice\n",
    "\n",
    "SELECT * FROM [\"Hello\", \"World\"]"
   ]
  },
  {
   "cell_type": "markdown",
   "metadata": {},
   "source": [
    "This view can be queried in the endpoint:\n",
    "\n",
    "```\n",
    "https://<SERVER ADDRESS>/query-view/view_as_webservice\n",
    "```\n",
    "    \n",
    "The HTTP request needs the uthorization token to be passed in the header: `Authorization: Bearer <TOKEN>`.\n",
    "\n",
    "In addition, to obtain output in a specific format, the optional header `X-RAW-output-format` can be passed, e.g.: `X-RAW-output-format: json`.\n"
   ]
  },
  {
   "cell_type": "markdown",
   "metadata": {},
   "source": [
    "In the case of packages, parameters can also be passed. That's because packages can contain function declarations that take parameters.\n",
    "\n",
    "Let's assume a package is defined as:"
   ]
  },
  {
   "cell_type": "code",
   "execution_count": 14,
   "metadata": {},
   "outputs": [],
   "source": [
    "%%package package_as_webservice\n",
    "\n",
    "private airports := SELECT * FROM READ(\"https://raw-tutorial.s3.amazonaws.com/airports.csv\");\n",
    "    \n",
    "airports_by_country := SELECT Country, * FROM airports GROUP BY Country;\n",
    "    \n",
    "airports_in_city(city: string) := SELECT * FROM airports WHERE City = city;"
   ]
  },
  {
   "cell_type": "markdown",
   "metadata": {},
   "source": [
    "This package exposes two web services, corresponding to the methods `airports_by_country` and `airports_in_city`.\n",
    "\n",
    "For instance, `airports_in_city` can be queried in the endpoint:\n",
    "    \n",
    "```\n",
    "https://<SERVER ADDRESS>/query-package/package_as_webservice/airports_in_city?city=Lisbon\n",
    "```"
   ]
  },
  {
   "cell_type": "markdown",
   "metadata": {},
   "source": [
    "**Next:** [Managing Credentials](Managing%20Credentials.ipynb)"
   ]
  }
 ],
 "metadata": {
  "kernelspec": {
   "display_name": "Python 3",
   "language": "python",
   "name": "python3"
  },
  "language_info": {
   "codemirror_mode": {
    "name": "ipython",
    "version": 3
   },
   "file_extension": ".py",
   "mimetype": "text/x-python",
   "name": "python",
   "nbconvert_exporter": "python",
   "pygments_lexer": "ipython3",
   "version": "3.8.5"
  }
 },
 "nbformat": 4,
 "nbformat_minor": 4
}
