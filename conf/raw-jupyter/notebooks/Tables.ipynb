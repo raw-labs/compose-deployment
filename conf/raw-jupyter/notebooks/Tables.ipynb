{
 "cells": [
  {
   "cell_type": "markdown",
   "metadata": {},
   "source": [
    "# Tables\n",
    "\n",
    "**Note: Tables are an experimental feature in RAW. Although the format is considered stable, features are missing and the public API is still subject to changes.**\n",
    "\n",
    "Tables are used in RAW to permanently store data.\n",
    "\n",
    "Tables are designed for \"tabular\" structure, similarly to SQL tables in relational databases."
   ]
  },
  {
   "cell_type": "code",
   "execution_count": 7,
   "metadata": {},
   "outputs": [
    {
     "name": "stdout",
     "output_type": "stream",
     "text": [
      "The raw_magic extension is already loaded. To reload it, use:\n",
      "  %reload_ext raw_magic\n"
     ]
    }
   ],
   "source": [
    "%load_ext raw_magic"
   ]
  },
  {
   "cell_type": "markdown",
   "metadata": {},
   "source": [
    "To create a table in RAW we use the `%%table` magic. The type must be passed as an argument.\n",
    "\n",
    "The type is described in RQL syntax and must consist of a tabular structure, i.e. a collection of records of primitive types.\n",
    "\n",
    "To create a table called `table1`."
   ]
  },
  {
   "cell_type": "code",
   "execution_count": 14,
   "metadata": {},
   "outputs": [
    {
     "name": "stdout",
     "output_type": "stream",
     "text": [
      "table table1 replaced\n"
     ]
    }
   ],
   "source": [
    "%%table table1\n",
    "\n",
    "type: 'collection(record(column_1: int, column_2: string))'"
   ]
  },
  {
   "cell_type": "markdown",
   "metadata": {},
   "source": [
    "This table is now empty.\n",
    "\n",
    "To insert data into the table, we use the `tables_insert` magic. This requires the table name and the contents to be inserted into the table.\n",
    "\n",
    "The contents are an RQL query.\n",
    "\n",
    "This allows users to load data into a RAW table from another location as in:"
   ]
  },
  {
   "cell_type": "code",
   "execution_count": 16,
   "metadata": {},
   "outputs": [],
   "source": [
    "%%tables_insert table1\n",
    "\n",
    "SELECT Altitude AS column_1, City AS column_2\n",
    "FROM READ(\"https://raw-tutorial.s3.amazonaws.com/airports.csv\")"
   ]
  },
  {
   "cell_type": "markdown",
   "metadata": {},
   "source": [
    "The table contents can now be queried:"
   ]
  },
  {
   "cell_type": "code",
   "execution_count": 17,
   "metadata": {},
   "outputs": [
    {
     "data": {
      "text/html": [
       "<table class=\"nested-table\">\n",
       "<tr><th colspan=\"1\" rowspan=\"1\">column_1</th><th colspan=\"1\" rowspan=\"1\">column_2</th></tr>\n",
       "<tr><td colspan=\"1\" rowspan=\"1\" class=\"\">5282</td><td colspan=\"1\" rowspan=\"1\" class=\"\">Goroka</td></tr>\n",
       "<tr><td colspan=\"1\" rowspan=\"1\" class=\"\">20</td><td colspan=\"1\" rowspan=\"1\" class=\"\">Madang</td></tr>\n",
       "<tr><td colspan=\"1\" rowspan=\"1\" class=\"\">5388</td><td colspan=\"1\" rowspan=\"1\" class=\"\">Mount Hagen</td></tr>\n",
       "<tr><td colspan=\"1\" rowspan=\"1\" class=\"\">239</td><td colspan=\"1\" rowspan=\"1\" class=\"\">Nadzab</td></tr>\n",
       "<tr><td colspan=\"1\" rowspan=\"1\" class=\"\">146</td><td colspan=\"1\" rowspan=\"1\" class=\"\">Port Moresby</td></tr>\n",
       "<tr><td colspan=\"1\" rowspan=\"1\" class=\"\">19</td><td colspan=\"1\" rowspan=\"1\" class=\"\">Wewak</td></tr>\n",
       "<tr><td colspan=\"1\" rowspan=\"1\" class=\"\">112</td><td colspan=\"1\" rowspan=\"1\" class=\"\">Narssarssuaq</td></tr>\n",
       "<tr><td colspan=\"1\" rowspan=\"1\" class=\"\">283</td><td colspan=\"1\" rowspan=\"1\" class=\"\">Godthaab</td></tr>\n",
       "<tr><td colspan=\"1\" rowspan=\"1\" class=\"\">165</td><td colspan=\"1\" rowspan=\"1\" class=\"\">Sondrestrom</td></tr>\n",
       "<tr><td colspan=\"1\" rowspan=\"1\" class=\"\">251</td><td colspan=\"1\" rowspan=\"1\" class=\"\">Thule</td></tr>\n",
       "</table>"
      ],
      "text/plain": [
       "<raw_magic.nested_table.NestedTable at 0x10b79f1f0>"
      ]
     },
     "execution_count": 17,
     "metadata": {},
     "output_type": "execute_result"
    }
   ],
   "source": [
    "%%rql\n",
    "\n",
    "SELECT *\n",
    "FROM table1\n",
    "LIMIT 10"
   ]
  },
  {
   "cell_type": "markdown",
   "metadata": {},
   "source": [
    "It is also possible to insert data that does not originate from another location.\n",
    "\n",
    "This can be done by creating a RAW query that includes the data to be inserted.\n",
    "\n",
    "Let's create a new table, and insert data into it:"
   ]
  },
  {
   "cell_type": "code",
   "execution_count": 23,
   "metadata": {},
   "outputs": [
    {
     "name": "stdout",
     "output_type": "stream",
     "text": [
      "table table2 replaced\n"
     ]
    }
   ],
   "source": [
    "%%table table2\n",
    "\n",
    "type: 'collection(record(column_1: int, column_2: string))'"
   ]
  },
  {
   "cell_type": "markdown",
   "metadata": {},
   "source": [
    "To insert data, we write an RQL query using RAW's syntax to create collections and records.\n",
    "\n",
    "To create a collection in RAW we use `[..., ...]`.\n",
    "\n",
    "To create records in RAW we use `(<field>: <value>, ...)`.\n",
    "\n",
    "Therefore, we can insert data manually as in:"
   ]
  },
  {
   "cell_type": "code",
   "execution_count": 24,
   "metadata": {},
   "outputs": [],
   "source": [
    "%%tables_insert table2\n",
    "\n",
    "[ \n",
    " (column_1: 1, column_2: \"Row 1\"),\n",
    " (column_1: 2, column_2: \"Row 2\"),\n",
    " (column_1: 3, column_2: \"Row 3\")\n",
    "]"
   ]
  },
  {
   "cell_type": "code",
   "execution_count": 25,
   "metadata": {},
   "outputs": [
    {
     "data": {
      "text/html": [
       "<table class=\"nested-table\">\n",
       "<tr><th colspan=\"1\" rowspan=\"1\">column_1</th><th colspan=\"1\" rowspan=\"1\">column_2</th></tr>\n",
       "<tr><td colspan=\"1\" rowspan=\"1\" class=\"\">1</td><td colspan=\"1\" rowspan=\"1\" class=\"\">Row 1</td></tr>\n",
       "<tr><td colspan=\"1\" rowspan=\"1\" class=\"\">2</td><td colspan=\"1\" rowspan=\"1\" class=\"\">Row 2</td></tr>\n",
       "<tr><td colspan=\"1\" rowspan=\"1\" class=\"\">3</td><td colspan=\"1\" rowspan=\"1\" class=\"\">Row 3</td></tr>\n",
       "</table>"
      ],
      "text/plain": [
       "<raw_magic.nested_table.NestedTable at 0x10b79b070>"
      ]
     },
     "execution_count": 25,
     "metadata": {},
     "output_type": "execute_result"
    }
   ],
   "source": [
    "%%rql \n",
    "\n",
    "SELECT * FROM table2"
   ]
  },
  {
   "cell_type": "markdown",
   "metadata": {},
   "source": [
    "Tables use multiversion concurrency control."
   ]
  },
  {
   "cell_type": "markdown",
   "metadata": {},
   "source": [
    "**Next:** [Advanced Language Features](Advanced%20Language%20Features.ipynb)"
   ]
  }
 ],
 "metadata": {
  "kernelspec": {
   "display_name": "Python 3",
   "language": "python",
   "name": "python3"
  },
  "language_info": {
   "codemirror_mode": {
    "name": "ipython",
    "version": 3
   },
   "file_extension": ".py",
   "mimetype": "text/x-python",
   "name": "python",
   "nbconvert_exporter": "python",
   "pygments_lexer": "ipython3",
   "version": "3.8.5"
  }
 },
 "nbformat": 4,
 "nbformat_minor": 4
}
