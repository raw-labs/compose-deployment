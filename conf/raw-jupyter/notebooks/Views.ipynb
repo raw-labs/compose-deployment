{
 "cells": [
  {
   "cell_type": "markdown",
   "metadata": {},
   "source": [
    "# Creating and Using Views\n",
    "\n",
    "So far we have run queries using the `%%rql` magic.\n",
    "\n",
    "As data analysis gets more complex, it is difficult to express all transformations in a single query.\n",
    "\n",
    "Views are a mechanism in RAW to store and reference queries you've done before.\n",
    "\n",
    "They are conceptually similar to _virtual views_ in classical databases."
   ]
  },
  {
   "cell_type": "code",
   "execution_count": 1,
   "metadata": {},
   "outputs": [],
   "source": [
    "%load_ext raw_magic"
   ]
  },
  {
   "cell_type": "markdown",
   "metadata": {},
   "source": [
    "To define a view, we use the `%%view` magic, as:\n",
    "\n",
    "```\n",
    "%%view <view name>\n",
    "\n",
    "<query>\n",
    "```"
   ]
  },
  {
   "cell_type": "markdown",
   "metadata": {},
   "source": [
    "Let's define our first view, which simply list all the contents of a file."
   ]
  },
  {
   "cell_type": "code",
   "execution_count": 3,
   "metadata": {},
   "outputs": [],
   "source": [
    "%%view airports\n",
    "\n",
    "SELECT * FROM READ(\"https://raw-tutorial.s3.amazonaws.com/airports.csv\")"
   ]
  },
  {
   "cell_type": "markdown",
   "metadata": {},
   "source": [
    "This creates a view named `airports`, which consists of reading the CSV file.\n",
    "\n",
    "To use this view, we can just reference it in a query."
   ]
  },
  {
   "cell_type": "code",
   "execution_count": 5,
   "metadata": {},
   "outputs": [
    {
     "data": {
      "text/html": [
       "<table class=\"nested-table\">\n",
       "<tr><th colspan=\"1\" rowspan=\"1\">AirportID</th><th colspan=\"1\" rowspan=\"1\">Name</th><th colspan=\"1\" rowspan=\"1\">City</th><th colspan=\"1\" rowspan=\"1\">Country</th><th colspan=\"1\" rowspan=\"1\">IATA_FAA</th><th colspan=\"1\" rowspan=\"1\">ICAO</th><th colspan=\"1\" rowspan=\"1\">Latitude</th><th colspan=\"1\" rowspan=\"1\">Longitude</th><th colspan=\"1\" rowspan=\"1\">Altitude</th><th colspan=\"1\" rowspan=\"1\">Timezone</th><th colspan=\"1\" rowspan=\"1\">DST</th><th colspan=\"1\" rowspan=\"1\">TZ</th></tr>\n",
       "<tr><td colspan=\"1\" rowspan=\"1\" class=\"\">1</td><td colspan=\"1\" rowspan=\"1\" class=\"\">Goroka</td><td colspan=\"1\" rowspan=\"1\" class=\"\">Goroka</td><td colspan=\"1\" rowspan=\"1\" class=\"\">Papua New Guinea</td><td colspan=\"1\" rowspan=\"1\" class=\"\">GKA</td><td colspan=\"1\" rowspan=\"1\" class=\"\">AYGA</td><td colspan=\"1\" rowspan=\"1\" class=\"\">-6.081689</td><td colspan=\"1\" rowspan=\"1\" class=\"\">145.391881</td><td colspan=\"1\" rowspan=\"1\" class=\"\">5282</td><td colspan=\"1\" rowspan=\"1\" class=\"\">10.0</td><td colspan=\"1\" rowspan=\"1\" class=\"\">U</td><td colspan=\"1\" rowspan=\"1\" class=\"\">Pacific/Port_Moresby</td></tr>\n",
       "<tr><td colspan=\"1\" rowspan=\"1\" class=\"\">2</td><td colspan=\"1\" rowspan=\"1\" class=\"\">Madang</td><td colspan=\"1\" rowspan=\"1\" class=\"\">Madang</td><td colspan=\"1\" rowspan=\"1\" class=\"\">Papua New Guinea</td><td colspan=\"1\" rowspan=\"1\" class=\"\">MAG</td><td colspan=\"1\" rowspan=\"1\" class=\"\">AYMD</td><td colspan=\"1\" rowspan=\"1\" class=\"\">-5.207083</td><td colspan=\"1\" rowspan=\"1\" class=\"\">145.7887</td><td colspan=\"1\" rowspan=\"1\" class=\"\">20</td><td colspan=\"1\" rowspan=\"1\" class=\"\">10.0</td><td colspan=\"1\" rowspan=\"1\" class=\"\">U</td><td colspan=\"1\" rowspan=\"1\" class=\"\">Pacific/Port_Moresby</td></tr>\n",
       "</table>"
      ],
      "text/plain": [
       "<raw_magic.nested_table.NestedTable at 0x12877ed90>"
      ]
     },
     "execution_count": 5,
     "metadata": {},
     "output_type": "execute_result"
    }
   ],
   "source": [
    "%%rql\n",
    "\n",
    "SELECT * FROM airports LIMIT 2"
   ]
  },
  {
   "cell_type": "markdown",
   "metadata": {},
   "source": [
    "This query now resembles even more traditional SQL.\n",
    "\n",
    "In fact, it achieved a form of \"virtualization\" by hiding the exact location of the original data,\n",
    "and presenting it to the consumer under a name.\n",
    "\n",
    "If the location of the file were changed, or its query changed to clean some data for instance, the view name would be kept stable.\n",
    "\n",
    "We can create other views similarly:"
   ]
  },
  {
   "cell_type": "code",
   "execution_count": 14,
   "metadata": {},
   "outputs": [
    {
     "name": "stdout",
     "output_type": "stream",
     "text": [
      "View \"airports_per_country\" was replaced\n"
     ]
    }
   ],
   "source": [
    "%%view airports_per_country\n",
    "\n",
    "SELECT Country, COUNT(*) AS Number_Airports\n",
    "FROM READ(\"https://raw-tutorial.s3.amazonaws.com/airports.csv\")\n",
    "GROUP BY Country\n",
    "ORDER BY Number_Airports DESC"
   ]
  },
  {
   "cell_type": "code",
   "execution_count": 15,
   "metadata": {},
   "outputs": [
    {
     "data": {
      "text/html": [
       "<table class=\"nested-table\">\n",
       "<tr><th colspan=\"1\" rowspan=\"1\">Country</th><th colspan=\"1\" rowspan=\"1\">Number_Airports</th></tr>\n",
       "<tr><td colspan=\"1\" rowspan=\"1\" class=\"\">United States</td><td colspan=\"1\" rowspan=\"1\" class=\"\">1697</td></tr>\n",
       "<tr><td colspan=\"1\" rowspan=\"1\" class=\"\">Canada</td><td colspan=\"1\" rowspan=\"1\" class=\"\">435</td></tr>\n",
       "<tr><td colspan=\"1\" rowspan=\"1\" class=\"\">Germany</td><td colspan=\"1\" rowspan=\"1\" class=\"\">321</td></tr>\n",
       "<tr><td colspan=\"1\" rowspan=\"1\" class=\"\">Australia</td><td colspan=\"1\" rowspan=\"1\" class=\"\">263</td></tr>\n",
       "<tr><td colspan=\"1\" rowspan=\"1\" class=\"\">Russia</td><td colspan=\"1\" rowspan=\"1\" class=\"\">249</td></tr>\n",
       "</table>"
      ],
      "text/plain": [
       "<raw_magic.nested_table.NestedTable at 0x12877a6d0>"
      ]
     },
     "execution_count": 15,
     "metadata": {},
     "output_type": "execute_result"
    }
   ],
   "source": [
    "%%rql\n",
    "\n",
    "SELECT * FROM airports_per_country ORDER BY Number_Airports DESC LIMIT 5"
   ]
  },
  {
   "cell_type": "markdown",
   "metadata": {},
   "source": [
    "We can also list the views available using a Jupyter magic:"
   ]
  },
  {
   "cell_type": "code",
   "execution_count": 16,
   "metadata": {},
   "outputs": [
    {
     "name": "stdout",
     "output_type": "stream",
     "text": [
      "airports\n",
      "airports_per_country\n"
     ]
    }
   ],
   "source": [
    "%views_list"
   ]
  },
  {
   "cell_type": "markdown",
   "metadata": {},
   "source": [
    "**Next:** [Querying Complex Data](Querying%20Complex%20Data.ipynb)"
   ]
  }
 ],
 "metadata": {
  "kernelspec": {
   "display_name": "Python 3",
   "language": "python",
   "name": "python3"
  },
  "language_info": {
   "codemirror_mode": {
    "name": "ipython",
    "version": 3
   },
   "file_extension": ".py",
   "mimetype": "text/x-python",
   "name": "python",
   "nbconvert_exporter": "python",
   "pygments_lexer": "ipython3",
   "version": "3.6.9"
  }
 },
 "nbformat": 4,
 "nbformat_minor": 2
}
