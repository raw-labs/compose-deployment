{
 "cells": [
  {
   "cell_type": "markdown",
   "metadata": {},
   "source": [
    "# Querying Relational Database Systems\n",
    "\n",
    "This notebooks shows how to query data in relational database systems."
   ]
  },
  {
   "cell_type": "code",
   "execution_count": 1,
   "metadata": {},
   "outputs": [],
   "source": [
    "%load_ext raw_magic"
   ]
  },
  {
   "cell_type": "markdown",
   "metadata": {},
   "source": [
    "The first step is to register credentials.\n",
    "\n",
    "For the purposes of this notebook, we assume there is a credential registered for a PostgreSQL server under name `psql01`."
   ]
  },
  {
   "cell_type": "code",
   "execution_count": 6,
   "metadata": {},
   "outputs": [
    {
     "name": "stdout",
     "output_type": "stream",
     "text": [
      "type: postgresql\n",
      "host: test-psql.raw-labs.com\n",
      "port: 5432\n",
      "database: demos\n",
      "username: rawtest\n",
      "password: None\n"
     ]
    }
   ],
   "source": [
    "%rdbms_show psql01"
   ]
  },
  {
   "cell_type": "markdown",
   "metadata": {},
   "source": [
    "(Password is shown as None because it is hidden from the API response for public clients.)\n",
    "\n",
    "We can now list schemas and tables in this server as in:"
   ]
  },
  {
   "cell_type": "code",
   "execution_count": 16,
   "metadata": {},
   "outputs": [
    {
     "data": {
      "text/html": [
       "<table class=\"nested-table\">\n",
       "<tr><th colspan=\"1\" rowspan=\"1\">string</th></tr>\n",
       "<tr><td colspan=\"1\" rowspan=\"1\" class=\"\">pgsql:psql01/information_schema</td></tr>\n",
       "<tr><td colspan=\"1\" rowspan=\"1\" class=\"\">pgsql:psql01/pg_catalog</td></tr>\n",
       "<tr><td colspan=\"1\" rowspan=\"1\" class=\"\">pgsql:psql01/public</td></tr>\n",
       "</table>"
      ],
      "text/plain": [
       "<raw_magic.nested_table.NestedTable at 0x12077f250>"
      ]
     },
     "execution_count": 16,
     "metadata": {},
     "output_type": "execute_result"
    }
   ],
   "source": [
    "%%rql\n",
    "\n",
    "SELECT * FROM LS_SCHEMAS(\"pgsql:psql01\")"
   ]
  },
  {
   "cell_type": "code",
   "execution_count": 17,
   "metadata": {},
   "outputs": [
    {
     "data": {
      "text/html": [
       "<table class=\"nested-table\">\n",
       "<tr><th colspan=\"1\" rowspan=\"1\">string</th></tr>\n",
       "<tr><td colspan=\"1\" rowspan=\"1\" class=\"\">pgsql:psql01/public/episode_parenttconst_tconst_idx</td></tr>\n",
       "<tr><td colspan=\"1\" rowspan=\"1\" class=\"\">pgsql:psql01/public/name_b_pkey</td></tr>\n",
       "<tr><td colspan=\"1\" rowspan=\"1\" class=\"\">pgsql:psql01/public/title_b_pkey</td></tr>\n",
       "<tr><td colspan=\"1\" rowspan=\"1\" class=\"\">pgsql:psql01/public/title_p_nconst_idx</td></tr>\n",
       "<tr><td colspan=\"1\" rowspan=\"1\" class=\"\">pgsql:psql01/public/title_p_tconst_idx</td></tr>\n",
       "<tr><td colspan=\"1\" rowspan=\"1\" class=\"\">pgsql:psql01/public/episode</td></tr>\n",
       "<tr><td colspan=\"1\" rowspan=\"1\" class=\"\">pgsql:psql01/public/name_b</td></tr>\n",
       "<tr><td colspan=\"1\" rowspan=\"1\" class=\"\">pgsql:psql01/public/title_b</td></tr>\n",
       "<tr><td colspan=\"1\" rowspan=\"1\" class=\"\">pgsql:psql01/public/title_p</td></tr>\n",
       "<tr><td colspan=\"1\" rowspan=\"1\" class=\"\">pgsql:psql01/public/movies</td></tr>\n",
       "<tr><td colspan=\"1\" rowspan=\"1\" class=\"\">pgsql:psql01/public/names</td></tr>\n",
       "<tr><td colspan=\"1\" rowspan=\"1\" class=\"\">pgsql:psql01/public/series</td></tr>\n",
       "</table>"
      ],
      "text/plain": [
       "<raw_magic.nested_table.NestedTable at 0x120782d60>"
      ]
     },
     "execution_count": 17,
     "metadata": {},
     "output_type": "execute_result"
    }
   ],
   "source": [
    "%%rql\n",
    "\n",
    "SELECT * FROM LS_TABLES(\"pgsql:psql01/public\")"
   ]
  },
  {
   "cell_type": "markdown",
   "metadata": {},
   "source": [
    "Finally, we can do query over a table as:"
   ]
  },
  {
   "cell_type": "code",
   "execution_count": 23,
   "metadata": {},
   "outputs": [
    {
     "data": {
      "text/html": [
       "<table class=\"nested-table\">\n",
       "<tr><th colspan=\"1\" rowspan=\"1\">tconst</th><th colspan=\"1\" rowspan=\"1\">startyear</th><th colspan=\"1\" rowspan=\"1\">primarytitle</th><th colspan=\"1\" rowspan=\"1\">originaltitle</th><th colspan=\"1\" rowspan=\"1\">primaryname</th></tr>\n",
       "<tr><td colspan=\"1\" rowspan=\"1\" class=\"\">tt0027125</td><td colspan=\"1\" rowspan=\"1\" class=\"\">1935</td><td colspan=\"1\" rowspan=\"1\" class=\"\">Top Hat</td><td colspan=\"1\" rowspan=\"1\" class=\"\">Top Hat</td><td colspan=\"1\" rowspan=\"1\" class=\"\">Fred Astaire</td></tr>\n",
       "<tr><td colspan=\"1\" rowspan=\"1\" class=\"\">tt0028333</td><td colspan=\"1\" rowspan=\"1\" class=\"\">1936</td><td colspan=\"1\" rowspan=\"1\" class=\"\">Swing Time</td><td colspan=\"1\" rowspan=\"1\" class=\"\">Swing Time</td><td colspan=\"1\" rowspan=\"1\" class=\"\">Fred Astaire</td></tr>\n",
       "<tr><td colspan=\"1\" rowspan=\"1\" class=\"\">tt0034862</td><td colspan=\"1\" rowspan=\"1\" class=\"\">1942</td><td colspan=\"1\" rowspan=\"1\" class=\"\">Holiday Inn</td><td colspan=\"1\" rowspan=\"1\" class=\"\">Holiday Inn</td><td colspan=\"1\" rowspan=\"1\" class=\"\">Fred Astaire</td></tr>\n",
       "<tr><td colspan=\"1\" rowspan=\"1\" class=\"\">tt0050419</td><td colspan=\"1\" rowspan=\"1\" class=\"\">1957</td><td colspan=\"1\" rowspan=\"1\" class=\"\">Funny Face</td><td colspan=\"1\" rowspan=\"1\" class=\"\">Funny Face</td><td colspan=\"1\" rowspan=\"1\" class=\"\">Fred Astaire</td></tr>\n",
       "<tr><td colspan=\"1\" rowspan=\"1\" class=\"\">tt0053137</td><td colspan=\"1\" rowspan=\"1\" class=\"\">1959</td><td colspan=\"1\" rowspan=\"1\" class=\"\">On the Beach</td><td colspan=\"1\" rowspan=\"1\" class=\"\">On the Beach</td><td colspan=\"1\" rowspan=\"1\" class=\"\">Fred Astaire</td></tr>\n",
       "<tr><td colspan=\"1\" rowspan=\"1\" class=\"\">tt0037382</td><td colspan=\"1\" rowspan=\"1\" class=\"\">1944</td><td colspan=\"1\" rowspan=\"1\" class=\"\">To Have and Have Not</td><td colspan=\"1\" rowspan=\"1\" class=\"\">To Have and Have Not</td><td colspan=\"1\" rowspan=\"1\" class=\"\">Lauren Bacall</td></tr>\n",
       "<tr><td colspan=\"1\" rowspan=\"1\" class=\"\">tt0038355</td><td colspan=\"1\" rowspan=\"1\" class=\"\">1946</td><td colspan=\"1\" rowspan=\"1\" class=\"\">The Big Sleep</td><td colspan=\"1\" rowspan=\"1\" class=\"\">The Big Sleep</td><td colspan=\"1\" rowspan=\"1\" class=\"\">Lauren Bacall</td></tr>\n",
       "<tr><td colspan=\"1\" rowspan=\"1\" class=\"\">tt0039302</td><td colspan=\"1\" rowspan=\"1\" class=\"\">1947</td><td colspan=\"1\" rowspan=\"1\" class=\"\">Dark Passage</td><td colspan=\"1\" rowspan=\"1\" class=\"\">Dark Passage</td><td colspan=\"1\" rowspan=\"1\" class=\"\">Lauren Bacall</td></tr>\n",
       "<tr><td colspan=\"1\" rowspan=\"1\" class=\"\">tt0040506</td><td colspan=\"1\" rowspan=\"1\" class=\"\">1948</td><td colspan=\"1\" rowspan=\"1\" class=\"\">Key Largo</td><td colspan=\"1\" rowspan=\"1\" class=\"\">Key Largo</td><td colspan=\"1\" rowspan=\"1\" class=\"\">Lauren Bacall</td></tr>\n",
       "<tr><td colspan=\"1\" rowspan=\"1\" class=\"\">tt0045891</td><td colspan=\"1\" rowspan=\"1\" class=\"\">1953</td><td colspan=\"1\" rowspan=\"1\" class=\"\">How to Marry a Millionaire</td><td colspan=\"1\" rowspan=\"1\" class=\"\">How to Marry a Millionaire</td><td colspan=\"1\" rowspan=\"1\" class=\"\">Lauren Bacall</td></tr>\n",
       "</table>"
      ],
      "text/plain": [
       "<raw_magic.nested_table.NestedTable at 0x1208f1580>"
      ]
     },
     "execution_count": 23,
     "metadata": {},
     "output_type": "execute_result"
    }
   ],
   "source": [
    "%%rql\n",
    "\n",
    "SELECT * FROM READ_PGSQL(\"psql01\", \"public\", \"movies\") LIMIT 10"
   ]
  },
  {
   "cell_type": "markdown",
   "metadata": {},
   "source": [
    "Note that many operations will be pushed down and executed in the database system directly."
   ]
  },
  {
   "cell_type": "code",
   "execution_count": 25,
   "metadata": {},
   "outputs": [
    {
     "data": {
      "text/html": [
       "<table class=\"nested-table\">\n",
       "<tr><th colspan=\"1\" rowspan=\"1\">tconst</th><th colspan=\"1\" rowspan=\"1\">startyear</th><th colspan=\"1\" rowspan=\"1\">primarytitle</th><th colspan=\"1\" rowspan=\"1\">originaltitle</th><th colspan=\"1\" rowspan=\"1\">primaryname</th></tr>\n",
       "<tr><td colspan=\"1\" rowspan=\"1\" class=\"\">tt0025913</td><td colspan=\"1\" rowspan=\"1\" class=\"\">1935</td><td colspan=\"1\" rowspan=\"1\" class=\"\">Triumph of the Will</td><td colspan=\"1\" rowspan=\"1\" class=\"\">Triumph des Willens</td><td colspan=\"1\" rowspan=\"1\" class=\"\">Karl Attenberger</td></tr>\n",
       "<tr><td colspan=\"1\" rowspan=\"1\" class=\"\">tt0025913</td><td colspan=\"1\" rowspan=\"1\" class=\"\">1935</td><td colspan=\"1\" rowspan=\"1\" class=\"\">Triumph of the Will</td><td colspan=\"1\" rowspan=\"1\" class=\"\">Triumph des Willens</td><td colspan=\"1\" rowspan=\"1\" class=\"\">Adolf Hitler</td></tr>\n",
       "<tr><td colspan=\"1\" rowspan=\"1\" class=\"\">tt0025913</td><td colspan=\"1\" rowspan=\"1\" class=\"\">1935</td><td colspan=\"1\" rowspan=\"1\" class=\"\">Triumph of the Will</td><td colspan=\"1\" rowspan=\"1\" class=\"\">Triumph des Willens</td><td colspan=\"1\" rowspan=\"1\" class=\"\">Hermann Göring</td></tr>\n",
       "<tr><td colspan=\"1\" rowspan=\"1\" class=\"\">tt0025913</td><td colspan=\"1\" rowspan=\"1\" class=\"\">1935</td><td colspan=\"1\" rowspan=\"1\" class=\"\">Triumph of the Will</td><td colspan=\"1\" rowspan=\"1\" class=\"\">Triumph des Willens</td><td colspan=\"1\" rowspan=\"1\" class=\"\">Max Amann</td></tr>\n",
       "<tr><td colspan=\"1\" rowspan=\"1\" class=\"\">tt0025913</td><td colspan=\"1\" rowspan=\"1\" class=\"\">1935</td><td colspan=\"1\" rowspan=\"1\" class=\"\">Triumph of the Will</td><td colspan=\"1\" rowspan=\"1\" class=\"\">Triumph des Willens</td><td colspan=\"1\" rowspan=\"1\" class=\"\">Martin Bormann</td></tr>\n",
       "<tr><td colspan=\"1\" rowspan=\"1\" class=\"\">tt0025913</td><td colspan=\"1\" rowspan=\"1\" class=\"\">1935</td><td colspan=\"1\" rowspan=\"1\" class=\"\">Triumph of the Will</td><td colspan=\"1\" rowspan=\"1\" class=\"\">Triumph des Willens</td><td colspan=\"1\" rowspan=\"1\" class=\"\">Leni Riefenstahl</td></tr>\n",
       "<tr><td colspan=\"1\" rowspan=\"1\" class=\"\">tt0025913</td><td colspan=\"1\" rowspan=\"1\" class=\"\">1935</td><td colspan=\"1\" rowspan=\"1\" class=\"\">Triumph of the Will</td><td colspan=\"1\" rowspan=\"1\" class=\"\">Triumph des Willens</td><td colspan=\"1\" rowspan=\"1\" class=\"\">Walter Ruttmann</td></tr>\n",
       "<tr><td colspan=\"1\" rowspan=\"1\" class=\"\">tt0025913</td><td colspan=\"1\" rowspan=\"1\" class=\"\">1935</td><td colspan=\"1\" rowspan=\"1\" class=\"\">Triumph of the Will</td><td colspan=\"1\" rowspan=\"1\" class=\"\">Triumph des Willens</td><td colspan=\"1\" rowspan=\"1\" class=\"\">Herbert Windt</td></tr>\n",
       "<tr><td colspan=\"1\" rowspan=\"1\" class=\"\">tt0025913</td><td colspan=\"1\" rowspan=\"1\" class=\"\">1935</td><td colspan=\"1\" rowspan=\"1\" class=\"\">Triumph of the Will</td><td colspan=\"1\" rowspan=\"1\" class=\"\">Triumph des Willens</td><td colspan=\"1\" rowspan=\"1\" class=\"\">Sepp Allgeier</td></tr>\n",
       "<tr><td colspan=\"1\" rowspan=\"1\" class=\"\">tt0026029</td><td colspan=\"1\" rowspan=\"1\" class=\"\">1935</td><td colspan=\"1\" rowspan=\"1\" class=\"\">The 39 Steps</td><td colspan=\"1\" rowspan=\"1\" class=\"\">The 39 Steps</td><td colspan=\"1\" rowspan=\"1\" class=\"\">Derek N. Twist</td></tr>\n",
       "</table>"
      ],
      "text/plain": [
       "<raw_magic.nested_table.NestedTable at 0x1208f1b50>"
      ]
     },
     "execution_count": 25,
     "metadata": {},
     "output_type": "execute_result"
    }
   ],
   "source": [
    "%%rql\n",
    "\n",
    "SELECT * FROM READ_PGSQL(\"psql01\", \"public\", \"movies\") WHERE startyear=1935 LIMIT 10"
   ]
  },
  {
   "cell_type": "markdown",
   "metadata": {},
   "source": [
    "**Next:** [Debugging Queries](Debugging%20Queries.ipynb)"
   ]
  }
 ],
 "metadata": {
  "kernelspec": {
   "display_name": "Python 3",
   "language": "python",
   "name": "python3"
  },
  "language_info": {
   "codemirror_mode": {
    "name": "ipython",
    "version": 3
   },
   "file_extension": ".py",
   "mimetype": "text/x-python",
   "name": "python",
   "nbconvert_exporter": "python",
   "pygments_lexer": "ipython3",
   "version": "3.8.5"
  }
 },
 "nbformat": 4,
 "nbformat_minor": 4
}
