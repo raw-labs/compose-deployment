{
 "cells": [
  {
   "cell_type": "markdown",
   "metadata": {},
   "source": [
    "# Keeping materialized views up to date\n",
    "Materialized views are automatically refreshed after their cache has expired. In this notebook, we illustrate how to efficiently define a materialized view to be \"the last week of data\" of a very large RDMBS table."
   ]
  },
  {
   "cell_type": "code",
   "execution_count": 1,
   "metadata": {},
   "outputs": [],
   "source": [
    "%load_ext raw_magic"
   ]
  },
  {
   "cell_type": "markdown",
   "metadata": {},
   "source": [
    "An RDBMS table contains historical information about taxis trips. Data is added daily to the table."
   ]
  },
  {
   "cell_type": "code",
   "execution_count": 2,
   "metadata": {},
   "outputs": [
    {
     "data": {
      "text/html": [
       "<table class=\"nested-table\">\n",
       "<tr><th colspan=\"1\" rowspan=\"1\">vendorid</th><th colspan=\"1\" rowspan=\"1\">tpep_pickup_datetime</th><th colspan=\"1\" rowspan=\"1\">tpep_dropoff_datetime</th><th colspan=\"1\" rowspan=\"1\">passenger_count</th><th colspan=\"1\" rowspan=\"1\">trip_distance</th><th colspan=\"1\" rowspan=\"1\">ratecodeid</th><th colspan=\"1\" rowspan=\"1\">store_and_fwd_flag</th><th colspan=\"1\" rowspan=\"1\">pulocationid</th><th colspan=\"1\" rowspan=\"1\">dolocationid</th><th colspan=\"1\" rowspan=\"1\">payment_type</th><th colspan=\"1\" rowspan=\"1\">fare_amount</th><th colspan=\"1\" rowspan=\"1\">extra</th><th colspan=\"1\" rowspan=\"1\">mta_tax</th><th colspan=\"1\" rowspan=\"1\">tip_amount</th><th colspan=\"1\" rowspan=\"1\">tolls_amount</th><th colspan=\"1\" rowspan=\"1\">improvement_surcharge</th><th colspan=\"1\" rowspan=\"1\">total_amount</th></tr>\n",
       "<tr><td colspan=\"1\" rowspan=\"1\" class=\"\">4</td><td colspan=\"1\" rowspan=\"1\" class=\"\">2018-10-06 23:59:57</td><td colspan=\"1\" rowspan=\"1\" class=\"\">2018-10-07 00:13:16</td><td colspan=\"1\" rowspan=\"1\" class=\"\">1</td><td colspan=\"1\" rowspan=\"1\" class=\"\">3.67</td><td colspan=\"1\" rowspan=\"1\" class=\"\">1</td><td colspan=\"1\" rowspan=\"1\" class=\"\">N</td><td colspan=\"1\" rowspan=\"1\" class=\"\">163</td><td colspan=\"1\" rowspan=\"1\" class=\"\">74</td><td colspan=\"1\" rowspan=\"1\" class=\"\">1</td><td colspan=\"1\" rowspan=\"1\" class=\"\">13.0</td><td colspan=\"1\" rowspan=\"1\" class=\"\">0.5</td><td colspan=\"1\" rowspan=\"1\" class=\"\">0.5</td><td colspan=\"1\" rowspan=\"1\" class=\"\">2.86</td><td colspan=\"1\" rowspan=\"1\" class=\"\">0.0</td><td colspan=\"1\" rowspan=\"1\" class=\"\">0.3</td><td colspan=\"1\" rowspan=\"1\" class=\"\">17.16</td></tr>\n",
       "<tr><td colspan=\"1\" rowspan=\"1\" class=\"\">4</td><td colspan=\"1\" rowspan=\"1\" class=\"\">2018-10-06 23:59:47</td><td colspan=\"1\" rowspan=\"1\" class=\"\">2018-10-07 00:25:14</td><td colspan=\"1\" rowspan=\"1\" class=\"\">1</td><td colspan=\"1\" rowspan=\"1\" class=\"\">6.02</td><td colspan=\"1\" rowspan=\"1\" class=\"\">1</td><td colspan=\"1\" rowspan=\"1\" class=\"\">N</td><td colspan=\"1\" rowspan=\"1\" class=\"\">151</td><td colspan=\"1\" rowspan=\"1\" class=\"\">211</td><td colspan=\"1\" rowspan=\"1\" class=\"\">2</td><td colspan=\"1\" rowspan=\"1\" class=\"\">21.0</td><td colspan=\"1\" rowspan=\"1\" class=\"\">0.5</td><td colspan=\"1\" rowspan=\"1\" class=\"\">0.5</td><td colspan=\"1\" rowspan=\"1\" class=\"\">0.0</td><td colspan=\"1\" rowspan=\"1\" class=\"\">0.0</td><td colspan=\"1\" rowspan=\"1\" class=\"\">0.3</td><td colspan=\"1\" rowspan=\"1\" class=\"\">22.3</td></tr>\n",
       "<tr><td colspan=\"1\" rowspan=\"1\" class=\"\">4</td><td colspan=\"1\" rowspan=\"1\" class=\"\">2018-10-06 23:59:07</td><td colspan=\"1\" rowspan=\"1\" class=\"\">2018-10-07 00:15:51</td><td colspan=\"1\" rowspan=\"1\" class=\"\">1</td><td colspan=\"1\" rowspan=\"1\" class=\"\">3.23</td><td colspan=\"1\" rowspan=\"1\" class=\"\">1</td><td colspan=\"1\" rowspan=\"1\" class=\"\">N</td><td colspan=\"1\" rowspan=\"1\" class=\"\">158</td><td colspan=\"1\" rowspan=\"1\" class=\"\">48</td><td colspan=\"1\" rowspan=\"1\" class=\"\">2</td><td colspan=\"1\" rowspan=\"1\" class=\"\">14.0</td><td colspan=\"1\" rowspan=\"1\" class=\"\">0.5</td><td colspan=\"1\" rowspan=\"1\" class=\"\">0.5</td><td colspan=\"1\" rowspan=\"1\" class=\"\">0.0</td><td colspan=\"1\" rowspan=\"1\" class=\"\">0.0</td><td colspan=\"1\" rowspan=\"1\" class=\"\">0.3</td><td colspan=\"1\" rowspan=\"1\" class=\"\">15.3</td></tr>\n",
       "<tr><td colspan=\"1\" rowspan=\"1\" class=\"\">4</td><td colspan=\"1\" rowspan=\"1\" class=\"\">2018-10-06 23:58:13</td><td colspan=\"1\" rowspan=\"1\" class=\"\">2018-10-07 00:09:01</td><td colspan=\"1\" rowspan=\"1\" class=\"\">1</td><td colspan=\"1\" rowspan=\"1\" class=\"\">2.1</td><td colspan=\"1\" rowspan=\"1\" class=\"\">1</td><td colspan=\"1\" rowspan=\"1\" class=\"\">N</td><td colspan=\"1\" rowspan=\"1\" class=\"\">238</td><td colspan=\"1\" rowspan=\"1\" class=\"\">141</td><td colspan=\"1\" rowspan=\"1\" class=\"\">2</td><td colspan=\"1\" rowspan=\"1\" class=\"\">9.5</td><td colspan=\"1\" rowspan=\"1\" class=\"\">0.5</td><td colspan=\"1\" rowspan=\"1\" class=\"\">0.5</td><td colspan=\"1\" rowspan=\"1\" class=\"\">0.0</td><td colspan=\"1\" rowspan=\"1\" class=\"\">0.0</td><td colspan=\"1\" rowspan=\"1\" class=\"\">0.3</td><td colspan=\"1\" rowspan=\"1\" class=\"\">10.8</td></tr>\n",
       "<tr><td colspan=\"1\" rowspan=\"1\" class=\"\">4</td><td colspan=\"1\" rowspan=\"1\" class=\"\">2018-10-06 23:58:01</td><td colspan=\"1\" rowspan=\"1\" class=\"\">2018-10-07 00:04:17</td><td colspan=\"1\" rowspan=\"1\" class=\"\">1</td><td colspan=\"1\" rowspan=\"1\" class=\"\">1.37</td><td colspan=\"1\" rowspan=\"1\" class=\"\">1</td><td colspan=\"1\" rowspan=\"1\" class=\"\">N</td><td colspan=\"1\" rowspan=\"1\" class=\"\">107</td><td colspan=\"1\" rowspan=\"1\" class=\"\">229</td><td colspan=\"1\" rowspan=\"1\" class=\"\">1</td><td colspan=\"1\" rowspan=\"1\" class=\"\">7.0</td><td colspan=\"1\" rowspan=\"1\" class=\"\">0.5</td><td colspan=\"1\" rowspan=\"1\" class=\"\">0.5</td><td colspan=\"1\" rowspan=\"1\" class=\"\">1.66</td><td colspan=\"1\" rowspan=\"1\" class=\"\">0.0</td><td colspan=\"1\" rowspan=\"1\" class=\"\">0.3</td><td colspan=\"1\" rowspan=\"1\" class=\"\">9.96</td></tr>\n",
       "<tr><td colspan=\"1\" rowspan=\"1\" class=\"\">4</td><td colspan=\"1\" rowspan=\"1\" class=\"\">2018-10-06 23:57:49</td><td colspan=\"1\" rowspan=\"1\" class=\"\">2018-10-07 00:13:21</td><td colspan=\"1\" rowspan=\"1\" class=\"\">1</td><td colspan=\"1\" rowspan=\"1\" class=\"\">2.65</td><td colspan=\"1\" rowspan=\"1\" class=\"\">1</td><td colspan=\"1\" rowspan=\"1\" class=\"\">N</td><td colspan=\"1\" rowspan=\"1\" class=\"\">142</td><td colspan=\"1\" rowspan=\"1\" class=\"\">107</td><td colspan=\"1\" rowspan=\"1\" class=\"\">1</td><td colspan=\"1\" rowspan=\"1\" class=\"\">12.0</td><td colspan=\"1\" rowspan=\"1\" class=\"\">0.5</td><td colspan=\"1\" rowspan=\"1\" class=\"\">0.5</td><td colspan=\"1\" rowspan=\"1\" class=\"\">2.66</td><td colspan=\"1\" rowspan=\"1\" class=\"\">0.0</td><td colspan=\"1\" rowspan=\"1\" class=\"\">0.3</td><td colspan=\"1\" rowspan=\"1\" class=\"\">15.96</td></tr>\n",
       "<tr><td colspan=\"1\" rowspan=\"1\" class=\"\">4</td><td colspan=\"1\" rowspan=\"1\" class=\"\">2018-10-06 23:57:34</td><td colspan=\"1\" rowspan=\"1\" class=\"\">2018-10-07 00:09:27</td><td colspan=\"1\" rowspan=\"1\" class=\"\">1</td><td colspan=\"1\" rowspan=\"1\" class=\"\">2.85</td><td colspan=\"1\" rowspan=\"1\" class=\"\">1</td><td colspan=\"1\" rowspan=\"1\" class=\"\">N</td><td colspan=\"1\" rowspan=\"1\" class=\"\">45</td><td colspan=\"1\" rowspan=\"1\" class=\"\">189</td><td colspan=\"1\" rowspan=\"1\" class=\"\">2</td><td colspan=\"1\" rowspan=\"1\" class=\"\">12.0</td><td colspan=\"1\" rowspan=\"1\" class=\"\">0.5</td><td colspan=\"1\" rowspan=\"1\" class=\"\">0.5</td><td colspan=\"1\" rowspan=\"1\" class=\"\">0.0</td><td colspan=\"1\" rowspan=\"1\" class=\"\">0.0</td><td colspan=\"1\" rowspan=\"1\" class=\"\">0.3</td><td colspan=\"1\" rowspan=\"1\" class=\"\">13.3</td></tr>\n",
       "<tr><td colspan=\"1\" rowspan=\"1\" class=\"\">4</td><td colspan=\"1\" rowspan=\"1\" class=\"\">2018-10-06 23:56:39</td><td colspan=\"1\" rowspan=\"1\" class=\"\">2018-10-07 00:04:41</td><td colspan=\"1\" rowspan=\"1\" class=\"\">1</td><td colspan=\"1\" rowspan=\"1\" class=\"\">1.33</td><td colspan=\"1\" rowspan=\"1\" class=\"\">1</td><td colspan=\"1\" rowspan=\"1\" class=\"\">N</td><td colspan=\"1\" rowspan=\"1\" class=\"\">164</td><td colspan=\"1\" rowspan=\"1\" class=\"\">68</td><td colspan=\"1\" rowspan=\"1\" class=\"\">1</td><td colspan=\"1\" rowspan=\"1\" class=\"\">7.0</td><td colspan=\"1\" rowspan=\"1\" class=\"\">0.5</td><td colspan=\"1\" rowspan=\"1\" class=\"\">0.5</td><td colspan=\"1\" rowspan=\"1\" class=\"\">1.66</td><td colspan=\"1\" rowspan=\"1\" class=\"\">0.0</td><td colspan=\"1\" rowspan=\"1\" class=\"\">0.3</td><td colspan=\"1\" rowspan=\"1\" class=\"\">9.96</td></tr>\n",
       "<tr><td colspan=\"1\" rowspan=\"1\" class=\"\">4</td><td colspan=\"1\" rowspan=\"1\" class=\"\">2018-10-06 23:56:21</td><td colspan=\"1\" rowspan=\"1\" class=\"\">2018-10-07 00:13:29</td><td colspan=\"1\" rowspan=\"1\" class=\"\">1</td><td colspan=\"1\" rowspan=\"1\" class=\"\">3.21</td><td colspan=\"1\" rowspan=\"1\" class=\"\">1</td><td colspan=\"1\" rowspan=\"1\" class=\"\">N</td><td colspan=\"1\" rowspan=\"1\" class=\"\">114</td><td colspan=\"1\" rowspan=\"1\" class=\"\">237</td><td colspan=\"1\" rowspan=\"1\" class=\"\">1</td><td colspan=\"1\" rowspan=\"1\" class=\"\">14.0</td><td colspan=\"1\" rowspan=\"1\" class=\"\">0.5</td><td colspan=\"1\" rowspan=\"1\" class=\"\">0.5</td><td colspan=\"1\" rowspan=\"1\" class=\"\">3.83</td><td colspan=\"1\" rowspan=\"1\" class=\"\">0.0</td><td colspan=\"1\" rowspan=\"1\" class=\"\">0.3</td><td colspan=\"1\" rowspan=\"1\" class=\"\">19.13</td></tr>\n",
       "<tr><td colspan=\"1\" rowspan=\"1\" class=\"\">4</td><td colspan=\"1\" rowspan=\"1\" class=\"\">2018-10-06 23:56:17</td><td colspan=\"1\" rowspan=\"1\" class=\"\">2018-10-07 00:00:00</td><td colspan=\"1\" rowspan=\"1\" class=\"\">1</td><td colspan=\"1\" rowspan=\"1\" class=\"\">0.91</td><td colspan=\"1\" rowspan=\"1\" class=\"\">1</td><td colspan=\"1\" rowspan=\"1\" class=\"\">N</td><td colspan=\"1\" rowspan=\"1\" class=\"\">236</td><td colspan=\"1\" rowspan=\"1\" class=\"\">239</td><td colspan=\"1\" rowspan=\"1\" class=\"\">2</td><td colspan=\"1\" rowspan=\"1\" class=\"\">5.0</td><td colspan=\"1\" rowspan=\"1\" class=\"\">0.5</td><td colspan=\"1\" rowspan=\"1\" class=\"\">0.5</td><td colspan=\"1\" rowspan=\"1\" class=\"\">0.0</td><td colspan=\"1\" rowspan=\"1\" class=\"\">0.0</td><td colspan=\"1\" rowspan=\"1\" class=\"\">0.3</td><td colspan=\"1\" rowspan=\"1\" class=\"\">6.3</td></tr>\n",
       "</table>"
      ],
      "text/plain": [
       "<raw_magic.nested_table.NestedTable at 0x7f08c8939400>"
      ]
     },
     "execution_count": 2,
     "metadata": {},
     "output_type": "execute_result"
    }
   ],
   "source": [
    "%%rql\n",
    "SELECT *\n",
    "FROM READ_PGSQL(\"psql01\", \"public\", \"taxis\")\n",
    "ORDER BY tpep_pickup_datetime DESC\n",
    "LIMIT 10"
   ]
  },
  {
   "cell_type": "markdown",
   "metadata": {},
   "source": [
    "We would like to work against this table. More specifically, we'd like to analyze the most recent trips only (a week of data).\n",
    "\n",
    "Materializing the full table would be an option. However, since we are interested in recent rows only and need frequent updates, a materialized view which evaluates to the most recent data only would be cheaper to create, and faster to query.\n",
    "\n",
    "In the table, one of the columns permits to identify the recent rows. It's a timestamp which value is the\n",
    "taxi trip pickup time. It is called `tpep_pickup_datetime`. The maximum value found in that column is therefore the time of the most recent trip."
   ]
  },
  {
   "cell_type": "code",
   "execution_count": 28,
   "metadata": {},
   "outputs": [
    {
     "data": {
      "text/html": [
       "<table class=\"nested-table\">\n",
       "<tr><th colspan=\"1\" rowspan=\"1\">timestamp</th></tr>\n",
       "<tr><td colspan=\"1\" rowspan=\"1\" class=\"\">2018-10-06 23:59:57</td></tr>\n",
       "</table>"
      ],
      "text/plain": [
       "<raw_magic.nested_table.NestedTable at 0x7f16a421aac8>"
      ]
     },
     "execution_count": 28,
     "metadata": {},
     "output_type": "execute_result"
    }
   ],
   "source": [
    "%%rql\n",
    "SELECT MAX(tpep_pickup_datetime)\n",
    "FROM taxis_trips"
   ]
  },
  {
   "cell_type": "markdown",
   "metadata": {},
   "source": [
    "Trips that have been registered recently can be queried by filtering rows which `tpep_pickup_datetime` is recent enough compared to the maximum value found in the column.\n",
    "\n",
    "A materialized view which first computes `MAX(tpep_pickup_datetime)` and filters the most recent rows is what we need:\n",
    "* It contains only the rows we're interested in (seven days),\n",
    "* Its content will automatically be updated after the `cache` parameter (three days) has expired."
   ]
  },
  {
   "cell_type": "code",
   "execution_count": 3,
   "metadata": {},
   "outputs": [
    {
     "data": {
      "text/plain": [
       "Materialized view \"taxis_7_days\" created"
      ]
     },
     "execution_count": 3,
     "metadata": {},
     "output_type": "execute_result"
    }
   ],
   "source": [
    "%%materialized_view taxis_7_days\n",
    "taxis_trips := SELECT *\n",
    "    FROM READ_PGSQL(\"psql01\", \"public\", \"taxis\", cache := INTERVAL \"3 DAYS\");\n",
    "\n",
    "// Time of the most recent trip\n",
    "max_pickup_time :=\n",
    "    SELECT MAX(tpep_pickup_datetime)\n",
    "    FROM taxis_trips;\n",
    "\n",
    "// Recent trips obtained by comparing them to the most recent one\n",
    "SELECT *\n",
    "FROM taxis_trips\n",
    "WHERE tpep_pickup_datetime > max_pickup_time - INTERVAL \"7 DAYS\""
   ]
  },
  {
   "cell_type": "markdown",
   "metadata": {},
   "source": [
    "The materialized view is defined. Its content (last seven days) is saved to storage when queried for the first time. Since a cache value of three days is specified, the materialized view is reused for three days."
   ]
  },
  {
   "cell_type": "code",
   "execution_count": 4,
   "metadata": {},
   "outputs": [
    {
     "data": {
      "text/html": [
       "<table class=\"nested-table\">\n",
       "<tr><th colspan=\"1\" rowspan=\"1\">day</th><th colspan=\"1\" rowspan=\"1\">distance</th><th colspan=\"1\" rowspan=\"1\">tip</th></tr>\n",
       "<tr><td colspan=\"1\" rowspan=\"1\" class=\"\">2018-10-01</td><td colspan=\"1\" rowspan=\"1\" class=\"\">2.7731755</td><td colspan=\"1\" rowspan=\"1\" class=\"\">1.8677278</td></tr>\n",
       "<tr><td colspan=\"1\" rowspan=\"1\" class=\"\">2018-10-02</td><td colspan=\"1\" rowspan=\"1\" class=\"\">2.462535</td><td colspan=\"1\" rowspan=\"1\" class=\"\">1.8807161</td></tr>\n",
       "<tr><td colspan=\"1\" rowspan=\"1\" class=\"\">2018-10-03</td><td colspan=\"1\" rowspan=\"1\" class=\"\">2.6820798</td><td colspan=\"1\" rowspan=\"1\" class=\"\">2.0005193</td></tr>\n",
       "<tr><td colspan=\"1\" rowspan=\"1\" class=\"\">2018-10-04</td><td colspan=\"1\" rowspan=\"1\" class=\"\">2.6743288</td><td colspan=\"1\" rowspan=\"1\" class=\"\">2.1794941</td></tr>\n",
       "<tr><td colspan=\"1\" rowspan=\"1\" class=\"\">2018-10-05</td><td colspan=\"1\" rowspan=\"1\" class=\"\">2.753082</td><td colspan=\"1\" rowspan=\"1\" class=\"\">2.1552367</td></tr>\n",
       "<tr><td colspan=\"1\" rowspan=\"1\" class=\"\">2018-10-06</td><td colspan=\"1\" rowspan=\"1\" class=\"\">2.5622776</td><td colspan=\"1\" rowspan=\"1\" class=\"\">1.6799399</td></tr>\n",
       "</table>"
      ],
      "text/plain": [
       "<raw_magic.nested_table.NestedTable at 0x7f08c8939670>"
      ]
     },
     "execution_count": 4,
     "metadata": {},
     "output_type": "execute_result"
    }
   ],
   "source": [
    "%%rql\n",
    "SELECT day, AVG(trip_distance) AS distance, AVG(tip_amount) AS tip\n",
    "FROM taxis_7_days\n",
    "GROUP BY CAST(tpep_pickup_datetime AS DATE) AS day\n",
    "ORDER BY day"
   ]
  },
  {
   "cell_type": "markdown",
   "metadata": {},
   "source": [
    "Three days later, one of our queries runs after the cache duration has expired. The materialized view is then recomputed automatically. In that moment, it has been three days the RDBMS table had new rows inserted. The materialized view execution will compute `MAX(tpep_pickup_datetime)` over these more recent rows, and as expected, newer records will be returned when filtering the last seven days."
   ]
  }
 ],
 "metadata": {
  "kernelspec": {
   "display_name": "Python 3",
   "language": "python",
   "name": "python3"
  },
  "language_info": {
   "codemirror_mode": {
    "name": "ipython",
    "version": 3
   },
   "file_extension": ".py",
   "mimetype": "text/x-python",
   "name": "python",
   "nbconvert_exporter": "python",
   "pygments_lexer": "ipython3",
   "version": "3.8.5"
  }
 },
 "nbformat": 4,
 "nbformat_minor": 5
}
