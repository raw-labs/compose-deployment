{
 "cells": [
  {
   "cell_type": "markdown",
   "metadata": {},
   "source": [
    "# Packages\n",
    "\n",
    "In addition to views and materialized views, RAW has packages, which are a more advanced mechanism to organize queries in RAW."
   ]
  },
  {
   "cell_type": "code",
   "execution_count": 3,
   "metadata": {},
   "outputs": [
    {
     "name": "stdout",
     "output_type": "stream",
     "text": [
      "The raw_magic extension is already loaded. To reload it, use:\n",
      "  %reload_ext raw_magic\n"
     ]
    }
   ],
   "source": [
    "%load_ext raw_magic"
   ]
  },
  {
   "cell_type": "markdown",
   "metadata": {},
   "source": [
    "Packages are used to organize queries together and have them accessible under a single name.\n",
    "\n",
    "The Jupyter magic `%%package` is used to create a package.\n",
    "\n",
    "Packages can export multiple declarations or functions.\n",
    "\n",
    "For example:"
   ]
  },
  {
   "cell_type": "code",
   "execution_count": 9,
   "metadata": {},
   "outputs": [
    {
     "name": "stdout",
     "output_type": "stream",
     "text": [
      "Package \"package1\" was replaced\n"
     ]
    }
   ],
   "source": [
    "%%package package1\n",
    "\n",
    "airports := SELECT * FROM READ(\"https://raw-tutorial.s3.amazonaws.com/airports.csv\");\n",
    "    \n",
    "airports_by_country := SELECT Country, * FROM airports GROUP BY Country;\n",
    "    \n",
    "airports_in_city(city: string) := SELECT * FROM airports WHERE City = city;"
   ]
  },
  {
   "cell_type": "markdown",
   "metadata": {},
   "source": [
    "To use a package in RQL, use the `from <package name> import <declaration>, <declaration>` syntax."
   ]
  },
  {
   "cell_type": "code",
   "execution_count": 7,
   "metadata": {},
   "outputs": [
    {
     "data": {
      "text/html": [
       "<table class=\"nested-table\">\n",
       "<tr><th colspan=\"1\" rowspan=\"1\">AirportID</th><th colspan=\"1\" rowspan=\"1\">Name</th><th colspan=\"1\" rowspan=\"1\">City</th><th colspan=\"1\" rowspan=\"1\">Country</th><th colspan=\"1\" rowspan=\"1\">IATA_FAA</th><th colspan=\"1\" rowspan=\"1\">ICAO</th><th colspan=\"1\" rowspan=\"1\">Latitude</th><th colspan=\"1\" rowspan=\"1\">Longitude</th><th colspan=\"1\" rowspan=\"1\">Altitude</th><th colspan=\"1\" rowspan=\"1\">Timezone</th><th colspan=\"1\" rowspan=\"1\">DST</th><th colspan=\"1\" rowspan=\"1\">TZ</th></tr>\n",
       "<tr><td colspan=\"1\" rowspan=\"1\" class=\"\">1638</td><td colspan=\"1\" rowspan=\"1\" class=\"\">Lisboa</td><td colspan=\"1\" rowspan=\"1\" class=\"\">Lisbon</td><td colspan=\"1\" rowspan=\"1\" class=\"\">Portugal</td><td colspan=\"1\" rowspan=\"1\" class=\"\">LIS</td><td colspan=\"1\" rowspan=\"1\" class=\"\">LPPT</td><td colspan=\"1\" rowspan=\"1\" class=\"\">38.781311</td><td colspan=\"1\" rowspan=\"1\" class=\"\">-9.135919</td><td colspan=\"1\" rowspan=\"1\" class=\"\">374</td><td colspan=\"1\" rowspan=\"1\" class=\"\">0.0</td><td colspan=\"1\" rowspan=\"1\" class=\"\">E</td><td colspan=\"1\" rowspan=\"1\" class=\"\">Europe/Lisbon</td></tr>\n",
       "<tr><td colspan=\"1\" rowspan=\"1\" class=\"\">7752</td><td colspan=\"1\" rowspan=\"1\" class=\"\">Lisbon Cruise Terminal</td><td colspan=\"1\" rowspan=\"1\" class=\"\">Lisbon</td><td colspan=\"1\" rowspan=\"1\" class=\"\">Portugal</td><td colspan=\"1\" rowspan=\"1\" class=\"\"></td><td colspan=\"1\" rowspan=\"1\" class=\"\">N</td><td colspan=\"1\" rowspan=\"1\" class=\"\">38.712606</td><td colspan=\"1\" rowspan=\"1\" class=\"\">-9.122483</td><td colspan=\"1\" rowspan=\"1\" class=\"\">0</td><td colspan=\"1\" rowspan=\"1\" class=\"\">0.0</td><td colspan=\"1\" rowspan=\"1\" class=\"\">E</td><td colspan=\"1\" rowspan=\"1\" class=\"\">Europe/Lisbon</td></tr>\n",
       "</table>"
      ],
      "text/plain": [
       "<raw_magic.nested_table.NestedTable at 0x10a6887f0>"
      ]
     },
     "execution_count": 7,
     "metadata": {},
     "output_type": "execute_result"
    }
   ],
   "source": [
    "%%rql\n",
    "\n",
    "FROM package1 IMPORT airports_in_city;\n",
    "\n",
    "SELECT * FROM airports_in_city(\"Lisbon\")"
   ]
  },
  {
   "cell_type": "markdown",
   "metadata": {},
   "source": [
    "When defining a package, declarations that are marked as private are not exported.\n",
    "\n",
    "For example in the following package, `a` is exported but `b` is not."
   ]
  },
  {
   "cell_type": "code",
   "execution_count": 10,
   "metadata": {},
   "outputs": [],
   "source": [
    "%%package package2\n",
    "\n",
    "a(v: int) := v + 1;\n",
    "    \n",
    "private b(v: int) := v * 2;"
   ]
  },
  {
   "cell_type": "code",
   "execution_count": 11,
   "metadata": {},
   "outputs": [
    {
     "data": {
      "text/html": [
       "<table class=\"nested-table\">\n",
       "<tr><th colspan=\"1\" rowspan=\"1\">int</th></tr>\n",
       "<tr><td colspan=\"1\" rowspan=\"1\" class=\"\">2</td></tr>\n",
       "</table>"
      ],
      "text/plain": [
       "<raw_magic.nested_table.NestedTable at 0x1093fe0a0>"
      ]
     },
     "execution_count": 11,
     "metadata": {},
     "output_type": "execute_result"
    }
   ],
   "source": [
    "%%rql\n",
    "\n",
    "FROM package2 IMPORT a;\n",
    "\n",
    "a(1)"
   ]
  },
  {
   "cell_type": "code",
   "execution_count": 12,
   "metadata": {},
   "outputs": [
    {
     "name": "stdout",
     "output_type": "stream",
     "text": [
      "b is not declared. Positions: 3:22 to 3:23\n",
      "  3: FROM package2 IMPORT b;\n",
      "                          ^^\n"
     ]
    }
   ],
   "source": [
    "%%rql\n",
    "\n",
    "FROM package2 IMPORT b;\n",
    "\n",
    "b(1)"
   ]
  },
  {
   "cell_type": "markdown",
   "metadata": {},
   "source": [
    "As expected, `b` is not available."
   ]
  },
  {
   "cell_type": "markdown",
   "metadata": {},
   "source": [
    "If a package includes an expression, this can also be imported.\n",
    "\n",
    "For instance, the following package defines one function but also a final expression:"
   ]
  },
  {
   "cell_type": "code",
   "execution_count": 15,
   "metadata": {},
   "outputs": [
    {
     "name": "stdout",
     "output_type": "stream",
     "text": [
      "Package \"package3\" was replaced\n"
     ]
    }
   ],
   "source": [
    "%%package package3\n",
    "\n",
    "f(v: string) := \"Hello \" + v;\n",
    "    \n",
    "\"World\""
   ]
  },
  {
   "cell_type": "code",
   "execution_count": 16,
   "metadata": {},
   "outputs": [
    {
     "data": {
      "text/html": [
       "<table class=\"nested-table\">\n",
       "<tr><th colspan=\"1\" rowspan=\"1\">string</th></tr>\n",
       "<tr><td colspan=\"1\" rowspan=\"1\" class=\"\">Hello World</td></tr>\n",
       "</table>"
      ],
      "text/plain": [
       "<raw_magic.nested_table.NestedTable at 0x109459550>"
      ]
     },
     "execution_count": 16,
     "metadata": {},
     "output_type": "execute_result"
    }
   ],
   "source": [
    "%%rql\n",
    "\n",
    "FROM package3 IMPORT f;\n",
    "IMPORT package3;\n",
    "\n",
    "f(package3)"
   ]
  },
  {
   "cell_type": "markdown",
   "metadata": {},
   "source": [
    "This is because `IMPORT package3` assigns `package3` identifier to the expression in end of `package3`, which is \"World\"."
   ]
  },
  {
   "cell_type": "markdown",
   "metadata": {},
   "source": [
    "**Next:** [Data Catalog](Data%20Catalog.ipynb)"
   ]
  }
 ],
 "metadata": {
  "kernelspec": {
   "display_name": "Python 3",
   "language": "python",
   "name": "python3"
  },
  "language_info": {
   "codemirror_mode": {
    "name": "ipython",
    "version": 3
   },
   "file_extension": ".py",
   "mimetype": "text/x-python",
   "name": "python",
   "nbconvert_exporter": "python",
   "pygments_lexer": "ipython3",
   "version": "3.8.5"
  }
 },
 "nbformat": 4,
 "nbformat_minor": 4
}
