{
 "cells": [
  {
   "cell_type": "markdown",
   "metadata": {},
   "source": [
    "# Querying Complex Data\n",
    "\n",
    "One of the flagship features of RAW is the ability to query complex data.\n",
    "By complex data we mean datasets that have complex structures, with JSON or XML data being the most common examples.\n",
    "\n",
    "Traditional databases struggle to cope with complex data, and often require it to be \"flattened\" into tables and columns. This is cumbersome to do and often means some semantic information implicit in the structure is lost. More recent support - for JSON types for instance - helps somewhat, but it still falls short of providing enough query capabilities for complex data.\n",
    "\n",
    "As we will shall see, RAW supports complex data with ease and with few SQL extensions."
   ]
  },
  {
   "cell_type": "code",
   "execution_count": 27,
   "metadata": {},
   "outputs": [
    {
     "name": "stdout",
     "output_type": "stream",
     "text": [
      "The raw_magic extension is already loaded. To reload it, use:\n",
      "  %reload_ext raw_magic\n"
     ]
    }
   ],
   "source": [
    "%load_ext raw_magic"
   ]
  },
  {
   "cell_type": "markdown",
   "metadata": {},
   "source": [
    "## Querying JSON documents"
   ]
  },
  {
   "cell_type": "markdown",
   "metadata": {},
   "source": [
    "Let's start by a moderately simple JSON document.\n",
    "\n",
    "The file at https://raw-tutorial.s3.amazonaws.com/trips.json contains the following data:\n",
    "```json\n",
    "[\n",
    "  {\"reason\": \"Holidays\",\n",
    "   \"origin\": \"GVA\",\n",
    "   \"destination\": \"KEF\",\n",
    "   \"dates\": {\"departure\": \"2016/02/27\", \"arrival\": \"2016/03/06\"}},\n",
    "  {\"reason\": \"Work\",\n",
    "   \"origin\": \"GVA\",\n",
    "   \"destination\": \"SFO\",\n",
    "   \"dates\": {\"departure\": \"2016/04/10\", \"arrival\": \"2016/04/17\"}},\n",
    "  {\"reason\": \"Holidays\",\n",
    "   \"origin\": \"GVA\",\n",
    "   \"destination\": \"LCY\",\n",
    "   \"dates\": {\"departure\": \"2016/05/22\", \"arrival\": \"2016/05/29\"}}\n",
    "]\n",
    "```\n",
    "\n",
    "The `dates` field contains a JSON object with two fields: `departure` and `arrival`.\n",
    "\n",
    "These can be queried in RAW as in:"
   ]
  },
  {
   "cell_type": "code",
   "execution_count": 5,
   "metadata": {},
   "outputs": [
    {
     "data": {
      "text/html": [
       "<table class=\"nested-table\">\n",
       "<tr><th colspan=\"1\" rowspan=\"1\">origin</th><th colspan=\"1\" rowspan=\"1\">departure</th><th colspan=\"1\" rowspan=\"1\">arrival</th></tr>\n",
       "<tr><td colspan=\"1\" rowspan=\"1\" class=\"\">GVA</td><td colspan=\"1\" rowspan=\"1\" class=\"\">2016/02/27</td><td colspan=\"1\" rowspan=\"1\" class=\"\">2016/03/06</td></tr>\n",
       "<tr><td colspan=\"1\" rowspan=\"1\" class=\"\">GVA</td><td colspan=\"1\" rowspan=\"1\" class=\"\">2016/04/10</td><td colspan=\"1\" rowspan=\"1\" class=\"\">2016/04/17</td></tr>\n",
       "<tr><td colspan=\"1\" rowspan=\"1\" class=\"\">GVA</td><td colspan=\"1\" rowspan=\"1\" class=\"\">2016/05/22</td><td colspan=\"1\" rowspan=\"1\" class=\"\">2016/05/29</td></tr>\n",
       "</table>"
      ],
      "text/plain": [
       "<raw_magic.nested_table.NestedTable at 0x12a3b23d0>"
      ]
     },
     "execution_count": 5,
     "metadata": {},
     "output_type": "execute_result"
    }
   ],
   "source": [
    "%%rql\n",
    "\n",
    "SELECT origin, dates.departure AS departure, dates.arrival AS arrival\n",
    "FROM READ(\"https://raw-tutorial.s3.amazonaws.com/trips.json\")"
   ]
  },
  {
   "cell_type": "markdown",
   "metadata": {},
   "source": [
    "The `.` in `dates.departure` and `dates.arrival` is used to navigate inside the `dates` field."
   ]
  },
  {
   "cell_type": "markdown",
   "metadata": {},
   "source": [
    "Now let's query file at https://raw-tutorial.s3.amazonaws.com/sales.json, which contains the following data:\n",
    "```json\n",
    "[\n",
    "    {\"country\": \"CH\",\n",
    "     \"products\": [\n",
    "         {\"category\": \"Keyboard\", \"cost\": 50},\n",
    "         {\"category\": \"Keyboard\", \"cost\": 70},\n",
    "         {\"category\": \"Monitor\", \"cost\": 450}]},\n",
    "    {\"country\": \"US\",\n",
    "     \"products\": [\n",
    "        {\"category\": \"Keyboard\", \"cost\": 20},\n",
    "        {\"category\": \"Monitor\", \"cost\": 200}]}\n",
    "]\n",
    "```\n",
    "\n",
    "This is a list of two rows, in which the `products` field is a nested list of products. Each product has a `category` and a `cost` field.\n",
    "\n",
    "Let's start by a simple RAW query:"
   ]
  },
  {
   "cell_type": "code",
   "execution_count": 16,
   "metadata": {},
   "outputs": [
    {
     "data": {
      "text/html": [
       "<table class=\"nested-table\">\n",
       "<tr><th colspan=\"1\" rowspan=\"2\">country</th><th colspan=\"2\" rowspan=\"1\">products</th></tr>\n",
       "<tr><th colspan=\"1\" rowspan=\"1\">category</th><th colspan=\"1\" rowspan=\"1\">cost</th></tr>\n",
       "<tr><td colspan=\"1\" rowspan=\"3\" class=\"\">CH</td><td colspan=\"1\" rowspan=\"1\" class=\"\">Keyboard</td><td colspan=\"1\" rowspan=\"1\" class=\"\">50</td></tr>\n",
       "<tr><td colspan=\"1\" rowspan=\"1\" class=\"\">Keyboard</td><td colspan=\"1\" rowspan=\"1\" class=\"\">70</td></tr>\n",
       "<tr><td colspan=\"1\" rowspan=\"1\" class=\"\">Monitor</td><td colspan=\"1\" rowspan=\"1\" class=\"\">450</td></tr>\n",
       "<tr><td colspan=\"1\" rowspan=\"2\" class=\"\">US</td><td colspan=\"1\" rowspan=\"1\" class=\"\">Keyboard</td><td colspan=\"1\" rowspan=\"1\" class=\"\">20</td></tr>\n",
       "<tr><td colspan=\"1\" rowspan=\"1\" class=\"\">Monitor</td><td colspan=\"1\" rowspan=\"1\" class=\"\">200</td></tr>\n",
       "</table>"
      ],
      "text/plain": [
       "<raw_magic.nested_table.NestedTable at 0x12a3b2250>"
      ]
     },
     "execution_count": 16,
     "metadata": {},
     "output_type": "execute_result"
    }
   ],
   "source": [
    "%%rql\n",
    "\n",
    "SELECT sale.country, sale.products\n",
    "FROM READ(\"https://raw-tutorial.s3.amazonaws.com/sales.json\") AS sale"
   ]
  },
  {
   "cell_type": "markdown",
   "metadata": {},
   "source": [
    "Note that the data can be queried directly. The Jupyter client renders the nested output as shown above.\n",
    "\n",
    "We can now shape it into a flat table-like shape, by \"unnesting\" the nested list of products:"
   ]
  },
  {
   "cell_type": "code",
   "execution_count": 17,
   "metadata": {},
   "outputs": [
    {
     "data": {
      "text/html": [
       "<table class=\"nested-table\">\n",
       "<tr><th colspan=\"1\" rowspan=\"1\">country</th><th colspan=\"1\" rowspan=\"1\">category</th><th colspan=\"1\" rowspan=\"1\">cost</th></tr>\n",
       "<tr><td colspan=\"1\" rowspan=\"1\" class=\"\">CH</td><td colspan=\"1\" rowspan=\"1\" class=\"\">Keyboard</td><td colspan=\"1\" rowspan=\"1\" class=\"\">50</td></tr>\n",
       "<tr><td colspan=\"1\" rowspan=\"1\" class=\"\">CH</td><td colspan=\"1\" rowspan=\"1\" class=\"\">Keyboard</td><td colspan=\"1\" rowspan=\"1\" class=\"\">70</td></tr>\n",
       "<tr><td colspan=\"1\" rowspan=\"1\" class=\"\">CH</td><td colspan=\"1\" rowspan=\"1\" class=\"\">Monitor</td><td colspan=\"1\" rowspan=\"1\" class=\"\">450</td></tr>\n",
       "<tr><td colspan=\"1\" rowspan=\"1\" class=\"\">US</td><td colspan=\"1\" rowspan=\"1\" class=\"\">Keyboard</td><td colspan=\"1\" rowspan=\"1\" class=\"\">20</td></tr>\n",
       "<tr><td colspan=\"1\" rowspan=\"1\" class=\"\">US</td><td colspan=\"1\" rowspan=\"1\" class=\"\">Monitor</td><td colspan=\"1\" rowspan=\"1\" class=\"\">200</td></tr>\n",
       "</table>"
      ],
      "text/plain": [
       "<raw_magic.nested_table.NestedTable at 0x12a3af880>"
      ]
     },
     "execution_count": 17,
     "metadata": {},
     "output_type": "execute_result"
    }
   ],
   "source": [
    "%%rql\n",
    "\n",
    "SELECT sale.country, product.category, product.cost\n",
    "FROM READ(\"https://raw-tutorial.s3.amazonaws.com/sales.json\") AS sale, sale.products AS product"
   ]
  },
  {
   "cell_type": "markdown",
   "metadata": {},
   "source": [
    "We see `sale.products` appears in the `FROM`.\n",
    "\n",
    "How does this work?\n",
    "\n",
    "Let's take a step back and look at the `FROM` syntax in SQL.\n",
    "\n",
    "In SQL, we can say `SELECT row.column FROM table AS row`. This means bind `row` to each row of `table` in turn; we can then refer to `row.column` in the projection.\n",
    "\n",
    "When doing `FROM READ(\"...\") AS sale, sale.products AS product`, if we focus on `sale.products`, we can think of it as if it were its own table: it is the table of products in each sale. In fact, if we refer back to the original data, we see that the first row of the file had `products` set to the \"nested table\":\n",
    "```json\n",
    "[\n",
    "         {\"category\": \"Keyboard\", \"cost\": 50},\n",
    "         {\"category\": \"Keyboard\", \"cost\": 70},\n",
    "         {\"category\": \"Monitor\", \"cost\": 450}\n",
    "]\n",
    "```\n",
    "... and the second row of the file had `products` set to the \"nested table\":\n",
    "```json\n",
    "[\n",
    "        {\"category\": \"Keyboard\", \"cost\": 20},\n",
    "        {\"category\": \"Monitor\", \"cost\": 200}\n",
    "]\n",
    "```\n",
    "We can call these \"nested tables\" (or more precisely, \"nested collections\") in RAW.\n",
    "\n",
    "Therefore, `FROM READ(\"...\") AS sale` assigned each row of the file to the name `sale`. Then, for each sale, `sale.products AS product` assigns each row of the products nested table to the name `product`.\n",
    "\n",
    "This operation is called \"unnesting\" in RAW and is commonly-used to process nested data."
   ]
  },
  {
   "cell_type": "markdown",
   "metadata": {},
   "source": [
    "## Querying XML documents"
   ]
  },
  {
   "cell_type": "markdown",
   "metadata": {},
   "source": [
    "Let's start by the following XML document available at https://raw-tutorial.s3.amazonaws.com/article.xml:\n",
    "\n",
    "```xml\n",
    "<?xml version=\"1.0\" encoding=\"UTF-8\"?>\n",
    "<article>\n",
    "  <title>This is an article.</title>\n",
    "  <authors>\n",
    "    <name title=\"Mr\">John</name>\n",
    "    <name title=\"Dr\">Jane</name>\n",
    "  </authors>\n",
    "  <contents>\n",
    "    ...\n",
    "  </contents>\n",
    "</article>\n",
    "```\n",
    "\n",
    "The first thing to notice is that this XML is not a collection: there is a top-level record `article`, which contains nested elements `title`, `authors` (a collection), and `contents`.\n",
    "\n",
    "We can let RAW describe the structure using automatic schema inference:"
   ]
  },
  {
   "cell_type": "code",
   "execution_count": 43,
   "metadata": {},
   "outputs": [
    {
     "data": {
      "text/html": [
       "<table class=\"nested-table\">\n",
       "<tr><th colspan=\"1\" rowspan=\"2\">format</th><th colspan=\"1\" rowspan=\"2\">comment</th><th colspan=\"1\" rowspan=\"2\">type</th><th colspan=\"2\" rowspan=\"1\">properties</th><th colspan=\"1\" rowspan=\"2\">is_collection</th><th colspan=\"3\" rowspan=\"1\">columns</th></tr>\n",
       "<tr><th colspan=\"1\" rowspan=\"1\">name</th><th colspan=\"1\" rowspan=\"1\">value</th><th colspan=\"1\" rowspan=\"1\">col_name</th><th colspan=\"1\" rowspan=\"1\">col_type</th><th colspan=\"1\" rowspan=\"1\">nullable</th></tr>\n",
       "<tr><td colspan=\"1\" rowspan=\"3\" class=\"\">xml</td><td colspan=\"1\" rowspan=\"3\" class=\"\">encoding iso-8859-1 (confidence: 53%)</td><td colspan=\"1\" rowspan=\"3\" class=\"\">record(`title`: string,`authors`: record(`name`: collection(record(`@title`: string,`#text`: string))),`contents`: string)</td><td colspan=\"2\" rowspan=\"3\" class=\"empty-value\">empty</td><td colspan=\"1\" rowspan=\"3\" class=\"\">False</td><td colspan=\"1\" rowspan=\"1\" class=\"\">title</td><td colspan=\"1\" rowspan=\"1\" class=\"\">string</td><td colspan=\"1\" rowspan=\"1\" class=\"\">False</td></tr>\n",
       "<tr><td colspan=\"1\" rowspan=\"1\" class=\"\">authors</td><td colspan=\"1\" rowspan=\"1\" class=\"\">record(`name`: collection(record(`@title`: string,`#text`: string)))</td><td colspan=\"1\" rowspan=\"1\" class=\"\">False</td></tr>\n",
       "<tr><td colspan=\"1\" rowspan=\"1\" class=\"\">contents</td><td colspan=\"1\" rowspan=\"1\" class=\"\">string</td><td colspan=\"1\" rowspan=\"1\" class=\"\">False</td></tr>\n",
       "</table>"
      ],
      "text/plain": [
       "<raw_magic.nested_table.NestedTable at 0x12a1afd30>"
      ]
     },
     "execution_count": 43,
     "metadata": {},
     "output_type": "execute_result"
    }
   ],
   "source": [
    "%%rql\n",
    "\n",
    "DESCRIBE(\"https://raw-tutorial.s3.amazonaws.com/article.xml\")"
   ]
  },
  {
   "cell_type": "markdown",
   "metadata": {},
   "source": [
    "The value of `is_collection` is set to `False` because the data is a record.\n",
    "\n",
    "Therefore, if we would try to query this with `SELECT`, it will fail:"
   ]
  },
  {
   "cell_type": "code",
   "execution_count": 46,
   "metadata": {},
   "outputs": [
    {
     "name": "stdout",
     "output_type": "stream",
     "text": [
      "non-collections must be aliased explicitly with AS. Positions: 3:15 to 3:72\n",
      "  3: SELECT * FROM READ(\"https://raw-tutorial.s3.amazonaws.com/article.xml\")\n",
      "                   ^^^^^^^^^^^^^^^^^^^^^^^^^^^^^^^^^^^^^^^^^^^^^^^^^^^^^^^^^^\n"
     ]
    }
   ],
   "source": [
    "%%rql\n",
    "\n",
    "SELECT * FROM READ(\"https://raw-tutorial.s3.amazonaws.com/article.xml\")"
   ]
  },
  {
   "cell_type": "markdown",
   "metadata": {},
   "source": [
    "The error indicates the file is not a collection. We can still use `SELECT` if we use the `AS` keyword.\n",
    "But let's just run the `READ` without a `SELECT`."
   ]
  },
  {
   "cell_type": "code",
   "execution_count": 49,
   "metadata": {},
   "outputs": [
    {
     "data": {
      "text/html": [
       "<table class=\"nested-table\">\n",
       "<tr><th colspan=\"1\" rowspan=\"3\">title</th><th colspan=\"2\" rowspan=\"1\">authors</th><th colspan=\"1\" rowspan=\"3\">contents</th></tr>\n",
       "<tr><th colspan=\"2\" rowspan=\"1\">name</th></tr>\n",
       "<tr><th colspan=\"1\" rowspan=\"1\">@title</th><th colspan=\"1\" rowspan=\"1\">#text</th></tr>\n",
       "<tr><td colspan=\"1\" rowspan=\"2\" class=\"\">This is an article.</td><td colspan=\"1\" rowspan=\"1\" class=\"\">Mr</td><td colspan=\"1\" rowspan=\"1\" class=\"\">John</td><td colspan=\"1\" rowspan=\"2\" class=\"\">\n",
       "    ...\n",
       "  </td></tr>\n",
       "<tr><td colspan=\"1\" rowspan=\"1\" class=\"\">Dr</td><td colspan=\"1\" rowspan=\"1\" class=\"\">Jane</td></tr>\n",
       "</table>"
      ],
      "text/plain": [
       "<raw_magic.nested_table.NestedTable at 0x10d35d430>"
      ]
     },
     "execution_count": 49,
     "metadata": {},
     "output_type": "execute_result"
    }
   ],
   "source": [
    "%%rql\n",
    "\n",
    "READ(\"https://raw-tutorial.s3.amazonaws.com/article.xml\")"
   ]
  },
  {
   "cell_type": "markdown",
   "metadata": {},
   "source": [
    "It evaluates to a record.\n",
    "\n",
    "This query starts to show the \"true nature\" of RAW. \n",
    "\n",
    "RAW is a programming language that is \"disguised\" to look as SQL.\n",
    "In fact, `SELECT` is just a keyword used in RAW to query \"collections of data\".\n",
    "The example above, however, is a query over a non-collection, so we do not use `SELECT`.\n",
    "\n",
    "In fact, other queries are possible in RAW, which do not produce collections.\n",
    "\n",
    "The simplest example is perhaps:"
   ]
  },
  {
   "cell_type": "code",
   "execution_count": 51,
   "metadata": {},
   "outputs": [
    {
     "data": {
      "text/html": [
       "<table class=\"nested-table\">\n",
       "<tr><th colspan=\"1\" rowspan=\"1\">int</th></tr>\n",
       "<tr><td colspan=\"1\" rowspan=\"1\" class=\"\">2</td></tr>\n",
       "</table>"
      ],
      "text/plain": [
       "<raw_magic.nested_table.NestedTable at 0x12a4453d0>"
      ]
     },
     "execution_count": 51,
     "metadata": {},
     "output_type": "execute_result"
    }
   ],
   "source": [
    "%%rql\n",
    "\n",
    "1+1"
   ]
  },
  {
   "cell_type": "markdown",
   "metadata": {},
   "source": [
    "The output of this query is a number: not a collection, not a table. Just the number `2`."
   ]
  },
  {
   "cell_type": "markdown",
   "metadata": {},
   "source": [
    "Going back to the original XML, we can query the `title` or the `contents` by doing:"
   ]
  },
  {
   "cell_type": "code",
   "execution_count": 59,
   "metadata": {},
   "outputs": [
    {
     "data": {
      "text/html": [
       "<table class=\"nested-table\">\n",
       "<tr><th colspan=\"1\" rowspan=\"1\">string</th></tr>\n",
       "<tr><td colspan=\"1\" rowspan=\"1\" class=\"\">This is an article.</td></tr>\n",
       "</table>"
      ],
      "text/plain": [
       "<raw_magic.nested_table.NestedTable at 0x10d3e6370>"
      ]
     },
     "execution_count": 59,
     "metadata": {},
     "output_type": "execute_result"
    }
   ],
   "source": [
    "%%rql\n",
    "\n",
    "READ(\"https://raw-tutorial.s3.amazonaws.com/article.xml\").title"
   ]
  },
  {
   "cell_type": "code",
   "execution_count": 61,
   "metadata": {},
   "outputs": [
    {
     "data": {
      "text/html": [
       "<table class=\"nested-table\">\n",
       "<tr><th colspan=\"1\" rowspan=\"1\">string</th></tr>\n",
       "<tr><td colspan=\"1\" rowspan=\"1\" class=\"\">\n",
       "    ...\n",
       "  </td></tr>\n",
       "</table>"
      ],
      "text/plain": [
       "<raw_magic.nested_table.NestedTable at 0x12a3afa90>"
      ]
     },
     "execution_count": 61,
     "metadata": {},
     "output_type": "execute_result"
    }
   ],
   "source": [
    "%%rql\n",
    "\n",
    "READ(\"https://raw-tutorial.s3.amazonaws.com/article.xml\").contents"
   ]
  },
  {
   "cell_type": "markdown",
   "metadata": {},
   "source": [
    "This query outputs a single string with the title.\n",
    "\n",
    "We can do the same for `authors`, and this time we get a record with a field `name`."
   ]
  },
  {
   "cell_type": "code",
   "execution_count": 63,
   "metadata": {},
   "outputs": [
    {
     "data": {
      "text/html": [
       "<table class=\"nested-table\">\n",
       "<tr><th colspan=\"2\" rowspan=\"1\">name</th></tr>\n",
       "<tr><th colspan=\"1\" rowspan=\"1\">@title</th><th colspan=\"1\" rowspan=\"1\">#text</th></tr>\n",
       "<tr><td colspan=\"1\" rowspan=\"1\" class=\"\">Mr</td><td colspan=\"1\" rowspan=\"1\" class=\"\">John</td></tr>\n",
       "<tr><td colspan=\"1\" rowspan=\"1\" class=\"\">Dr</td><td colspan=\"1\" rowspan=\"1\" class=\"\">Jane</td></tr>\n",
       "</table>"
      ],
      "text/plain": [
       "<raw_magic.nested_table.NestedTable at 0x12a43ac70>"
      ]
     },
     "execution_count": 63,
     "metadata": {},
     "output_type": "execute_result"
    }
   ],
   "source": [
    "%%rql\n",
    "\n",
    "READ(\"https://raw-tutorial.s3.amazonaws.com/article.xml\").authors"
   ]
  },
  {
   "cell_type": "markdown",
   "metadata": {},
   "source": [
    "The field `name` has two inner fields: `@title` and `#text`.\n",
    "These two are special field names generated by RAW.\n",
    "The `@` is used a prefix for the XML attribute `title`, while `#text` is a special field that refers to the text of an XML element.\n",
    "```xml\n",
    "<name title=\"Mr\">John</name>\n",
    "```\n",
    "Let's turn these author names into a table with a single RQL query."
   ]
  },
  {
   "cell_type": "code",
   "execution_count": 65,
   "metadata": {},
   "outputs": [
    {
     "data": {
      "text/html": [
       "<table class=\"nested-table\">\n",
       "<tr><th colspan=\"1\" rowspan=\"1\">title</th><th colspan=\"1\" rowspan=\"1\">name</th></tr>\n",
       "<tr><td colspan=\"1\" rowspan=\"1\" class=\"\">Mr</td><td colspan=\"1\" rowspan=\"1\" class=\"\">John</td></tr>\n",
       "<tr><td colspan=\"1\" rowspan=\"1\" class=\"\">Dr</td><td colspan=\"1\" rowspan=\"1\" class=\"\">Jane</td></tr>\n",
       "</table>"
      ],
      "text/plain": [
       "<raw_magic.nested_table.NestedTable at 0x12a450ac0>"
      ]
     },
     "execution_count": 65,
     "metadata": {},
     "output_type": "execute_result"
    }
   ],
   "source": [
    "%%rql\n",
    "\n",
    "SELECT name.`@title` AS title, name.`#text` AS name\n",
    "FROM READ(\"https://raw-tutorial.s3.amazonaws.com/article.xml\").authors.name AS name"
   ]
  },
  {
   "cell_type": "markdown",
   "metadata": {},
   "source": [
    "The backticks are used to escape special characters in field names in RAW."
   ]
  },
  {
   "cell_type": "markdown",
   "metadata": {},
   "source": [
    "**Next:** [Producing Complex Data](Producing%20Complex%20Data.ipynb)"
   ]
  }
 ],
 "metadata": {
  "kernelspec": {
   "display_name": "Python 3",
   "language": "python",
   "name": "python3"
  },
  "language_info": {
   "codemirror_mode": {
    "name": "ipython",
    "version": 3
   },
   "file_extension": ".py",
   "mimetype": "text/x-python",
   "name": "python",
   "nbconvert_exporter": "python",
   "pygments_lexer": "ipython3",
   "version": "3.8.5"
  }
 },
 "nbformat": 4,
 "nbformat_minor": 2
}
