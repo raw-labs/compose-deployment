{
 "cells": [
  {
   "cell_type": "markdown",
   "metadata": {},
   "source": [
    "# Advanced Data Discovery\n",
    "\n",
    "In the previous notebooks we began to look at the data types available in RAW.\n",
    "\n",
    "This notebook looks into these in more detail in the context of data discovery."
   ]
  },
  {
   "cell_type": "code",
   "execution_count": 10,
   "metadata": {},
   "outputs": [],
   "source": [
    "%load_ext raw_magic"
   ]
  },
  {
   "cell_type": "markdown",
   "metadata": {},
   "source": [
    "## Types in RAW\n",
    "\n",
    "There are two families of data types in RAW: nested types and primitive types.\n",
    "\n",
    "The nested types are `collection` and `record`. They are called nested types because they take inner types and can nest arbitrarily.\n",
    "\n",
    "The primitive types are strings, numbers and temporal types.\n",
    "\n",
    "The full list of types is available in the official documentation at [docs.raw-labs.com](docs.raw-labs.com).\n",
    "\n",
    "For instance: `collection(record(a: int, b: collection(string)))` is a type that represents a collection of records. Each record has two fields: field `a` is an int (aka. an integer number) and field `b` is a collection of strings."
   ]
  },
  {
   "cell_type": "markdown",
   "metadata": {},
   "source": [
    "## Data discovery\n",
    "\n",
    "In the previous examples, `DESCRIBE` was used to describe RAW's automatic inference outcome.\n",
    "\n",
    "For instance:"
   ]
  },
  {
   "cell_type": "code",
   "execution_count": 11,
   "metadata": {},
   "outputs": [
    {
     "data": {
      "text/html": [
       "<table class=\"nested-table\">\n",
       "<tr><th colspan=\"1\" rowspan=\"2\">format</th><th colspan=\"1\" rowspan=\"2\">comment</th><th colspan=\"1\" rowspan=\"2\">type</th><th colspan=\"2\" rowspan=\"1\">properties</th><th colspan=\"1\" rowspan=\"2\">is_collection</th><th colspan=\"3\" rowspan=\"1\">columns</th></tr>\n",
       "<tr><th colspan=\"1\" rowspan=\"1\">name</th><th colspan=\"1\" rowspan=\"1\">value</th><th colspan=\"1\" rowspan=\"1\">col_name</th><th colspan=\"1\" rowspan=\"1\">col_type</th><th colspan=\"1\" rowspan=\"1\">nullable</th></tr>\n",
       "<tr><td colspan=\"1\" rowspan=\"2\" class=\"\">json</td><td colspan=\"1\" rowspan=\"2\" class=\"\">encoding iso-8859-2 (confidence: 44%)</td><td colspan=\"1\" rowspan=\"2\" class=\"\">collection(record(`country`: string,`products`: collection(record(`category`: string,`cost`: int))))</td><td colspan=\"2\" rowspan=\"2\" class=\"empty-value\">empty</td><td colspan=\"1\" rowspan=\"2\" class=\"\">True</td><td colspan=\"1\" rowspan=\"1\" class=\"\">country</td><td colspan=\"1\" rowspan=\"1\" class=\"\">string</td><td colspan=\"1\" rowspan=\"1\" class=\"\">False</td></tr>\n",
       "<tr><td colspan=\"1\" rowspan=\"1\" class=\"\">products</td><td colspan=\"1\" rowspan=\"1\" class=\"\">collection(record(`category`: string,`cost`: int))</td><td colspan=\"1\" rowspan=\"1\" class=\"\">False</td></tr>\n",
       "</table>"
      ],
      "text/plain": [
       "<raw_magic.nested_table.NestedTable at 0x10e0e2c10>"
      ]
     },
     "execution_count": 11,
     "metadata": {},
     "output_type": "execute_result"
    }
   ],
   "source": [
    "%%rql\n",
    "\n",
    "DESCRIBE(\"https://raw-tutorial.s3.amazonaws.com/sales.json\")"
   ]
  },
  {
   "cell_type": "markdown",
   "metadata": {},
   "source": [
    "We can look at the described type in more detail."
   ]
  },
  {
   "cell_type": "code",
   "execution_count": 12,
   "metadata": {},
   "outputs": [
    {
     "data": {
      "text/html": [
       "<table class=\"nested-table\">\n",
       "<tr><th colspan=\"1\" rowspan=\"1\">string</th></tr>\n",
       "<tr><td colspan=\"1\" rowspan=\"1\" class=\"\">collection(record(`country`: string,`products`: collection(record(`category`: string,`cost`: int))))</td></tr>\n",
       "</table>"
      ],
      "text/plain": [
       "<raw_magic.nested_table.NestedTable at 0x10e136970>"
      ]
     },
     "execution_count": 12,
     "metadata": {},
     "output_type": "execute_result"
    }
   ],
   "source": [
    "%%rql\n",
    "\n",
    "DESCRIBE(\"https://raw-tutorial.s3.amazonaws.com/sales.json\").`type`"
   ]
  },
  {
   "cell_type": "markdown",
   "metadata": {},
   "source": [
    "When reading a file, we have used `READ`.\n",
    "\n",
    "However, there are more specific commands to use. For instance `READ_JSON` can be used if we know or expect the file to be a JSON file.\n"
   ]
  },
  {
   "cell_type": "code",
   "execution_count": 14,
   "metadata": {},
   "outputs": [
    {
     "data": {
      "text/html": [
       "<table class=\"nested-table\">\n",
       "<tr><th colspan=\"1\" rowspan=\"2\">country</th><th colspan=\"2\" rowspan=\"1\">products</th></tr>\n",
       "<tr><th colspan=\"1\" rowspan=\"1\">category</th><th colspan=\"1\" rowspan=\"1\">cost</th></tr>\n",
       "<tr><td colspan=\"1\" rowspan=\"3\" class=\"\">CH</td><td colspan=\"1\" rowspan=\"1\" class=\"\">Keyboard</td><td colspan=\"1\" rowspan=\"1\" class=\"\">50</td></tr>\n",
       "<tr><td colspan=\"1\" rowspan=\"1\" class=\"\">Keyboard</td><td colspan=\"1\" rowspan=\"1\" class=\"\">70</td></tr>\n",
       "<tr><td colspan=\"1\" rowspan=\"1\" class=\"\">Monitor</td><td colspan=\"1\" rowspan=\"1\" class=\"\">450</td></tr>\n",
       "<tr><td colspan=\"1\" rowspan=\"2\" class=\"\">US</td><td colspan=\"1\" rowspan=\"1\" class=\"\">Keyboard</td><td colspan=\"1\" rowspan=\"1\" class=\"\">20</td></tr>\n",
       "<tr><td colspan=\"1\" rowspan=\"1\" class=\"\">Monitor</td><td colspan=\"1\" rowspan=\"1\" class=\"\">200</td></tr>\n",
       "</table>"
      ],
      "text/plain": [
       "<raw_magic.nested_table.NestedTable at 0x11506fbe0>"
      ]
     },
     "execution_count": 14,
     "metadata": {},
     "output_type": "execute_result"
    }
   ],
   "source": [
    "%%rql\n",
    "\n",
    "SELECT * FROM READ_JSON(\"https://raw-tutorial.s3.amazonaws.com/sales.json\")"
   ]
  },
  {
   "cell_type": "markdown",
   "metadata": {},
   "source": [
    "Specific commands take format-specific arguments.\n",
    "\n",
    "For instance, in `READ_JSON` we can specify the encoding:"
   ]
  },
  {
   "cell_type": "code",
   "execution_count": 22,
   "metadata": {},
   "outputs": [
    {
     "data": {
      "text/html": [
       "<table class=\"nested-table\">\n",
       "<tr><th colspan=\"1\" rowspan=\"2\">country</th><th colspan=\"2\" rowspan=\"1\">products</th></tr>\n",
       "<tr><th colspan=\"1\" rowspan=\"1\">category</th><th colspan=\"1\" rowspan=\"1\">cost</th></tr>\n",
       "<tr><td colspan=\"1\" rowspan=\"3\" class=\"\">CH</td><td colspan=\"1\" rowspan=\"1\" class=\"\">Keyboard</td><td colspan=\"1\" rowspan=\"1\" class=\"\">50</td></tr>\n",
       "<tr><td colspan=\"1\" rowspan=\"1\" class=\"\">Keyboard</td><td colspan=\"1\" rowspan=\"1\" class=\"\">70</td></tr>\n",
       "<tr><td colspan=\"1\" rowspan=\"1\" class=\"\">Monitor</td><td colspan=\"1\" rowspan=\"1\" class=\"\">450</td></tr>\n",
       "<tr><td colspan=\"1\" rowspan=\"2\" class=\"\">US</td><td colspan=\"1\" rowspan=\"1\" class=\"\">Keyboard</td><td colspan=\"1\" rowspan=\"1\" class=\"\">20</td></tr>\n",
       "<tr><td colspan=\"1\" rowspan=\"1\" class=\"\">Monitor</td><td colspan=\"1\" rowspan=\"1\" class=\"\">200</td></tr>\n",
       "</table>"
      ],
      "text/plain": [
       "<raw_magic.nested_table.NestedTable at 0x11506bfd0>"
      ]
     },
     "execution_count": 22,
     "metadata": {},
     "output_type": "execute_result"
    }
   ],
   "source": [
    "%%rql\n",
    "\n",
    "SELECT *\n",
    "FROM READ_JSON(\"https://raw-tutorial.s3.amazonaws.com/sales.json\", encoding := \"utf-8\")"
   ]
  },
  {
   "cell_type": "markdown",
   "metadata": {},
   "source": [
    "This forces a specific encoding to be used. This may be necessary if RAW's encoding detection fails to determine the exact encoding of the data."
   ]
  },
  {
   "cell_type": "markdown",
   "metadata": {},
   "source": [
    "Moreover, we can also specify the type.\n",
    "\n",
    "This may be necessary if RAW's structure detection fails, or if we want to specify a more precise type."
   ]
  },
  {
   "cell_type": "code",
   "execution_count": 21,
   "metadata": {},
   "outputs": [
    {
     "data": {
      "text/html": [
       "<table class=\"nested-table\">\n",
       "<tr><th colspan=\"1\" rowspan=\"2\">country</th><th colspan=\"2\" rowspan=\"1\">products</th></tr>\n",
       "<tr><th colspan=\"1\" rowspan=\"1\">category</th><th colspan=\"1\" rowspan=\"1\">cost</th></tr>\n",
       "<tr><td colspan=\"1\" rowspan=\"3\" class=\"\">CH</td><td colspan=\"1\" rowspan=\"1\" class=\"\">Keyboard</td><td colspan=\"1\" rowspan=\"1\" class=\"\">50</td></tr>\n",
       "<tr><td colspan=\"1\" rowspan=\"1\" class=\"\">Keyboard</td><td colspan=\"1\" rowspan=\"1\" class=\"\">70</td></tr>\n",
       "<tr><td colspan=\"1\" rowspan=\"1\" class=\"\">Monitor</td><td colspan=\"1\" rowspan=\"1\" class=\"\">450</td></tr>\n",
       "<tr><td colspan=\"1\" rowspan=\"2\" class=\"\">US</td><td colspan=\"1\" rowspan=\"1\" class=\"\">Keyboard</td><td colspan=\"1\" rowspan=\"1\" class=\"\">20</td></tr>\n",
       "<tr><td colspan=\"1\" rowspan=\"1\" class=\"\">Monitor</td><td colspan=\"1\" rowspan=\"1\" class=\"\">200</td></tr>\n",
       "</table>"
      ],
      "text/plain": [
       "<raw_magic.nested_table.NestedTable at 0x11506b610>"
      ]
     },
     "execution_count": 21,
     "metadata": {},
     "output_type": "execute_result"
    }
   ],
   "source": [
    "%%rql\n",
    "\n",
    "SELECT *\n",
    "FROM READ_JSON[collection(record(`country`: string,`products`: collection(record(`category`: string,`cost`: long))))]\n",
    "(\"https://raw-tutorial.s3.amazonaws.com/sales.json\", encoding := \"utf-8\")"
   ]
  },
  {
   "cell_type": "markdown",
   "metadata": {},
   "source": [
    "In the example above, we changed `cost` from being an `int` to a `long`."
   ]
  },
  {
   "cell_type": "markdown",
   "metadata": {},
   "source": [
    "## Sampling\n",
    "\n",
    "RAW \"samples\" the dataset to determine the schema of data.\n",
    "\n",
    "In some cases, the default sample size may be too small to determine the exact type of the data.\n",
    "\n",
    "For instance:\n",
    "* all sampled \"rows\" of a CSV column could be integer numbers, while other rows may contain decimals;\n",
    "* or all sampled values are defined, while later on the data may contain \"null\" (i.e. undefined) values.\n",
    "\n",
    "In this case, a query that runs over the entire data may fail with incompatible type. \n",
    "\n",
    "When this happens, the exact type can be specfied in the `READ` command, or the sample size can be adjusted in the `READ` command, as it is an optional argument. (In general, for production use, it is recommended to specify the type, to ensure \"changes\" are detected with failures.)\n",
    "\n",
    "Refer to [docs.raw-labs.com](http://docs.raw-labs.com) for details."
   ]
  },
  {
   "cell_type": "markdown",
   "metadata": {},
   "source": [
    "**Next:** [SQL Compatibility](SQL%20Compatibility.ipynb)"
   ]
  }
 ],
 "metadata": {
  "kernelspec": {
   "display_name": "Python 3",
   "language": "python",
   "name": "python3"
  },
  "language_info": {
   "codemirror_mode": {
    "name": "ipython",
    "version": 3
   },
   "file_extension": ".py",
   "mimetype": "text/x-python",
   "name": "python",
   "nbconvert_exporter": "python",
   "pygments_lexer": "ipython3",
   "version": "3.8.5"
  }
 },
 "nbformat": 4,
 "nbformat_minor": 4
}
