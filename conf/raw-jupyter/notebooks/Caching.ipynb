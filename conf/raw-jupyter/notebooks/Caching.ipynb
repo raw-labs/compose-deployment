{
 "cells": [
  {
   "cell_type": "markdown",
   "metadata": {},
   "source": [
    "# Caching\n",
    "\n",
    "Queries in RAW read data from the original source.\n",
    "\n",
    "However, retrieving data from each source repeatedly could be slow or place too much load on the source system.\n",
    "\n",
    "For this reason, RAW creates caches of the data. These caches are kept by RAW in its internal storage, which is cluster-wide and can grow to be very large.\n",
    "\n",
    "Caches are never created pre-emptively: they are always created during the execution of a query as a \"side-effect\" of query execution. These caches can be of:\n",
    "* the original data;\n",
    "* intermediate query results;\n",
    "* the output data;\n",
    "* the code generated to compute the query.\n",
    "\n",
    "Caching the original data is evidently advantageous if possible. Intermediate query results or generated code are cached opportunistically, as they may benefit \"future similar queries\".\n",
    "\n",
    "Caches are maintained by RAW and do not require user intervention.\n",
    "\n",
    "(The next notebook will introduce \"materialized views\", which gives users explicit control over cache creation.)"
   ]
  },
  {
   "cell_type": "code",
   "execution_count": 1,
   "metadata": {},
   "outputs": [],
   "source": [
    "%load_ext raw_magic"
   ]
  },
  {
   "cell_type": "markdown",
   "metadata": {},
   "source": [
    "When a query runs, users need guarantees of how fresh data is. Reading stale data from caches could lead to queries that produce output based on old data.\n",
    "\n",
    "On the other hand, to efficiently cache data, RAW needs to know how often it is used.\n",
    "\n",
    "In RAW, both these concepts are implemented by a single \"hint\". This hint is \"cache duration\" of a source, i.e. how \"fresh\" data should be. The cache duration hint is always part of a query: if it is not specified by the user, a system-wide default setting is used.\n"
   ]
  },
  {
   "cell_type": "code",
   "execution_count": 2,
   "metadata": {},
   "outputs": [
    {
     "data": {
      "text/html": [
       "<table class=\"nested-table\">\n",
       "<tr><th colspan=\"1\" rowspan=\"2\">country</th><th colspan=\"2\" rowspan=\"1\">products</th></tr>\n",
       "<tr><th colspan=\"1\" rowspan=\"1\">category</th><th colspan=\"1\" rowspan=\"1\">cost</th></tr>\n",
       "<tr><td colspan=\"1\" rowspan=\"3\" class=\"\">CH</td><td colspan=\"1\" rowspan=\"1\" class=\"\">Keyboard</td><td colspan=\"1\" rowspan=\"1\" class=\"\">50</td></tr>\n",
       "<tr><td colspan=\"1\" rowspan=\"1\" class=\"\">Keyboard</td><td colspan=\"1\" rowspan=\"1\" class=\"\">70</td></tr>\n",
       "<tr><td colspan=\"1\" rowspan=\"1\" class=\"\">Monitor</td><td colspan=\"1\" rowspan=\"1\" class=\"\">450</td></tr>\n",
       "<tr><td colspan=\"1\" rowspan=\"2\" class=\"\">US</td><td colspan=\"1\" rowspan=\"1\" class=\"\">Keyboard</td><td colspan=\"1\" rowspan=\"1\" class=\"\">20</td></tr>\n",
       "<tr><td colspan=\"1\" rowspan=\"1\" class=\"\">Monitor</td><td colspan=\"1\" rowspan=\"1\" class=\"\">200</td></tr>\n",
       "</table>"
      ],
      "text/plain": [
       "<raw_magic.nested_table.NestedTable at 0x10984dcd0>"
      ]
     },
     "execution_count": 2,
     "metadata": {},
     "output_type": "execute_result"
    }
   ],
   "source": [
    "%%rql\n",
    "\n",
    "SELECT * FROM READ(\"https://raw-tutorial.s3.amazonaws.com/sales.json\", cache := interval \"10 seconds\")"
   ]
  },
  {
   "cell_type": "markdown",
   "metadata": {},
   "source": [
    "In the query above, we explicitly set cache to 10 seconds. This means that if the data available in the RAW caches is 10 seconds or younger, it may be used. But if the data is older than 10 seconds, RAW must fetch it fresh from the original data source.\n",
    "\n",
    "If you repeatedly run the query above, and considering the query needs to issue a remote HTTP call, you may see a difference in speed. (This becomes more evident in \"slow\" sources or reading larger amounts of data.)\n",
    "\n",
    "If `cache` is not specified explicitely in the `READ` command, a system default is used."
   ]
  },
  {
   "cell_type": "markdown",
   "metadata": {},
   "source": [
    "**Next:** [Materialized Views](Materialized%20Views.ipynb)"
   ]
  }
 ],
 "metadata": {
  "kernelspec": {
   "display_name": "Python 3",
   "language": "python",
   "name": "python3"
  },
  "language_info": {
   "codemirror_mode": {
    "name": "ipython",
    "version": 3
   },
   "file_extension": ".py",
   "mimetype": "text/x-python",
   "name": "python",
   "nbconvert_exporter": "python",
   "pygments_lexer": "ipython3",
   "version": "3.8.5"
  }
 },
 "nbformat": 4,
 "nbformat_minor": 4
}
