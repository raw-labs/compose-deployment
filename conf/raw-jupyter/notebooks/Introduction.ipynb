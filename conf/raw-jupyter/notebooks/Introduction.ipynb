{
 "cells": [
  {
   "cell_type": "markdown",
   "metadata": {},
   "source": [
    "# Introduction\n",
    "\n",
    "Welcome to the RAW tutorial.\n",
    "\n",
    "This tutorial is split into a series of short-self contained notebooks that use the RAW client for Jupyter Notebooks.\n",
    "\n",
    "During your first run, we recommend to follow the tutorial in sequence, as concepts are introduced gradually.\n",
    "After you are familiar with the concepts introduced, feel free to jump to the relevant notebook as needed.\n",
    "\n",
    "[Feedback is most welcome](mailto:support@raw-labs.atlassian.net)!\n",
    "\n",
    "## Tutorial\n",
    "\n",
    "1. [First Query](First%20Query.ipynb)\n",
    "1. [Data Discovery](Data%20Discovery.ipynb)\n",
    "1. [Creating And Using Views](Views.ipynb)\n",
    "1. [Querying Complex Data](Querying%20Complex%20Data.ipynb)\n",
    "1. [Producing Complex Data](Producing%20Complex%20Data.ipynb)\n",
    "1. [Advanced Data Discovery](Advanced%20Data%20Discovery.ipynb)\n",
    "1. [SQL Compatibility](SQL%20Compatibility.ipynb)\n",
    "1. [Caching](Caching.ipynb)\n",
    "1. [Materialized Views](Materialized%20Views.ipynb)\n",
    "1. [Tables](Tables.ipynb)\n",
    "1. [Advanced Language Features](Advanced%20Language%20Features.ipynb)\n",
    "1. [Packages](Packages.ipynb)\n",
    "1. [Data Catalog](Data%20Catalog.ipynb)\n",
    "1. [Output Formats](Output%20Formats.ipynb)\n",
    "1. [Querying Web Services](Querying%20Web%20Services.ipynb)\n",
    "1. [Creating Web Services](Creating%20Web%20Services.ipynb)\n",
    "1. [Managing Credentials](Managing%20Credentials.ipynb)\n",
    "1. [Querying Relational Database Systems](Querying%20Relational%20Database%20Systems.ipynb)\n",
    "1. [Debugging Queries](Debugging%20Queries.ipynb)\n",
    "1. [Python Integration](Python%20Integration.ipynb)\n",
    "1. [Best Practices](Best%20Practices.ipynb)"
   ]
  }
 ],
 "metadata": {
  "kernelspec": {
   "display_name": "Python 3",
   "language": "python",
   "name": "python3"
  },
  "language_info": {
   "codemirror_mode": {
    "name": "ipython",
    "version": 3
   },
   "file_extension": ".py",
   "mimetype": "text/x-python",
   "name": "python",
   "nbconvert_exporter": "python",
   "pygments_lexer": "ipython3",
   "version": "3.6.9"
  }
 },
 "nbformat": 4,
 "nbformat_minor": 4
}
