{
 "cells": [
  {
   "cell_type": "markdown",
   "metadata": {},
   "source": [
    "# Data Catalog\n",
    "\n",
    "The following entities can be created in RAW:\n",
    "\n",
    "* **Views** - similar to virtual views in traditional databases;\n",
    "* **Materialized Views** - similar to materialized views in traditional databases, but refreshed \"on-demand\";\n",
    "* **Packages** - used to organize code. Similar to Python packages; \n",
    "* **Tables** - storage optimized exclusively for tabular data structures, based on an MVCC algorithm."
   ]
  },
  {
   "cell_type": "code",
   "execution_count": 4,
   "metadata": {},
   "outputs": [
    {
     "name": "stdout",
     "output_type": "stream",
     "text": [
      "The raw_magic extension is already loaded. To reload it, use:\n",
      "  %reload_ext raw_magic\n"
     ]
    }
   ],
   "source": [
    "%load_ext raw_magic"
   ]
  },
  {
   "cell_type": "markdown",
   "metadata": {},
   "source": [
    "The Jupyter client includes magics to list and show details for existing entities. These magics are:\n",
    "* `views_list`, `views_show <name>` for views;\n",
    "* `materialized_views_list`, `materialized_views_show <name>` for materialized views;\n",
    "* `tables_list`, `tables_show <name>` for tables;\n",
    "* `packages_list`, `packages_show <name>` for packages;\n",
    "\n",
    "Some examples:"
   ]
  },
  {
   "cell_type": "code",
   "execution_count": 11,
   "metadata": {},
   "outputs": [
    {
     "name": "stdout",
     "output_type": "stream",
     "text": [
      "airports\n",
      "airports_1\n",
      "airports_per_country\n",
      "view1\n"
     ]
    }
   ],
   "source": [
    "%views_list"
   ]
  },
  {
   "cell_type": "code",
   "execution_count": 10,
   "metadata": {},
   "outputs": [
    {
     "name": "stdout",
     "output_type": "stream",
     "text": [
      "SELECT * FROM READ(\"https://raw-tutorial.s3.amazonaws.com/airports.csv\")\n"
     ]
    }
   ],
   "source": [
    "%views_show airports"
   ]
  },
  {
   "cell_type": "code",
   "execution_count": 13,
   "metadata": {},
   "outputs": [
    {
     "name": "stdout",
     "output_type": "stream",
     "text": [
      "airports_materialized\n",
      "trips_materialized\n"
     ]
    }
   ],
   "source": [
    "%materialized_views_list"
   ]
  },
  {
   "cell_type": "code",
   "execution_count": 14,
   "metadata": {},
   "outputs": [
    {
     "name": "stdout",
     "output_type": "stream",
     "text": [
      "package1\n",
      "package2\n",
      "package3\n"
     ]
    }
   ],
   "source": [
    "%packages_list"
   ]
  },
  {
   "cell_type": "code",
   "execution_count": 15,
   "metadata": {},
   "outputs": [
    {
     "name": "stdout",
     "output_type": "stream",
     "text": [
      "airports := SELECT * FROM READ(\"https://raw-tutorial.s3.amazonaws.com/airports.csv\");\n",
      "    \n",
      "airports_by_country := SELECT Country, * FROM airports GROUP BY Country;\n",
      "    \n",
      "airports_in_city(city: string) := SELECT * FROM airports WHERE City = city;\n"
     ]
    }
   ],
   "source": [
    "%packages_show package1"
   ]
  },
  {
   "cell_type": "markdown",
   "metadata": {},
   "source": [
    "In addition, the Web Admin UI includes extra search capabilities.\n",
    "In particular, user comments that are part of the source code of a view, materialized view, or of declarations and functions in packages are also searchable.\n",
    "\n",
    "(These search capabilities are not yet available in the CLI, Python API or Jupyter.)\n",
    "\n",
    "For instance a view defined as follows:\n",
    "```\n",
    "%%views hello_world\n",
    "\n",
    "// This is a query that does hello world!...\n",
    "[\"Hello\", \"World\"]\n",
    "```\n",
    "\n",
    "... would be visible in the Web Admin UI as:"
   ]
  },
  {
   "cell_type": "markdown",
   "metadata": {},
   "source": [
    "![Data Catalog Screenshot](Data%20Catalog.png)"
   ]
  },
  {
   "cell_type": "markdown",
   "metadata": {},
   "source": [
    "(Note the *Comment* field.)"
   ]
  },
  {
   "cell_type": "markdown",
   "metadata": {},
   "source": [
    "**Next:** [Output Formats](Output%20Formats.ipynb)"
   ]
  }
 ],
 "metadata": {
  "kernelspec": {
   "display_name": "Python 3",
   "language": "python",
   "name": "python3"
  },
  "language_info": {
   "codemirror_mode": {
    "name": "ipython",
    "version": 3
   },
   "file_extension": ".py",
   "mimetype": "text/x-python",
   "name": "python",
   "nbconvert_exporter": "python",
   "pygments_lexer": "ipython3",
   "version": "3.8.5"
  }
 },
 "nbformat": 4,
 "nbformat_minor": 4
}
