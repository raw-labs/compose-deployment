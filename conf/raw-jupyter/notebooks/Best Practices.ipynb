{
 "cells": [
  {
   "cell_type": "markdown",
   "metadata": {},
   "source": [
    "# Best Practices\n",
    "\n",
    "Some frequently-asked questions regarding best practices using RAW.\n",
    "\n",
    "## When should I use views vs materialized views vs tables?\n",
    " \n",
    "Views are a good choice for short cache durations - i.e. fast-changing data - or for the early phases where a lot of experimentation is being done. At this point, forcing the creation of materialized views may not make sense.\n",
    "Because views can be virtual, RAW will cache opportunistically and this may well be sufficient as an extra performance boost.\n",
    "\n",
    "Materialized Views give better performance guaranteees and as a rule-of-thumb are the safer option. The exception is for short cache durations.\n",
    " \n",
    "Tables provide the greatest degree of control, as users add data to them manually.\n",
    "\n",
    "## When to use RQL vs SQL?\n",
    "\n",
    "RQL is required for \"ETL\"-ish tasks, i.e. the steps of data exploration. All views, materialized views and packages are defined in RQL.\n",
    "\n",
    "SQL, however, is best used over established views, and in particular, over materialized views and tables. In these scenarios, SQL can actually lead to better query times than RQL, because the SQL language semantics are simpler than RQL and best suited for (cost) optimization.\n",
    "\n",
    "## Should I rely on inference or specify the schema manually?\n",
    "\n",
    "Inference is helpful and should be used particularly in the early phases of data exploration.\n",
    "\n",
    "However, once queries are stable, we recommend specifying the schema manually. This prevents accidental errors if the source data were to change and a new schema - still \"compatible\" with the previous one - were detected.\n",
    "\n",
    "## How to do large-scale queries with performance?\n",
    "\n",
    "Use SQL over materialized views or tables.\n",
    "\n",
    "## How to do queries that output a lot of data?\n",
    "\n",
    "RAW is currently best suited to retrieve small results back to the user, e.g. for ingestion into a Jupyter notebook.\n",
    "\n",
    "Future plans include the possibility for queries to directly write their output - potentially in parallel - to an external location. This will be required for queries that output large sets of data."
   ]
  },
  {
   "cell_type": "markdown",
   "metadata": {},
   "source": [
    "Thank you for completing our introductory tutorial.\n",
    "\n",
    "Feedback is welcome!\n",
    "\n",
    "Send us a note [here](support@raw-labs.atlassian.net)."
   ]
  }
 ],
 "metadata": {
  "kernelspec": {
   "display_name": "Python 3",
   "language": "python",
   "name": "python3"
  },
  "language_info": {
   "codemirror_mode": {
    "name": "ipython",
    "version": 3
   },
   "file_extension": ".py",
   "mimetype": "text/x-python",
   "name": "python",
   "nbconvert_exporter": "python",
   "pygments_lexer": "ipython3",
   "version": "3.8.5"
  }
 },
 "nbformat": 4,
 "nbformat_minor": 4
}
