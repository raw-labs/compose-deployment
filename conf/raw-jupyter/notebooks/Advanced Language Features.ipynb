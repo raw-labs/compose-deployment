{
 "cells": [
  {
   "cell_type": "markdown",
   "metadata": {},
   "source": [
    "# Advanced Language Features\n",
    "\n",
    "This notebook introduces advanced language features in RAW, which are useful for structuring more complex RQL programs."
   ]
  },
  {
   "cell_type": "code",
   "execution_count": 5,
   "metadata": {},
   "outputs": [],
   "source": [
    "%load_ext raw_magic"
   ]
  },
  {
   "cell_type": "markdown",
   "metadata": {},
   "source": [
    "## Declarations\n",
    "\n",
    "Declarations are used to organize RQL expressions.\n",
    "\n",
    "Given the query:"
   ]
  },
  {
   "cell_type": "code",
   "execution_count": 6,
   "metadata": {},
   "outputs": [
    {
     "data": {
      "text/html": [
       "<table class=\"nested-table\">\n",
       "<tr><th colspan=\"1\" rowspan=\"2\">AirportID</th><th colspan=\"1\" rowspan=\"2\">Name</th><th colspan=\"1\" rowspan=\"2\">City</th><th colspan=\"1\" rowspan=\"2\">Country</th><th colspan=\"1\" rowspan=\"2\">IATA_FAA</th><th colspan=\"1\" rowspan=\"2\">ICAO</th><th colspan=\"1\" rowspan=\"2\">Latitude</th><th colspan=\"1\" rowspan=\"2\">Longitude</th><th colspan=\"1\" rowspan=\"2\">Altitude</th><th colspan=\"1\" rowspan=\"2\">Timezone</th><th colspan=\"1\" rowspan=\"2\">DST</th><th colspan=\"1\" rowspan=\"2\">TZ</th><th colspan=\"1\" rowspan=\"2\">reason</th><th colspan=\"1\" rowspan=\"2\">origin</th><th colspan=\"1\" rowspan=\"2\">destination</th><th colspan=\"2\" rowspan=\"1\">dates</th></tr>\n",
       "<tr><th colspan=\"1\" rowspan=\"1\">departure</th><th colspan=\"1\" rowspan=\"1\">arrival</th></tr>\n",
       "<tr><td colspan=\"1\" rowspan=\"1\" class=\"\">1665</td><td colspan=\"1\" rowspan=\"1\" class=\"\">Geneve Cointrin</td><td colspan=\"1\" rowspan=\"1\" class=\"\">Geneva</td><td colspan=\"1\" rowspan=\"1\" class=\"\">Switzerland</td><td colspan=\"1\" rowspan=\"1\" class=\"\">GVA</td><td colspan=\"1\" rowspan=\"1\" class=\"\">LSGG</td><td colspan=\"1\" rowspan=\"1\" class=\"\">46.238064</td><td colspan=\"1\" rowspan=\"1\" class=\"\">6.10895</td><td colspan=\"1\" rowspan=\"1\" class=\"\">1411</td><td colspan=\"1\" rowspan=\"1\" class=\"\">1.0</td><td colspan=\"1\" rowspan=\"1\" class=\"\">E</td><td colspan=\"1\" rowspan=\"1\" class=\"\">Europe/Paris</td><td colspan=\"1\" rowspan=\"1\" class=\"\">Holidays</td><td colspan=\"1\" rowspan=\"1\" class=\"\">GVA</td><td colspan=\"1\" rowspan=\"1\" class=\"\">KEF</td><td colspan=\"1\" rowspan=\"1\" class=\"\">2016/02/27</td><td colspan=\"1\" rowspan=\"1\" class=\"\">2016/03/06</td></tr>\n",
       "<tr><td colspan=\"1\" rowspan=\"1\" class=\"\">1665</td><td colspan=\"1\" rowspan=\"1\" class=\"\">Geneve Cointrin</td><td colspan=\"1\" rowspan=\"1\" class=\"\">Geneva</td><td colspan=\"1\" rowspan=\"1\" class=\"\">Switzerland</td><td colspan=\"1\" rowspan=\"1\" class=\"\">GVA</td><td colspan=\"1\" rowspan=\"1\" class=\"\">LSGG</td><td colspan=\"1\" rowspan=\"1\" class=\"\">46.238064</td><td colspan=\"1\" rowspan=\"1\" class=\"\">6.10895</td><td colspan=\"1\" rowspan=\"1\" class=\"\">1411</td><td colspan=\"1\" rowspan=\"1\" class=\"\">1.0</td><td colspan=\"1\" rowspan=\"1\" class=\"\">E</td><td colspan=\"1\" rowspan=\"1\" class=\"\">Europe/Paris</td><td colspan=\"1\" rowspan=\"1\" class=\"\">Work</td><td colspan=\"1\" rowspan=\"1\" class=\"\">GVA</td><td colspan=\"1\" rowspan=\"1\" class=\"\">SFO</td><td colspan=\"1\" rowspan=\"1\" class=\"\">2016/04/10</td><td colspan=\"1\" rowspan=\"1\" class=\"\">2016/04/17</td></tr>\n",
       "<tr><td colspan=\"1\" rowspan=\"1\" class=\"\">1665</td><td colspan=\"1\" rowspan=\"1\" class=\"\">Geneve Cointrin</td><td colspan=\"1\" rowspan=\"1\" class=\"\">Geneva</td><td colspan=\"1\" rowspan=\"1\" class=\"\">Switzerland</td><td colspan=\"1\" rowspan=\"1\" class=\"\">GVA</td><td colspan=\"1\" rowspan=\"1\" class=\"\">LSGG</td><td colspan=\"1\" rowspan=\"1\" class=\"\">46.238064</td><td colspan=\"1\" rowspan=\"1\" class=\"\">6.10895</td><td colspan=\"1\" rowspan=\"1\" class=\"\">1411</td><td colspan=\"1\" rowspan=\"1\" class=\"\">1.0</td><td colspan=\"1\" rowspan=\"1\" class=\"\">E</td><td colspan=\"1\" rowspan=\"1\" class=\"\">Europe/Paris</td><td colspan=\"1\" rowspan=\"1\" class=\"\">Holidays</td><td colspan=\"1\" rowspan=\"1\" class=\"\">GVA</td><td colspan=\"1\" rowspan=\"1\" class=\"\">LCY</td><td colspan=\"1\" rowspan=\"1\" class=\"\">2016/05/22</td><td colspan=\"1\" rowspan=\"1\" class=\"\">2016/05/29</td></tr>\n",
       "</table>"
      ],
      "text/plain": [
       "<raw_magic.nested_table.NestedTable at 0x1084f6a00>"
      ]
     },
     "execution_count": 6,
     "metadata": {},
     "output_type": "execute_result"
    }
   ],
   "source": [
    "%%rql\n",
    "\n",
    "SELECT *\n",
    "FROM READ(\"https://raw-tutorial.s3.amazonaws.com/airports.csv\") a,\n",
    "     READ(\"https://raw-tutorial.s3.amazonaws.com/trips.json\") t\n",
    "WHERE t.origin=a.IATA_FAA"
   ]
  },
  {
   "cell_type": "markdown",
   "metadata": {},
   "source": [
    "... we can instead structure it using declarations as follows:"
   ]
  },
  {
   "cell_type": "code",
   "execution_count": 8,
   "metadata": {},
   "outputs": [
    {
     "data": {
      "text/html": [
       "<table class=\"nested-table\">\n",
       "<tr><th colspan=\"1\" rowspan=\"2\">AirportID</th><th colspan=\"1\" rowspan=\"2\">Name</th><th colspan=\"1\" rowspan=\"2\">City</th><th colspan=\"1\" rowspan=\"2\">Country</th><th colspan=\"1\" rowspan=\"2\">IATA_FAA</th><th colspan=\"1\" rowspan=\"2\">ICAO</th><th colspan=\"1\" rowspan=\"2\">Latitude</th><th colspan=\"1\" rowspan=\"2\">Longitude</th><th colspan=\"1\" rowspan=\"2\">Altitude</th><th colspan=\"1\" rowspan=\"2\">Timezone</th><th colspan=\"1\" rowspan=\"2\">DST</th><th colspan=\"1\" rowspan=\"2\">TZ</th><th colspan=\"1\" rowspan=\"2\">reason</th><th colspan=\"1\" rowspan=\"2\">origin</th><th colspan=\"1\" rowspan=\"2\">destination</th><th colspan=\"2\" rowspan=\"1\">dates</th></tr>\n",
       "<tr><th colspan=\"1\" rowspan=\"1\">departure</th><th colspan=\"1\" rowspan=\"1\">arrival</th></tr>\n",
       "<tr><td colspan=\"1\" rowspan=\"1\" class=\"\">1665</td><td colspan=\"1\" rowspan=\"1\" class=\"\">Geneve Cointrin</td><td colspan=\"1\" rowspan=\"1\" class=\"\">Geneva</td><td colspan=\"1\" rowspan=\"1\" class=\"\">Switzerland</td><td colspan=\"1\" rowspan=\"1\" class=\"\">GVA</td><td colspan=\"1\" rowspan=\"1\" class=\"\">LSGG</td><td colspan=\"1\" rowspan=\"1\" class=\"\">46.238064</td><td colspan=\"1\" rowspan=\"1\" class=\"\">6.10895</td><td colspan=\"1\" rowspan=\"1\" class=\"\">1411</td><td colspan=\"1\" rowspan=\"1\" class=\"\">1.0</td><td colspan=\"1\" rowspan=\"1\" class=\"\">E</td><td colspan=\"1\" rowspan=\"1\" class=\"\">Europe/Paris</td><td colspan=\"1\" rowspan=\"1\" class=\"\">Holidays</td><td colspan=\"1\" rowspan=\"1\" class=\"\">GVA</td><td colspan=\"1\" rowspan=\"1\" class=\"\">KEF</td><td colspan=\"1\" rowspan=\"1\" class=\"\">2016/02/27</td><td colspan=\"1\" rowspan=\"1\" class=\"\">2016/03/06</td></tr>\n",
       "<tr><td colspan=\"1\" rowspan=\"1\" class=\"\">1665</td><td colspan=\"1\" rowspan=\"1\" class=\"\">Geneve Cointrin</td><td colspan=\"1\" rowspan=\"1\" class=\"\">Geneva</td><td colspan=\"1\" rowspan=\"1\" class=\"\">Switzerland</td><td colspan=\"1\" rowspan=\"1\" class=\"\">GVA</td><td colspan=\"1\" rowspan=\"1\" class=\"\">LSGG</td><td colspan=\"1\" rowspan=\"1\" class=\"\">46.238064</td><td colspan=\"1\" rowspan=\"1\" class=\"\">6.10895</td><td colspan=\"1\" rowspan=\"1\" class=\"\">1411</td><td colspan=\"1\" rowspan=\"1\" class=\"\">1.0</td><td colspan=\"1\" rowspan=\"1\" class=\"\">E</td><td colspan=\"1\" rowspan=\"1\" class=\"\">Europe/Paris</td><td colspan=\"1\" rowspan=\"1\" class=\"\">Work</td><td colspan=\"1\" rowspan=\"1\" class=\"\">GVA</td><td colspan=\"1\" rowspan=\"1\" class=\"\">SFO</td><td colspan=\"1\" rowspan=\"1\" class=\"\">2016/04/10</td><td colspan=\"1\" rowspan=\"1\" class=\"\">2016/04/17</td></tr>\n",
       "<tr><td colspan=\"1\" rowspan=\"1\" class=\"\">1665</td><td colspan=\"1\" rowspan=\"1\" class=\"\">Geneve Cointrin</td><td colspan=\"1\" rowspan=\"1\" class=\"\">Geneva</td><td colspan=\"1\" rowspan=\"1\" class=\"\">Switzerland</td><td colspan=\"1\" rowspan=\"1\" class=\"\">GVA</td><td colspan=\"1\" rowspan=\"1\" class=\"\">LSGG</td><td colspan=\"1\" rowspan=\"1\" class=\"\">46.238064</td><td colspan=\"1\" rowspan=\"1\" class=\"\">6.10895</td><td colspan=\"1\" rowspan=\"1\" class=\"\">1411</td><td colspan=\"1\" rowspan=\"1\" class=\"\">1.0</td><td colspan=\"1\" rowspan=\"1\" class=\"\">E</td><td colspan=\"1\" rowspan=\"1\" class=\"\">Europe/Paris</td><td colspan=\"1\" rowspan=\"1\" class=\"\">Holidays</td><td colspan=\"1\" rowspan=\"1\" class=\"\">GVA</td><td colspan=\"1\" rowspan=\"1\" class=\"\">LCY</td><td colspan=\"1\" rowspan=\"1\" class=\"\">2016/05/22</td><td colspan=\"1\" rowspan=\"1\" class=\"\">2016/05/29</td></tr>\n",
       "</table>"
      ],
      "text/plain": [
       "<raw_magic.nested_table.NestedTable at 0x1084f69a0>"
      ]
     },
     "execution_count": 8,
     "metadata": {},
     "output_type": "execute_result"
    }
   ],
   "source": [
    "%%rql\n",
    "\n",
    "airports := READ(\"https://raw-tutorial.s3.amazonaws.com/airports.csv\");\n",
    "    \n",
    "trips := READ(\"https://raw-tutorial.s3.amazonaws.com/trips.json\");\n",
    "    \n",
    "SELECT *\n",
    "FROM airports a,\n",
    "     trips t\n",
    "WHERE t.origin=a.IATA_FAA"
   ]
  },
  {
   "cell_type": "markdown",
   "metadata": {},
   "source": [
    "The queries are equivalent in terms of execution.\n",
    "\n",
    "Each declaration can be bound to any RAW expression/query."
   ]
  },
  {
   "cell_type": "code",
   "execution_count": 12,
   "metadata": {},
   "outputs": [
    {
     "data": {
      "text/html": [
       "<table class=\"nested-table\">\n",
       "<tr><th colspan=\"1\" rowspan=\"2\">City</th><th colspan=\"1\" rowspan=\"2\">Name</th><th colspan=\"1\" rowspan=\"2\">IATA_FAA</th><th colspan=\"1\" rowspan=\"2\">reason</th><th colspan=\"1\" rowspan=\"2\">origin</th><th colspan=\"1\" rowspan=\"2\">destination</th><th colspan=\"2\" rowspan=\"1\">dates</th></tr>\n",
       "<tr><th colspan=\"1\" rowspan=\"1\">departure</th><th colspan=\"1\" rowspan=\"1\">arrival</th></tr>\n",
       "<tr><td colspan=\"1\" rowspan=\"1\" class=\"\">Geneva</td><td colspan=\"1\" rowspan=\"1\" class=\"\">Geneve Cointrin</td><td colspan=\"1\" rowspan=\"1\" class=\"\">GVA</td><td colspan=\"1\" rowspan=\"1\" class=\"\">Holidays</td><td colspan=\"1\" rowspan=\"1\" class=\"\">GVA</td><td colspan=\"1\" rowspan=\"1\" class=\"\">KEF</td><td colspan=\"1\" rowspan=\"1\" class=\"\">2016/02/27</td><td colspan=\"1\" rowspan=\"1\" class=\"\">2016/03/06</td></tr>\n",
       "<tr><td colspan=\"1\" rowspan=\"1\" class=\"\">Geneva</td><td colspan=\"1\" rowspan=\"1\" class=\"\">Geneve Cointrin</td><td colspan=\"1\" rowspan=\"1\" class=\"\">GVA</td><td colspan=\"1\" rowspan=\"1\" class=\"\">Work</td><td colspan=\"1\" rowspan=\"1\" class=\"\">GVA</td><td colspan=\"1\" rowspan=\"1\" class=\"\">SFO</td><td colspan=\"1\" rowspan=\"1\" class=\"\">2016/04/10</td><td colspan=\"1\" rowspan=\"1\" class=\"\">2016/04/17</td></tr>\n",
       "<tr><td colspan=\"1\" rowspan=\"1\" class=\"\">Geneva</td><td colspan=\"1\" rowspan=\"1\" class=\"\">Geneve Cointrin</td><td colspan=\"1\" rowspan=\"1\" class=\"\">GVA</td><td colspan=\"1\" rowspan=\"1\" class=\"\">Holidays</td><td colspan=\"1\" rowspan=\"1\" class=\"\">GVA</td><td colspan=\"1\" rowspan=\"1\" class=\"\">LCY</td><td colspan=\"1\" rowspan=\"1\" class=\"\">2016/05/22</td><td colspan=\"1\" rowspan=\"1\" class=\"\">2016/05/29</td></tr>\n",
       "</table>"
      ],
      "text/plain": [
       "<raw_magic.nested_table.NestedTable at 0x1084f3940>"
      ]
     },
     "execution_count": 12,
     "metadata": {},
     "output_type": "execute_result"
    }
   ],
   "source": [
    "%%rql\n",
    "\n",
    "airports := SELECT City, Name, IATA_FAA FROM READ(\"https://raw-tutorial.s3.amazonaws.com/airports.csv\");\n",
    "    \n",
    "trips := READ(\"https://raw-tutorial.s3.amazonaws.com/trips.json\");\n",
    "    \n",
    "SELECT *\n",
    "FROM airports a,\n",
    "     trips t\n",
    "WHERE t.origin=a.IATA_FAA"
   ]
  },
  {
   "cell_type": "markdown",
   "metadata": {},
   "source": [
    "## Functions\n",
    "\n",
    "Functions are similar to declarations, but take arguments as input:"
   ]
  },
  {
   "cell_type": "code",
   "execution_count": 15,
   "metadata": {},
   "outputs": [
    {
     "data": {
      "text/html": [
       "<table class=\"nested-table\">\n",
       "<tr><th colspan=\"1\" rowspan=\"1\">AirportID</th><th colspan=\"1\" rowspan=\"1\">Name</th><th colspan=\"1\" rowspan=\"1\">City</th><th colspan=\"1\" rowspan=\"1\">Country</th><th colspan=\"1\" rowspan=\"1\">IATA_FAA</th><th colspan=\"1\" rowspan=\"1\">ICAO</th><th colspan=\"1\" rowspan=\"1\">Latitude</th><th colspan=\"1\" rowspan=\"1\">Longitude</th><th colspan=\"1\" rowspan=\"1\">Altitude</th><th colspan=\"1\" rowspan=\"1\">Timezone</th><th colspan=\"1\" rowspan=\"1\">DST</th><th colspan=\"1\" rowspan=\"1\">TZ</th></tr>\n",
       "<tr><td colspan=\"1\" rowspan=\"1\" class=\"\">1638</td><td colspan=\"1\" rowspan=\"1\" class=\"\">Lisboa</td><td colspan=\"1\" rowspan=\"1\" class=\"\">Lisbon</td><td colspan=\"1\" rowspan=\"1\" class=\"\">Portugal</td><td colspan=\"1\" rowspan=\"1\" class=\"\">LIS</td><td colspan=\"1\" rowspan=\"1\" class=\"\">LPPT</td><td colspan=\"1\" rowspan=\"1\" class=\"\">38.781311</td><td colspan=\"1\" rowspan=\"1\" class=\"\">-9.135919</td><td colspan=\"1\" rowspan=\"1\" class=\"\">374</td><td colspan=\"1\" rowspan=\"1\" class=\"\">0.0</td><td colspan=\"1\" rowspan=\"1\" class=\"\">E</td><td colspan=\"1\" rowspan=\"1\" class=\"\">Europe/Lisbon</td></tr>\n",
       "<tr><td colspan=\"1\" rowspan=\"1\" class=\"\">7752</td><td colspan=\"1\" rowspan=\"1\" class=\"\">Lisbon Cruise Terminal</td><td colspan=\"1\" rowspan=\"1\" class=\"\">Lisbon</td><td colspan=\"1\" rowspan=\"1\" class=\"\">Portugal</td><td colspan=\"1\" rowspan=\"1\" class=\"\"></td><td colspan=\"1\" rowspan=\"1\" class=\"\">N</td><td colspan=\"1\" rowspan=\"1\" class=\"\">38.712606</td><td colspan=\"1\" rowspan=\"1\" class=\"\">-9.122483</td><td colspan=\"1\" rowspan=\"1\" class=\"\">0</td><td colspan=\"1\" rowspan=\"1\" class=\"\">0.0</td><td colspan=\"1\" rowspan=\"1\" class=\"\">E</td><td colspan=\"1\" rowspan=\"1\" class=\"\">Europe/Lisbon</td></tr>\n",
       "</table>"
      ],
      "text/plain": [
       "<raw_magic.nested_table.NestedTable at 0x1084f30d0>"
      ]
     },
     "execution_count": 15,
     "metadata": {},
     "output_type": "execute_result"
    }
   ],
   "source": [
    "%%rql\n",
    "\n",
    "airports_by_city(city: string) := SELECT * FROM READ(\"https://raw-tutorial.s3.amazonaws.com/airports.csv\") WHERE City = city;\n",
    "    \n",
    "SELECT * FROM airports_by_city(\"Lisbon\")"
   ]
  },
  {
   "cell_type": "markdown",
   "metadata": {},
   "source": [
    "Functions can have default arguments and can be overridden."
   ]
  },
  {
   "cell_type": "code",
   "execution_count": 21,
   "metadata": {},
   "outputs": [
    {
     "data": {
      "text/html": [
       "<table class=\"nested-table\">\n",
       "<tr><th colspan=\"1\" rowspan=\"1\">AirportID</th><th colspan=\"1\" rowspan=\"1\">Name</th><th colspan=\"1\" rowspan=\"1\">City</th><th colspan=\"1\" rowspan=\"1\">Country</th><th colspan=\"1\" rowspan=\"1\">IATA_FAA</th><th colspan=\"1\" rowspan=\"1\">ICAO</th><th colspan=\"1\" rowspan=\"1\">Latitude</th><th colspan=\"1\" rowspan=\"1\">Longitude</th><th colspan=\"1\" rowspan=\"1\">Altitude</th><th colspan=\"1\" rowspan=\"1\">Timezone</th><th colspan=\"1\" rowspan=\"1\">DST</th><th colspan=\"1\" rowspan=\"1\">TZ</th></tr>\n",
       "<tr><td colspan=\"1\" rowspan=\"1\" class=\"\">1638</td><td colspan=\"1\" rowspan=\"1\" class=\"\">Lisboa</td><td colspan=\"1\" rowspan=\"1\" class=\"\">Lisbon</td><td colspan=\"1\" rowspan=\"1\" class=\"\">Portugal</td><td colspan=\"1\" rowspan=\"1\" class=\"\">LIS</td><td colspan=\"1\" rowspan=\"1\" class=\"\">LPPT</td><td colspan=\"1\" rowspan=\"1\" class=\"\">38.781311</td><td colspan=\"1\" rowspan=\"1\" class=\"\">-9.135919</td><td colspan=\"1\" rowspan=\"1\" class=\"\">374</td><td colspan=\"1\" rowspan=\"1\" class=\"\">0.0</td><td colspan=\"1\" rowspan=\"1\" class=\"\">E</td><td colspan=\"1\" rowspan=\"1\" class=\"\">Europe/Lisbon</td></tr>\n",
       "<tr><td colspan=\"1\" rowspan=\"1\" class=\"\">7752</td><td colspan=\"1\" rowspan=\"1\" class=\"\">Lisbon Cruise Terminal</td><td colspan=\"1\" rowspan=\"1\" class=\"\">Lisbon</td><td colspan=\"1\" rowspan=\"1\" class=\"\">Portugal</td><td colspan=\"1\" rowspan=\"1\" class=\"\"></td><td colspan=\"1\" rowspan=\"1\" class=\"\">N</td><td colspan=\"1\" rowspan=\"1\" class=\"\">38.712606</td><td colspan=\"1\" rowspan=\"1\" class=\"\">-9.122483</td><td colspan=\"1\" rowspan=\"1\" class=\"\">0</td><td colspan=\"1\" rowspan=\"1\" class=\"\">0.0</td><td colspan=\"1\" rowspan=\"1\" class=\"\">E</td><td colspan=\"1\" rowspan=\"1\" class=\"\">Europe/Lisbon</td></tr>\n",
       "</table>"
      ],
      "text/plain": [
       "<raw_magic.nested_table.NestedTable at 0x1072c1490>"
      ]
     },
     "execution_count": 21,
     "metadata": {},
     "output_type": "execute_result"
    }
   ],
   "source": [
    "%%rql\n",
    "\n",
    "airports_by_city(city: string, n: int := 100) := \n",
    "    SELECT * FROM READ(\"https://raw-tutorial.s3.amazonaws.com/airports.csv\") WHERE City = city LIMIT n;\n",
    "    \n",
    "SELECT * FROM airports_by_city(\"Lisbon\")"
   ]
  },
  {
   "cell_type": "code",
   "execution_count": 22,
   "metadata": {},
   "outputs": [
    {
     "data": {
      "text/html": [
       "<table class=\"nested-table\">\n",
       "<tr><th colspan=\"1\" rowspan=\"1\">AirportID</th><th colspan=\"1\" rowspan=\"1\">Name</th><th colspan=\"1\" rowspan=\"1\">City</th><th colspan=\"1\" rowspan=\"1\">Country</th><th colspan=\"1\" rowspan=\"1\">IATA_FAA</th><th colspan=\"1\" rowspan=\"1\">ICAO</th><th colspan=\"1\" rowspan=\"1\">Latitude</th><th colspan=\"1\" rowspan=\"1\">Longitude</th><th colspan=\"1\" rowspan=\"1\">Altitude</th><th colspan=\"1\" rowspan=\"1\">Timezone</th><th colspan=\"1\" rowspan=\"1\">DST</th><th colspan=\"1\" rowspan=\"1\">TZ</th></tr>\n",
       "<tr><td colspan=\"1\" rowspan=\"1\" class=\"\">1638</td><td colspan=\"1\" rowspan=\"1\" class=\"\">Lisboa</td><td colspan=\"1\" rowspan=\"1\" class=\"\">Lisbon</td><td colspan=\"1\" rowspan=\"1\" class=\"\">Portugal</td><td colspan=\"1\" rowspan=\"1\" class=\"\">LIS</td><td colspan=\"1\" rowspan=\"1\" class=\"\">LPPT</td><td colspan=\"1\" rowspan=\"1\" class=\"\">38.781311</td><td colspan=\"1\" rowspan=\"1\" class=\"\">-9.135919</td><td colspan=\"1\" rowspan=\"1\" class=\"\">374</td><td colspan=\"1\" rowspan=\"1\" class=\"\">0.0</td><td colspan=\"1\" rowspan=\"1\" class=\"\">E</td><td colspan=\"1\" rowspan=\"1\" class=\"\">Europe/Lisbon</td></tr>\n",
       "</table>"
      ],
      "text/plain": [
       "<raw_magic.nested_table.NestedTable at 0x1084f3160>"
      ]
     },
     "execution_count": 22,
     "metadata": {},
     "output_type": "execute_result"
    }
   ],
   "source": [
    "%%rql\n",
    "\n",
    "airports_by_city(city: string, n: int := 100) := \n",
    "    SELECT * FROM READ(\"https://raw-tutorial.s3.amazonaws.com/airports.csv\") WHERE City = city LIMIT n;\n",
    "    \n",
    "SELECT * FROM airports_by_city(\"Lisbon\", 1)"
   ]
  },
  {
   "cell_type": "markdown",
   "metadata": {},
   "source": [
    "## Anonymous functions\n",
    "\n",
    "Anonymous functions, or functions without names, can also be defined.\n",
    "\n",
    "These use the syntax:\n",
    "```\n",
    "\\(<list of arguments>) -> <body>\n",
    "```\n",
    "\n",
    "For instance:"
   ]
  },
  {
   "cell_type": "code",
   "execution_count": 24,
   "metadata": {},
   "outputs": [
    {
     "data": {
      "text/html": [
       "<table class=\"nested-table\">\n",
       "<tr><th colspan=\"1\" rowspan=\"1\">int</th></tr>\n",
       "<tr><td colspan=\"1\" rowspan=\"1\" class=\"\">2</td></tr>\n",
       "</table>"
      ],
      "text/plain": [
       "<raw_magic.nested_table.NestedTable at 0x1084f3d90>"
      ]
     },
     "execution_count": 24,
     "metadata": {},
     "output_type": "execute_result"
    }
   ],
   "source": [
    "%%rql\n",
    "\n",
    "f := \\(a: int) -> a + 1;\n",
    "        \n",
    "f(1)"
   ]
  },
  {
   "cell_type": "markdown",
   "metadata": {},
   "source": [
    "Of course defining an anonymous function then binding it to the name `f` isn't very useful.\n",
    "\n",
    "Instead, we could have done:"
   ]
  },
  {
   "cell_type": "code",
   "execution_count": 25,
   "metadata": {},
   "outputs": [
    {
     "data": {
      "text/html": [
       "<table class=\"nested-table\">\n",
       "<tr><th colspan=\"1\" rowspan=\"1\">int</th></tr>\n",
       "<tr><td colspan=\"1\" rowspan=\"1\" class=\"\">2</td></tr>\n",
       "</table>"
      ],
      "text/plain": [
       "<raw_magic.nested_table.NestedTable at 0x1084f6100>"
      ]
     },
     "execution_count": 25,
     "metadata": {},
     "output_type": "execute_result"
    }
   ],
   "source": [
    "%%rql\n",
    "\n",
    "f(a: int) := a + 1;\n",
    "    \n",
    "f(1)"
   ]
  },
  {
   "cell_type": "markdown",
   "metadata": {},
   "source": [
    "However, anonymous functions have a useful feature: they can be the final expression on a virtual view, which effectively makes this into a parameterized view:"
   ]
  },
  {
   "cell_type": "code",
   "execution_count": 28,
   "metadata": {},
   "outputs": [],
   "source": [
    "%%view view1\n",
    "\n",
    "\\(city: String) -> SELECT * FROM READ(\"https://raw-tutorial.s3.amazonaws.com/airports.csv\") WHERE City = city"
   ]
  },
  {
   "cell_type": "markdown",
   "metadata": {},
   "source": [
    "We can ask the type of this view:"
   ]
  },
  {
   "cell_type": "code",
   "execution_count": 29,
   "metadata": {},
   "outputs": [
    {
     "name": "stdout",
     "output_type": "stream",
     "text": [
      "function(\n",
      "    string,\n",
      "    collection(\n",
      "        record(\n",
      "            AirportID: int,\n",
      "            Name: string,\n",
      "            City: string,\n",
      "            Country: string,\n",
      "            IATA_FAA: string,\n",
      "            ICAO: string,\n",
      "            Latitude: double,\n",
      "            Longitude: double,\n",
      "            Altitude: int,\n",
      "            Timezone: double,\n",
      "            DST: string,\n",
      "            TZ: string)))\n"
     ]
    }
   ],
   "source": [
    "%query_validate view1"
   ]
  },
  {
   "cell_type": "markdown",
   "metadata": {},
   "source": [
    "The view types as a function. So to use it, we can \"call it\":"
   ]
  },
  {
   "cell_type": "code",
   "execution_count": 31,
   "metadata": {},
   "outputs": [
    {
     "data": {
      "text/html": [
       "<table class=\"nested-table\">\n",
       "<tr><th colspan=\"1\" rowspan=\"1\">AirportID</th><th colspan=\"1\" rowspan=\"1\">Name</th><th colspan=\"1\" rowspan=\"1\">City</th><th colspan=\"1\" rowspan=\"1\">Country</th><th colspan=\"1\" rowspan=\"1\">IATA_FAA</th><th colspan=\"1\" rowspan=\"1\">ICAO</th><th colspan=\"1\" rowspan=\"1\">Latitude</th><th colspan=\"1\" rowspan=\"1\">Longitude</th><th colspan=\"1\" rowspan=\"1\">Altitude</th><th colspan=\"1\" rowspan=\"1\">Timezone</th><th colspan=\"1\" rowspan=\"1\">DST</th><th colspan=\"1\" rowspan=\"1\">TZ</th></tr>\n",
       "<tr><td colspan=\"1\" rowspan=\"1\" class=\"\">1638</td><td colspan=\"1\" rowspan=\"1\" class=\"\">Lisboa</td><td colspan=\"1\" rowspan=\"1\" class=\"\">Lisbon</td><td colspan=\"1\" rowspan=\"1\" class=\"\">Portugal</td><td colspan=\"1\" rowspan=\"1\" class=\"\">LIS</td><td colspan=\"1\" rowspan=\"1\" class=\"\">LPPT</td><td colspan=\"1\" rowspan=\"1\" class=\"\">38.781311</td><td colspan=\"1\" rowspan=\"1\" class=\"\">-9.135919</td><td colspan=\"1\" rowspan=\"1\" class=\"\">374</td><td colspan=\"1\" rowspan=\"1\" class=\"\">0.0</td><td colspan=\"1\" rowspan=\"1\" class=\"\">E</td><td colspan=\"1\" rowspan=\"1\" class=\"\">Europe/Lisbon</td></tr>\n",
       "<tr><td colspan=\"1\" rowspan=\"1\" class=\"\">7752</td><td colspan=\"1\" rowspan=\"1\" class=\"\">Lisbon Cruise Terminal</td><td colspan=\"1\" rowspan=\"1\" class=\"\">Lisbon</td><td colspan=\"1\" rowspan=\"1\" class=\"\">Portugal</td><td colspan=\"1\" rowspan=\"1\" class=\"\"></td><td colspan=\"1\" rowspan=\"1\" class=\"\">N</td><td colspan=\"1\" rowspan=\"1\" class=\"\">38.712606</td><td colspan=\"1\" rowspan=\"1\" class=\"\">-9.122483</td><td colspan=\"1\" rowspan=\"1\" class=\"\">0</td><td colspan=\"1\" rowspan=\"1\" class=\"\">0.0</td><td colspan=\"1\" rowspan=\"1\" class=\"\">E</td><td colspan=\"1\" rowspan=\"1\" class=\"\">Europe/Lisbon</td></tr>\n",
       "</table>"
      ],
      "text/plain": [
       "<raw_magic.nested_table.NestedTable at 0x108588040>"
      ]
     },
     "execution_count": 31,
     "metadata": {},
     "output_type": "execute_result"
    }
   ],
   "source": [
    "%%rql\n",
    "\n",
    "SELECT * FROM view1(\"Lisbon\")"
   ]
  },
  {
   "cell_type": "markdown",
   "metadata": {},
   "source": [
    "**Next:** [Packages](Packages.ipynb)"
   ]
  }
 ],
 "metadata": {
  "kernelspec": {
   "display_name": "Python 3",
   "language": "python",
   "name": "python3"
  },
  "language_info": {
   "codemirror_mode": {
    "name": "ipython",
    "version": 3
   },
   "file_extension": ".py",
   "mimetype": "text/x-python",
   "name": "python",
   "nbconvert_exporter": "python",
   "pygments_lexer": "ipython3",
   "version": "3.8.5"
  }
 },
 "nbformat": 4,
 "nbformat_minor": 4
}
