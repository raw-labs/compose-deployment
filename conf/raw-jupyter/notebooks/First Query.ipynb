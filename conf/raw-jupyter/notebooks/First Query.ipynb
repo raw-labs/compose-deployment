{
 "cells": [
  {
   "cell_type": "markdown",
   "metadata": {},
   "source": [
    "# First Query\n",
    "\n",
    "\n",
    "Let's write our first queries in RAW and along the way introduce some basic concepts in the system.\n",
    "\n",
    "We start by initializing the RAW magic (the RAW client) for Jupyter."
   ]
  },
  {
   "cell_type": "code",
   "execution_count": 1,
   "metadata": {},
   "outputs": [],
   "source": [
    "%load_ext raw_magic"
   ]
  },
  {
   "cell_type": "markdown",
   "metadata": {},
   "source": [
    "Our first query uses public data stored on S3, available through `https`.\n",
    "\n",
    "Note the use of `%%rql`, which is the RAW magic command to run an RQL query; RQL stands for the _RAW Query Language_"
   ]
  },
  {
   "cell_type": "code",
   "execution_count": 9,
   "metadata": {},
   "outputs": [
    {
     "data": {
      "text/html": [
       "<table class=\"nested-table\">\n",
       "<tr><th colspan=\"1\" rowspan=\"1\">AirportID</th><th colspan=\"1\" rowspan=\"1\">Name</th><th colspan=\"1\" rowspan=\"1\">City</th><th colspan=\"1\" rowspan=\"1\">Country</th><th colspan=\"1\" rowspan=\"1\">IATA_FAA</th><th colspan=\"1\" rowspan=\"1\">ICAO</th><th colspan=\"1\" rowspan=\"1\">Latitude</th><th colspan=\"1\" rowspan=\"1\">Longitude</th><th colspan=\"1\" rowspan=\"1\">Altitude</th><th colspan=\"1\" rowspan=\"1\">Timezone</th><th colspan=\"1\" rowspan=\"1\">DST</th><th colspan=\"1\" rowspan=\"1\">TZ</th></tr>\n",
       "<tr><td colspan=\"1\" rowspan=\"1\" class=\"\">1</td><td colspan=\"1\" rowspan=\"1\" class=\"\">Goroka</td><td colspan=\"1\" rowspan=\"1\" class=\"\">Goroka</td><td colspan=\"1\" rowspan=\"1\" class=\"\">Papua New Guinea</td><td colspan=\"1\" rowspan=\"1\" class=\"\">GKA</td><td colspan=\"1\" rowspan=\"1\" class=\"\">AYGA</td><td colspan=\"1\" rowspan=\"1\" class=\"\">-6.081689</td><td colspan=\"1\" rowspan=\"1\" class=\"\">145.391881</td><td colspan=\"1\" rowspan=\"1\" class=\"\">5282</td><td colspan=\"1\" rowspan=\"1\" class=\"\">10.0</td><td colspan=\"1\" rowspan=\"1\" class=\"\">U</td><td colspan=\"1\" rowspan=\"1\" class=\"\">Pacific/Port_Moresby</td></tr>\n",
       "<tr><td colspan=\"1\" rowspan=\"1\" class=\"\">2</td><td colspan=\"1\" rowspan=\"1\" class=\"\">Madang</td><td colspan=\"1\" rowspan=\"1\" class=\"\">Madang</td><td colspan=\"1\" rowspan=\"1\" class=\"\">Papua New Guinea</td><td colspan=\"1\" rowspan=\"1\" class=\"\">MAG</td><td colspan=\"1\" rowspan=\"1\" class=\"\">AYMD</td><td colspan=\"1\" rowspan=\"1\" class=\"\">-5.207083</td><td colspan=\"1\" rowspan=\"1\" class=\"\">145.7887</td><td colspan=\"1\" rowspan=\"1\" class=\"\">20</td><td colspan=\"1\" rowspan=\"1\" class=\"\">10.0</td><td colspan=\"1\" rowspan=\"1\" class=\"\">U</td><td colspan=\"1\" rowspan=\"1\" class=\"\">Pacific/Port_Moresby</td></tr>\n",
       "<tr><td colspan=\"1\" rowspan=\"1\" class=\"\">3</td><td colspan=\"1\" rowspan=\"1\" class=\"\">Mount Hagen</td><td colspan=\"1\" rowspan=\"1\" class=\"\">Mount Hagen</td><td colspan=\"1\" rowspan=\"1\" class=\"\">Papua New Guinea</td><td colspan=\"1\" rowspan=\"1\" class=\"\">HGU</td><td colspan=\"1\" rowspan=\"1\" class=\"\">AYMH</td><td colspan=\"1\" rowspan=\"1\" class=\"\">-5.826789</td><td colspan=\"1\" rowspan=\"1\" class=\"\">144.295861</td><td colspan=\"1\" rowspan=\"1\" class=\"\">5388</td><td colspan=\"1\" rowspan=\"1\" class=\"\">10.0</td><td colspan=\"1\" rowspan=\"1\" class=\"\">U</td><td colspan=\"1\" rowspan=\"1\" class=\"\">Pacific/Port_Moresby</td></tr>\n",
       "<tr><td colspan=\"1\" rowspan=\"1\" class=\"\">4</td><td colspan=\"1\" rowspan=\"1\" class=\"\">Nadzab</td><td colspan=\"1\" rowspan=\"1\" class=\"\">Nadzab</td><td colspan=\"1\" rowspan=\"1\" class=\"\">Papua New Guinea</td><td colspan=\"1\" rowspan=\"1\" class=\"\">LAE</td><td colspan=\"1\" rowspan=\"1\" class=\"\">AYNZ</td><td colspan=\"1\" rowspan=\"1\" class=\"\">-6.569828</td><td colspan=\"1\" rowspan=\"1\" class=\"\">146.726242</td><td colspan=\"1\" rowspan=\"1\" class=\"\">239</td><td colspan=\"1\" rowspan=\"1\" class=\"\">10.0</td><td colspan=\"1\" rowspan=\"1\" class=\"\">U</td><td colspan=\"1\" rowspan=\"1\" class=\"\">Pacific/Port_Moresby</td></tr>\n",
       "<tr><td colspan=\"1\" rowspan=\"1\" class=\"\">5</td><td colspan=\"1\" rowspan=\"1\" class=\"\">Port Moresby Jacksons Intl</td><td colspan=\"1\" rowspan=\"1\" class=\"\">Port Moresby</td><td colspan=\"1\" rowspan=\"1\" class=\"\">Papua New Guinea</td><td colspan=\"1\" rowspan=\"1\" class=\"\">POM</td><td colspan=\"1\" rowspan=\"1\" class=\"\">AYPY</td><td colspan=\"1\" rowspan=\"1\" class=\"\">-9.443383</td><td colspan=\"1\" rowspan=\"1\" class=\"\">147.22005</td><td colspan=\"1\" rowspan=\"1\" class=\"\">146</td><td colspan=\"1\" rowspan=\"1\" class=\"\">10.0</td><td colspan=\"1\" rowspan=\"1\" class=\"\">U</td><td colspan=\"1\" rowspan=\"1\" class=\"\">Pacific/Port_Moresby</td></tr>\n",
       "</table>"
      ],
      "text/plain": [
       "<raw_magic.nested_table.NestedTable at 0x11459e5b0>"
      ]
     },
     "execution_count": 9,
     "metadata": {},
     "output_type": "execute_result"
    }
   ],
   "source": [
    "%%rql\n",
    "\n",
    "SELECT *\n",
    "FROM READ(\"https://raw-tutorial.s3.amazonaws.com/airports.csv\")\n",
    "LIMIT 5"
   ]
  },
  {
   "cell_type": "markdown",
   "metadata": {},
   "source": [
    "This query is reading a CSV file, projecting all columns in the file, and returning the first 5 rows.\n",
    "\n",
    "The `READ` keyword tells RAW to read data from the given URL.\n",
    "This is common in RAW: data sources are specified in the query.\n",
    "\n",
    "As the query starts to execute, RAW will infer the format and structure of the data.\n",
    "In this case, the data is a CSV file and RAW makes it available as expected: as a table.\n",
    "The column names are retrieved from the CSV file, which contains a header in the first line.\n",
    " \n",
    "We can execute more complex queries using regular SQL language features. For example:"
   ]
  },
  {
   "cell_type": "code",
   "execution_count": 11,
   "metadata": {},
   "outputs": [
    {
     "data": {
      "text/html": [
       "<table class=\"nested-table\">\n",
       "<tr><th colspan=\"1\" rowspan=\"1\">Country</th><th colspan=\"1\" rowspan=\"1\">Number_Airports</th></tr>\n",
       "<tr><td colspan=\"1\" rowspan=\"1\" class=\"\">United States</td><td colspan=\"1\" rowspan=\"1\" class=\"\">1697</td></tr>\n",
       "<tr><td colspan=\"1\" rowspan=\"1\" class=\"\">Canada</td><td colspan=\"1\" rowspan=\"1\" class=\"\">435</td></tr>\n",
       "<tr><td colspan=\"1\" rowspan=\"1\" class=\"\">Germany</td><td colspan=\"1\" rowspan=\"1\" class=\"\">321</td></tr>\n",
       "</table>"
      ],
      "text/plain": [
       "<raw_magic.nested_table.NestedTable at 0x1145a1070>"
      ]
     },
     "execution_count": 11,
     "metadata": {},
     "output_type": "execute_result"
    }
   ],
   "source": [
    "%%rql\n",
    "\n",
    "SELECT Country, COUNT(*) AS Number_Airports\n",
    "FROM READ(\"https://raw-tutorial.s3.amazonaws.com/airports.csv\")\n",
    "GROUP BY Country\n",
    "ORDER BY Number_Airports DESC\n",
    "LIMIT 3"
   ]
  },
  {
   "cell_type": "markdown",
   "metadata": {},
   "source": [
    "Here we see countries with most airports.\n",
    "\n",
    "With the exception of the `READ` keyword, this query looks like normal SQL.\n",
    "The `READ` keyword, however, means users do not have to create tables and load data into them, or discover the schema.\n",
    "This is done automatically by RAW.\n",
    "\n",
    "For performance, however, RAW will create caches of the data.\n",
    "We will discuss caching in RAW in more details later in this tutorial."
   ]
  },
  {
   "cell_type": "markdown",
   "metadata": {},
   "source": [
    "**Next:** [Data Discovery](Data%20Discovery.ipynb)"
   ]
  }
 ],
 "metadata": {
  "kernelspec": {
   "display_name": "Python 3",
   "language": "python",
   "name": "python3"
  },
  "language_info": {
   "codemirror_mode": {
    "name": "ipython",
    "version": 3
   },
   "file_extension": ".py",
   "mimetype": "text/x-python",
   "name": "python",
   "nbconvert_exporter": "python",
   "pygments_lexer": "ipython3",
   "version": "3.8.5"
  }
 },
 "nbformat": 4,
 "nbformat_minor": 2
}
