{
 "cells": [
  {
   "cell_type": "markdown",
   "metadata": {},
   "source": [
    "# Producing Complex Data\n",
    "\n",
    "In the previous notebook we saw how to query complex data and started exploring RAW's data model.\n",
    "\n",
    "In this notebook we continue this exploration by showing how RAW queries can also output complex data structures, which will be particularly useful when we see how to export RAW results into formats like JSON or XML."
   ]
  },
  {
   "cell_type": "code",
   "execution_count": 8,
   "metadata": {},
   "outputs": [
    {
     "name": "stdout",
     "output_type": "stream",
     "text": [
      "The raw_magic extension is already loaded. To reload it, use:\n",
      "  %reload_ext raw_magic\n"
     ]
    }
   ],
   "source": [
    "%load_ext raw_magic"
   ]
  },
  {
   "cell_type": "markdown",
   "metadata": {},
   "source": [
    "## Collections in the output field of a SELECT"
   ]
  },
  {
   "cell_type": "markdown",
   "metadata": {},
   "source": [
    "We start by the following query:"
   ]
  },
  {
   "cell_type": "code",
   "execution_count": 9,
   "metadata": {
    "scrolled": true
   },
   "outputs": [
    {
     "data": {
      "text/html": [
       "<table class=\"nested-table\">\n",
       "<tr><th colspan=\"1\" rowspan=\"2\">country</th><th colspan=\"2\" rowspan=\"1\">products</th></tr>\n",
       "<tr><th colspan=\"1\" rowspan=\"1\">category</th><th colspan=\"1\" rowspan=\"1\">cost</th></tr>\n",
       "<tr><td colspan=\"1\" rowspan=\"3\" class=\"\">CH</td><td colspan=\"1\" rowspan=\"1\" class=\"\">Keyboard</td><td colspan=\"1\" rowspan=\"1\" class=\"\">50</td></tr>\n",
       "<tr><td colspan=\"1\" rowspan=\"1\" class=\"\">Keyboard</td><td colspan=\"1\" rowspan=\"1\" class=\"\">70</td></tr>\n",
       "<tr><td colspan=\"1\" rowspan=\"1\" class=\"\">Monitor</td><td colspan=\"1\" rowspan=\"1\" class=\"\">450</td></tr>\n",
       "<tr><td colspan=\"1\" rowspan=\"2\" class=\"\">US</td><td colspan=\"1\" rowspan=\"1\" class=\"\">Keyboard</td><td colspan=\"1\" rowspan=\"1\" class=\"\">20</td></tr>\n",
       "<tr><td colspan=\"1\" rowspan=\"1\" class=\"\">Monitor</td><td colspan=\"1\" rowspan=\"1\" class=\"\">200</td></tr>\n",
       "</table>"
      ],
      "text/plain": [
       "<raw_magic.nested_table.NestedTable at 0x109d16670>"
      ]
     },
     "execution_count": 9,
     "metadata": {},
     "output_type": "execute_result"
    }
   ],
   "source": [
    "%%rql\n",
    "\n",
    "SELECT *\n",
    "FROM READ(\"https://raw-tutorial.s3.amazonaws.com/sales.json\") AS sale"
   ]
  },
  {
   "cell_type": "markdown",
   "metadata": {},
   "source": [
    "Recall that `products` is a \"nested table\".\n",
    "\n",
    "Let's analyze the following query:"
   ]
  },
  {
   "cell_type": "code",
   "execution_count": 13,
   "metadata": {},
   "outputs": [
    {
     "data": {
      "text/html": [
       "<table class=\"nested-table\">\n",
       "<tr><th colspan=\"1\" rowspan=\"1\">country</th><th colspan=\"1\" rowspan=\"1\">products_cost</th></tr>\n",
       "<tr><td colspan=\"1\" rowspan=\"3\" class=\"\">CH</td><td colspan=\"1\" rowspan=\"1\" class=\"\">50</td></tr>\n",
       "<tr><td colspan=\"1\" rowspan=\"1\" class=\"\">70</td></tr>\n",
       "<tr><td colspan=\"1\" rowspan=\"1\" class=\"\">450</td></tr>\n",
       "<tr><td colspan=\"1\" rowspan=\"2\" class=\"\">US</td><td colspan=\"1\" rowspan=\"1\" class=\"\">20</td></tr>\n",
       "<tr><td colspan=\"1\" rowspan=\"1\" class=\"\">200</td></tr>\n",
       "</table>"
      ],
      "text/plain": [
       "<raw_magic.nested_table.NestedTable at 0x10ceec0d0>"
      ]
     },
     "execution_count": 13,
     "metadata": {},
     "output_type": "execute_result"
    }
   ],
   "source": [
    "%%rql\n",
    "\n",
    "SELECT sale.country, (SELECT p.cost FROM sale.products AS p) AS products_cost\n",
    "FROM READ(\"https://raw-tutorial.s3.amazonaws.com/sales.json\") AS sale"
   ]
  },
  {
   "cell_type": "markdown",
   "metadata": {},
   "source": [
    "This query returns two rows: one for `CH`, another for `US`.\n",
    "    \n",
    "The first column is the country, and the second column is a list of the cost of the products in that country.\n",
    "\n",
    "How does this work?\n",
    "\n",
    "The inner `SELECT` contains `(SELECT p.cost FROM sale.products AS p)`.\n",
    "We can think of this as a normal query, over a table called `sale.products`.\n",
    "THe output of that query is a table with the cost of each product.\n",
    "\n",
    "When we compose it in a single query:\n",
    "```\n",
    "SELECT sale.country, (SELECT p.cost FROM sale.products AS p) AS products_cost\n",
    "FROM READ(\"https://raw-tutorial.s3.amazonaws.com/sales.json\") AS sale\n",
    "```\n",
    "... then the result is a table, where the second column contains another table.\n",
    "\n",
    "If we were to represent the *output* as JSON, it would look like:\n",
    "```\n",
    "[\n",
    "  {\"country\": \"CH\",\n",
    "   \"products_cost\": [50, 70, 450]},\n",
    "  {\"country\": \"US\",\n",
    "   \"products_cost\": [20, 200]}\n",
    "]\n",
    "```\n",
    "\n",
    "To further demonstrate that `SELECT`s are just operations over collections of data, let's add a filter to the inner `SELECT`:"
   ]
  },
  {
   "cell_type": "code",
   "execution_count": 17,
   "metadata": {},
   "outputs": [
    {
     "data": {
      "text/html": [
       "<table class=\"nested-table\">\n",
       "<tr><th colspan=\"1\" rowspan=\"1\">country</th><th colspan=\"1\" rowspan=\"1\">products_cost_over_60</th></tr>\n",
       "<tr><td colspan=\"1\" rowspan=\"2\" class=\"\">CH</td><td colspan=\"1\" rowspan=\"1\" class=\"\">70</td></tr>\n",
       "<tr><td colspan=\"1\" rowspan=\"1\" class=\"\">450</td></tr>\n",
       "<tr><td colspan=\"1\" rowspan=\"1\" class=\"\">US</td><td colspan=\"1\" rowspan=\"1\" class=\"\">200</td></tr>\n",
       "</table>"
      ],
      "text/plain": [
       "<raw_magic.nested_table.NestedTable at 0x126d8f6d0>"
      ]
     },
     "execution_count": 17,
     "metadata": {},
     "output_type": "execute_result"
    }
   ],
   "source": [
    "%%rql\n",
    "\n",
    "SELECT sale.country, (SELECT p.cost FROM sale.products AS p WHERE p.cost > 60) AS products_cost_over_60\n",
    "FROM READ(\"https://raw-tutorial.s3.amazonaws.com/sales.json\") AS sale"
   ]
  },
  {
   "cell_type": "markdown",
   "metadata": {},
   "source": [
    "This query filtered the products in the inner `SELECT` for those that cost > 60.\n",
    "\n",
    "We can even do aggregations:"
   ]
  },
  {
   "cell_type": "code",
   "execution_count": 16,
   "metadata": {},
   "outputs": [
    {
     "data": {
      "text/html": [
       "<table class=\"nested-table\">\n",
       "<tr><th colspan=\"1\" rowspan=\"1\">country</th><th colspan=\"1\" rowspan=\"1\">number_products_cost_over_60</th></tr>\n",
       "<tr><td colspan=\"1\" rowspan=\"1\" class=\"\">CH</td><td colspan=\"1\" rowspan=\"1\" class=\"\">2</td></tr>\n",
       "<tr><td colspan=\"1\" rowspan=\"1\" class=\"\">US</td><td colspan=\"1\" rowspan=\"1\" class=\"\">1</td></tr>\n",
       "</table>"
      ],
      "text/plain": [
       "<raw_magic.nested_table.NestedTable at 0x126d8fb20>"
      ]
     },
     "execution_count": 16,
     "metadata": {},
     "output_type": "execute_result"
    }
   ],
   "source": [
    "%%rql\n",
    "\n",
    "SELECT sale.country, (SELECT COUNT(*) FROM sale.products AS p WHERE p.cost > 60) AS number_products_cost_over_60\n",
    "FROM READ(\"https://raw-tutorial.s3.amazonaws.com/sales.json\") AS sale"
   ]
  },
  {
   "cell_type": "markdown",
   "metadata": {},
   "source": [
    "This query counts the number of products in each country that cost over 60."
   ]
  },
  {
   "cell_type": "markdown",
   "metadata": {},
   "source": [
    "## Extensions to GROUP BY"
   ]
  },
  {
   "cell_type": "markdown",
   "metadata": {},
   "source": [
    "We start by a traditional aggregation in SQL."
   ]
  },
  {
   "cell_type": "code",
   "execution_count": 47,
   "metadata": {},
   "outputs": [
    {
     "data": {
      "text/html": [
       "<table class=\"nested-table\">\n",
       "<tr><th colspan=\"1\" rowspan=\"1\">Country</th><th colspan=\"1\" rowspan=\"1\">_2</th></tr>\n",
       "<tr><td colspan=\"1\" rowspan=\"1\" class=\"\">Afghanistan</td><td colspan=\"1\" rowspan=\"1\" class=\"\">21</td></tr>\n",
       "<tr><td colspan=\"1\" rowspan=\"1\" class=\"\">Albania</td><td colspan=\"1\" rowspan=\"1\" class=\"\">1</td></tr>\n",
       "</table>"
      ],
      "text/plain": [
       "<raw_magic.nested_table.NestedTable at 0x126da7a30>"
      ]
     },
     "execution_count": 47,
     "metadata": {},
     "output_type": "execute_result"
    }
   ],
   "source": [
    "%%rql\n",
    "\n",
    "SELECT Country, COUNT(*)\n",
    "FROM READ(\"https://raw-tutorial.s3.amazonaws.com/airports.csv\")\n",
    "GROUP BY Country\n",
    "LIMIT 2"
   ]
  },
  {
   "cell_type": "markdown",
   "metadata": {},
   "source": [
    "This query lists the number of airports per country.\n",
    "\n",
    "In RAW, however, `GROUP BY` produces \"groups\" that be queried.\n",
    "\n",
    "When the `GROUP BY` keyword is used, the `*` is bound to the group.\n",
    "\n",
    "To query the entire \"group\" for a given country - i.e. the airports in each country - we can do:"
   ]
  },
  {
   "cell_type": "code",
   "execution_count": 48,
   "metadata": {},
   "outputs": [
    {
     "data": {
      "text/html": [
       "<table class=\"nested-table\">\n",
       "<tr><th colspan=\"1\" rowspan=\"2\">Country</th><th colspan=\"12\" rowspan=\"1\">_2</th></tr>\n",
       "<tr><th colspan=\"1\" rowspan=\"1\">AirportID</th><th colspan=\"1\" rowspan=\"1\">Name</th><th colspan=\"1\" rowspan=\"1\">City</th><th colspan=\"1\" rowspan=\"1\">Country</th><th colspan=\"1\" rowspan=\"1\">IATA_FAA</th><th colspan=\"1\" rowspan=\"1\">ICAO</th><th colspan=\"1\" rowspan=\"1\">Latitude</th><th colspan=\"1\" rowspan=\"1\">Longitude</th><th colspan=\"1\" rowspan=\"1\">Altitude</th><th colspan=\"1\" rowspan=\"1\">Timezone</th><th colspan=\"1\" rowspan=\"1\">DST</th><th colspan=\"1\" rowspan=\"1\">TZ</th></tr>\n",
       "<tr><td colspan=\"1\" rowspan=\"21\" class=\"\">Afghanistan</td><td colspan=\"1\" rowspan=\"1\" class=\"\">2048</td><td colspan=\"1\" rowspan=\"1\" class=\"\">Herat</td><td colspan=\"1\" rowspan=\"1\" class=\"\">Herat</td><td colspan=\"1\" rowspan=\"1\" class=\"\">Afghanistan</td><td colspan=\"1\" rowspan=\"1\" class=\"\">HEA</td><td colspan=\"1\" rowspan=\"1\" class=\"\">OAHR</td><td colspan=\"1\" rowspan=\"1\" class=\"\">34.210017</td><td colspan=\"1\" rowspan=\"1\" class=\"\">62.2283</td><td colspan=\"1\" rowspan=\"1\" class=\"\">3206</td><td colspan=\"1\" rowspan=\"1\" class=\"\">4.5</td><td colspan=\"1\" rowspan=\"1\" class=\"\">U</td><td colspan=\"1\" rowspan=\"1\" class=\"\">Asia/Kabul</td></tr>\n",
       "<tr><td colspan=\"1\" rowspan=\"1\" class=\"\">2049</td><td colspan=\"1\" rowspan=\"1\" class=\"\">Jalalabad</td><td colspan=\"1\" rowspan=\"1\" class=\"\">Jalalabad</td><td colspan=\"1\" rowspan=\"1\" class=\"\">Afghanistan</td><td colspan=\"1\" rowspan=\"1\" class=\"\">JAA</td><td colspan=\"1\" rowspan=\"1\" class=\"\">OAJL</td><td colspan=\"1\" rowspan=\"1\" class=\"\">34.399842</td><td colspan=\"1\" rowspan=\"1\" class=\"\">70.498625</td><td colspan=\"1\" rowspan=\"1\" class=\"\">1814</td><td colspan=\"1\" rowspan=\"1\" class=\"\">4.5</td><td colspan=\"1\" rowspan=\"1\" class=\"\">U</td><td colspan=\"1\" rowspan=\"1\" class=\"\">Asia/Kabul</td></tr>\n",
       "<tr><td colspan=\"1\" rowspan=\"1\" class=\"\">2050</td><td colspan=\"1\" rowspan=\"1\" class=\"\">Kabul Intl</td><td colspan=\"1\" rowspan=\"1\" class=\"\">Kabul</td><td colspan=\"1\" rowspan=\"1\" class=\"\">Afghanistan</td><td colspan=\"1\" rowspan=\"1\" class=\"\">KBL</td><td colspan=\"1\" rowspan=\"1\" class=\"\">OAKB</td><td colspan=\"1\" rowspan=\"1\" class=\"\">34.565853</td><td colspan=\"1\" rowspan=\"1\" class=\"\">69.212328</td><td colspan=\"1\" rowspan=\"1\" class=\"\">5877</td><td colspan=\"1\" rowspan=\"1\" class=\"\">4.5</td><td colspan=\"1\" rowspan=\"1\" class=\"\">U</td><td colspan=\"1\" rowspan=\"1\" class=\"\">Asia/Kabul</td></tr>\n",
       "<tr><td colspan=\"1\" rowspan=\"1\" class=\"\">2051</td><td colspan=\"1\" rowspan=\"1\" class=\"\">Kandahar</td><td colspan=\"1\" rowspan=\"1\" class=\"\">Kandahar</td><td colspan=\"1\" rowspan=\"1\" class=\"\">Afghanistan</td><td colspan=\"1\" rowspan=\"1\" class=\"\">KDH</td><td colspan=\"1\" rowspan=\"1\" class=\"\">OAKN</td><td colspan=\"1\" rowspan=\"1\" class=\"\">31.505756</td><td colspan=\"1\" rowspan=\"1\" class=\"\">65.847822</td><td colspan=\"1\" rowspan=\"1\" class=\"\">3337</td><td colspan=\"1\" rowspan=\"1\" class=\"\">4.5</td><td colspan=\"1\" rowspan=\"1\" class=\"\">U</td><td colspan=\"1\" rowspan=\"1\" class=\"\">Asia/Kabul</td></tr>\n",
       "<tr><td colspan=\"1\" rowspan=\"1\" class=\"\">2052</td><td colspan=\"1\" rowspan=\"1\" class=\"\">Maimana</td><td colspan=\"1\" rowspan=\"1\" class=\"\">Maimama</td><td colspan=\"1\" rowspan=\"1\" class=\"\">Afghanistan</td><td colspan=\"1\" rowspan=\"1\" class=\"\">MMZ</td><td colspan=\"1\" rowspan=\"1\" class=\"\">OAMN</td><td colspan=\"1\" rowspan=\"1\" class=\"\">35.930789</td><td colspan=\"1\" rowspan=\"1\" class=\"\">64.760917</td><td colspan=\"1\" rowspan=\"1\" class=\"\">2743</td><td colspan=\"1\" rowspan=\"1\" class=\"\">4.5</td><td colspan=\"1\" rowspan=\"1\" class=\"\">U</td><td colspan=\"1\" rowspan=\"1\" class=\"\">Asia/Kabul</td></tr>\n",
       "<tr><td colspan=\"1\" rowspan=\"1\" class=\"\">2053</td><td colspan=\"1\" rowspan=\"1\" class=\"\">Mazar I Sharif</td><td colspan=\"1\" rowspan=\"1\" class=\"\">Mazar-i-sharif</td><td colspan=\"1\" rowspan=\"1\" class=\"\">Afghanistan</td><td colspan=\"1\" rowspan=\"1\" class=\"\">MZR</td><td colspan=\"1\" rowspan=\"1\" class=\"\">OAMS</td><td colspan=\"1\" rowspan=\"1\" class=\"\">36.706914</td><td colspan=\"1\" rowspan=\"1\" class=\"\">67.209678</td><td colspan=\"1\" rowspan=\"1\" class=\"\">1284</td><td colspan=\"1\" rowspan=\"1\" class=\"\">4.5</td><td colspan=\"1\" rowspan=\"1\" class=\"\">U</td><td colspan=\"1\" rowspan=\"1\" class=\"\">Asia/Kabul</td></tr>\n",
       "<tr><td colspan=\"1\" rowspan=\"1\" class=\"\">2054</td><td colspan=\"1\" rowspan=\"1\" class=\"\">Shindand</td><td colspan=\"1\" rowspan=\"1\" class=\"\">Shindand</td><td colspan=\"1\" rowspan=\"1\" class=\"\">Afghanistan</td><td colspan=\"1\" rowspan=\"1\" class=\"\"></td><td colspan=\"1\" rowspan=\"1\" class=\"\">OASD</td><td colspan=\"1\" rowspan=\"1\" class=\"\">33.391331</td><td colspan=\"1\" rowspan=\"1\" class=\"\">62.260975</td><td colspan=\"1\" rowspan=\"1\" class=\"\">3773</td><td colspan=\"1\" rowspan=\"1\" class=\"\">4.5</td><td colspan=\"1\" rowspan=\"1\" class=\"\">U</td><td colspan=\"1\" rowspan=\"1\" class=\"\">Asia/Kabul</td></tr>\n",
       "<tr><td colspan=\"1\" rowspan=\"1\" class=\"\">2055</td><td colspan=\"1\" rowspan=\"1\" class=\"\">Sheberghan</td><td colspan=\"1\" rowspan=\"1\" class=\"\">Sheberghan</td><td colspan=\"1\" rowspan=\"1\" class=\"\">Afghanistan</td><td colspan=\"1\" rowspan=\"1\" class=\"\"></td><td colspan=\"1\" rowspan=\"1\" class=\"\">OASG</td><td colspan=\"1\" rowspan=\"1\" class=\"\">36.750783</td><td colspan=\"1\" rowspan=\"1\" class=\"\">65.913164</td><td colspan=\"1\" rowspan=\"1\" class=\"\">1053</td><td colspan=\"1\" rowspan=\"1\" class=\"\">4.5</td><td colspan=\"1\" rowspan=\"1\" class=\"\">U</td><td colspan=\"1\" rowspan=\"1\" class=\"\">Asia/Kabul</td></tr>\n",
       "<tr><td colspan=\"1\" rowspan=\"1\" class=\"\">2056</td><td colspan=\"1\" rowspan=\"1\" class=\"\">Konduz</td><td colspan=\"1\" rowspan=\"1\" class=\"\">Kunduz</td><td colspan=\"1\" rowspan=\"1\" class=\"\">Afghanistan</td><td colspan=\"1\" rowspan=\"1\" class=\"\">UND</td><td colspan=\"1\" rowspan=\"1\" class=\"\">OAUZ</td><td colspan=\"1\" rowspan=\"1\" class=\"\">36.665111</td><td colspan=\"1\" rowspan=\"1\" class=\"\">68.910833</td><td colspan=\"1\" rowspan=\"1\" class=\"\">1457</td><td colspan=\"1\" rowspan=\"1\" class=\"\">4.5</td><td colspan=\"1\" rowspan=\"1\" class=\"\">U</td><td colspan=\"1\" rowspan=\"1\" class=\"\">Asia/Kabul</td></tr>\n",
       "<tr><td colspan=\"1\" rowspan=\"1\" class=\"\">5922</td><td colspan=\"1\" rowspan=\"1\" class=\"\">Faizabad Airport</td><td colspan=\"1\" rowspan=\"1\" class=\"\">Faizabad</td><td colspan=\"1\" rowspan=\"1\" class=\"\">Afghanistan</td><td colspan=\"1\" rowspan=\"1\" class=\"\">FBD</td><td colspan=\"1\" rowspan=\"1\" class=\"\">OAFZ</td><td colspan=\"1\" rowspan=\"1\" class=\"\">37.1211</td><td colspan=\"1\" rowspan=\"1\" class=\"\">70.5181</td><td colspan=\"1\" rowspan=\"1\" class=\"\">3872</td><td colspan=\"1\" rowspan=\"1\" class=\"\">4.5</td><td colspan=\"1\" rowspan=\"1\" class=\"\">U</td><td colspan=\"1\" rowspan=\"1\" class=\"\">Asia/Kabul</td></tr>\n",
       "<tr><td colspan=\"1\" rowspan=\"1\" class=\"\">7036</td><td colspan=\"1\" rowspan=\"1\" class=\"\">Bagram AFB</td><td colspan=\"1\" rowspan=\"1\" class=\"\">Kabul</td><td colspan=\"1\" rowspan=\"1\" class=\"\">Afghanistan</td><td colspan=\"1\" rowspan=\"1\" class=\"\">BPM</td><td colspan=\"1\" rowspan=\"1\" class=\"\">OAIX</td><td colspan=\"1\" rowspan=\"1\" class=\"\">34.5646</td><td colspan=\"1\" rowspan=\"1\" class=\"\">69.1554</td><td colspan=\"1\" rowspan=\"1\" class=\"\">4895</td><td colspan=\"1\" rowspan=\"1\" class=\"\">4.5</td><td colspan=\"1\" rowspan=\"1\" class=\"\">U</td><td colspan=\"1\" rowspan=\"1\" class=\"\">Asia/Kabul</td></tr>\n",
       "<tr><td colspan=\"1\" rowspan=\"1\" class=\"\">7499</td><td colspan=\"1\" rowspan=\"1\" class=\"\">Tarin Kowt Airport</td><td colspan=\"1\" rowspan=\"1\" class=\"\">Tarin Kowt</td><td colspan=\"1\" rowspan=\"1\" class=\"\">Afghanistan</td><td colspan=\"1\" rowspan=\"1\" class=\"\">TII</td><td colspan=\"1\" rowspan=\"1\" class=\"\">OATN</td><td colspan=\"1\" rowspan=\"1\" class=\"\">32.605278</td><td colspan=\"1\" rowspan=\"1\" class=\"\">65.864167</td><td colspan=\"1\" rowspan=\"1\" class=\"\">3500</td><td colspan=\"1\" rowspan=\"1\" class=\"\">4.5</td><td colspan=\"1\" rowspan=\"1\" class=\"\">U</td><td colspan=\"1\" rowspan=\"1\" class=\"\">Asia/Kabul</td></tr>\n",
       "<tr><td colspan=\"1\" rowspan=\"1\" class=\"\">7500</td><td colspan=\"1\" rowspan=\"1\" class=\"\">Zaranj Airport</td><td colspan=\"1\" rowspan=\"1\" class=\"\">Zaranj</td><td colspan=\"1\" rowspan=\"1\" class=\"\">Afghanistan</td><td colspan=\"1\" rowspan=\"1\" class=\"\">ZAJ</td><td colspan=\"1\" rowspan=\"1\" class=\"\">OAZJ</td><td colspan=\"1\" rowspan=\"1\" class=\"\">30.969167</td><td colspan=\"1\" rowspan=\"1\" class=\"\">61.866944</td><td colspan=\"1\" rowspan=\"1\" class=\"\">1581</td><td colspan=\"1\" rowspan=\"1\" class=\"\">4.5</td><td colspan=\"1\" rowspan=\"1\" class=\"\">U</td><td colspan=\"1\" rowspan=\"1\" class=\"\">Asia/Kabul</td></tr>\n",
       "<tr><td colspan=\"1\" rowspan=\"1\" class=\"\">7501</td><td colspan=\"1\" rowspan=\"1\" class=\"\">Chaghcharan Airport</td><td colspan=\"1\" rowspan=\"1\" class=\"\">Chaghcharan</td><td colspan=\"1\" rowspan=\"1\" class=\"\">Afghanistan</td><td colspan=\"1\" rowspan=\"1\" class=\"\">CCN</td><td colspan=\"1\" rowspan=\"1\" class=\"\">OACC</td><td colspan=\"1\" rowspan=\"1\" class=\"\">34.526667</td><td colspan=\"1\" rowspan=\"1\" class=\"\">65.271667</td><td colspan=\"1\" rowspan=\"1\" class=\"\">7383</td><td colspan=\"1\" rowspan=\"1\" class=\"\">4.5</td><td colspan=\"1\" rowspan=\"1\" class=\"\">U</td><td colspan=\"1\" rowspan=\"1\" class=\"\">Asia/Kabul</td></tr>\n",
       "<tr><td colspan=\"1\" rowspan=\"1\" class=\"\">7868</td><td colspan=\"1\" rowspan=\"1\" class=\"\">Camp Bastion </td><td colspan=\"1\" rowspan=\"1\" class=\"\">Camp Bastion</td><td colspan=\"1\" rowspan=\"1\" class=\"\">Afghanistan</td><td colspan=\"1\" rowspan=\"1\" class=\"\"></td><td colspan=\"1\" rowspan=\"1\" class=\"\">OAZI</td><td colspan=\"1\" rowspan=\"1\" class=\"\">31.865556</td><td colspan=\"1\" rowspan=\"1\" class=\"\">64.195278</td><td colspan=\"1\" rowspan=\"1\" class=\"\">2808</td><td colspan=\"1\" rowspan=\"1\" class=\"\">4.5</td><td colspan=\"1\" rowspan=\"1\" class=\"\">N</td><td colspan=\"1\" rowspan=\"1\" class=\"\">Asia/Kabul</td></tr>\n",
       "<tr><td colspan=\"1\" rowspan=\"1\" class=\"\">8127</td><td colspan=\"1\" rowspan=\"1\" class=\"\">FOB Salerno</td><td colspan=\"1\" rowspan=\"1\" class=\"\">Khost</td><td colspan=\"1\" rowspan=\"1\" class=\"\">Afghanistan</td><td colspan=\"1\" rowspan=\"1\" class=\"\">KHT</td><td colspan=\"1\" rowspan=\"1\" class=\"\">OAKS</td><td colspan=\"1\" rowspan=\"1\" class=\"\">33.3334</td><td colspan=\"1\" rowspan=\"1\" class=\"\">69.952</td><td colspan=\"1\" rowspan=\"1\" class=\"\">3756</td><td colspan=\"1\" rowspan=\"1\" class=\"\">4.5</td><td colspan=\"1\" rowspan=\"1\" class=\"\">N</td><td colspan=\"1\" rowspan=\"1\" class=\"\">Asia/Kabul</td></tr>\n",
       "<tr><td colspan=\"1\" rowspan=\"1\" class=\"\">8145</td><td colspan=\"1\" rowspan=\"1\" class=\"\">FOB Sharana</td><td colspan=\"1\" rowspan=\"1\" class=\"\">Sharan</td><td colspan=\"1\" rowspan=\"1\" class=\"\">Afghanistan</td><td colspan=\"1\" rowspan=\"1\" class=\"\"></td><td colspan=\"1\" rowspan=\"1\" class=\"\">N</td><td colspan=\"1\" rowspan=\"1\" class=\"\">33.12777215</td><td colspan=\"1\" rowspan=\"1\" class=\"\">68.8369847</td><td colspan=\"1\" rowspan=\"1\" class=\"\">7400</td><td colspan=\"1\" rowspan=\"1\" class=\"\">4.5</td><td colspan=\"1\" rowspan=\"1\" class=\"\">N</td><td colspan=\"1\" rowspan=\"1\" class=\"\">Asia/Kabul</td></tr>\n",
       "<tr><td colspan=\"1\" rowspan=\"1\" class=\"\">8146</td><td colspan=\"1\" rowspan=\"1\" class=\"\">Sharona</td><td colspan=\"1\" rowspan=\"1\" class=\"\">Sharona</td><td colspan=\"1\" rowspan=\"1\" class=\"\">Afghanistan</td><td colspan=\"1\" rowspan=\"1\" class=\"\">AZ3</td><td colspan=\"1\" rowspan=\"1\" class=\"\">OASA</td><td colspan=\"1\" rowspan=\"1\" class=\"\">33.1277215</td><td colspan=\"1\" rowspan=\"1\" class=\"\">68.8369847</td><td colspan=\"1\" rowspan=\"1\" class=\"\">7400</td><td colspan=\"1\" rowspan=\"1\" class=\"\">4.5</td><td colspan=\"1\" rowspan=\"1\" class=\"\">N</td><td colspan=\"1\" rowspan=\"1\" class=\"\">Asia/Kabul</td></tr>\n",
       "<tr><td colspan=\"1\" rowspan=\"1\" class=\"\">8267</td><td colspan=\"1\" rowspan=\"1\" class=\"\">FOB Shank</td><td colspan=\"1\" rowspan=\"1\" class=\"\">Shank</td><td colspan=\"1\" rowspan=\"1\" class=\"\">Afghanistan</td><td colspan=\"1\" rowspan=\"1\" class=\"\"></td><td colspan=\"1\" rowspan=\"1\" class=\"\">OASH</td><td colspan=\"1\" rowspan=\"1\" class=\"\">33.921369</td><td colspan=\"1\" rowspan=\"1\" class=\"\">69.07813</td><td colspan=\"1\" rowspan=\"1\" class=\"\">6614</td><td colspan=\"1\" rowspan=\"1\" class=\"\">4.5</td><td colspan=\"1\" rowspan=\"1\" class=\"\">N</td><td colspan=\"1\" rowspan=\"1\" class=\"\">Asia/Kabul</td></tr>\n",
       "<tr><td colspan=\"1\" rowspan=\"1\" class=\"\">8773</td><td colspan=\"1\" rowspan=\"1\" class=\"\">Bost Airport</td><td colspan=\"1\" rowspan=\"1\" class=\"\">Lashkar Gah</td><td colspan=\"1\" rowspan=\"1\" class=\"\">Afghanistan</td><td colspan=\"1\" rowspan=\"1\" class=\"\">BST</td><td colspan=\"1\" rowspan=\"1\" class=\"\">OABT</td><td colspan=\"1\" rowspan=\"1\" class=\"\">31.558889</td><td colspan=\"1\" rowspan=\"1\" class=\"\">64.364167</td><td colspan=\"1\" rowspan=\"1\" class=\"\">2464</td><td colspan=\"1\" rowspan=\"1\" class=\"\">4.5</td><td colspan=\"1\" rowspan=\"1\" class=\"\">U</td><td colspan=\"1\" rowspan=\"1\" class=\"\">Asia/Kabul</td></tr>\n",
       "<tr><td colspan=\"1\" rowspan=\"1\" class=\"\">8825</td><td colspan=\"1\" rowspan=\"1\" class=\"\">Bamyan Airport</td><td colspan=\"1\" rowspan=\"1\" class=\"\">Bamyan</td><td colspan=\"1\" rowspan=\"1\" class=\"\">Afghanistan</td><td colspan=\"1\" rowspan=\"1\" class=\"\">BIN</td><td colspan=\"1\" rowspan=\"1\" class=\"\">OABN</td><td colspan=\"1\" rowspan=\"1\" class=\"\">34.816667</td><td colspan=\"1\" rowspan=\"1\" class=\"\">67.816667</td><td colspan=\"1\" rowspan=\"1\" class=\"\">2550</td><td colspan=\"1\" rowspan=\"1\" class=\"\">4.5</td><td colspan=\"1\" rowspan=\"1\" class=\"\">N</td><td colspan=\"1\" rowspan=\"1\" class=\"\">Asia/Kabul</td></tr>\n",
       "<tr><td colspan=\"1\" rowspan=\"1\" class=\"\">Albania</td><td colspan=\"1\" rowspan=\"1\" class=\"\">1190</td><td colspan=\"1\" rowspan=\"1\" class=\"\">Tirana Rinas</td><td colspan=\"1\" rowspan=\"1\" class=\"\">Tirana</td><td colspan=\"1\" rowspan=\"1\" class=\"\">Albania</td><td colspan=\"1\" rowspan=\"1\" class=\"\">TIA</td><td colspan=\"1\" rowspan=\"1\" class=\"\">LATI</td><td colspan=\"1\" rowspan=\"1\" class=\"\">41.414742</td><td colspan=\"1\" rowspan=\"1\" class=\"\">19.720561</td><td colspan=\"1\" rowspan=\"1\" class=\"\">126</td><td colspan=\"1\" rowspan=\"1\" class=\"\">1.0</td><td colspan=\"1\" rowspan=\"1\" class=\"\">E</td><td colspan=\"1\" rowspan=\"1\" class=\"\">Europe/Tirane</td></tr>\n",
       "</table>"
      ],
      "text/plain": [
       "<raw_magic.nested_table.NestedTable at 0x126da7490>"
      ]
     },
     "execution_count": 48,
     "metadata": {},
     "output_type": "execute_result"
    }
   ],
   "source": [
    "%%rql\n",
    "\n",
    "SELECT Country, *\n",
    "FROM READ(\"https://raw-tutorial.s3.amazonaws.com/airports.csv\")\n",
    "GROUP BY Country\n",
    "LIMIT 2"
   ]
  },
  {
   "cell_type": "markdown",
   "metadata": {},
   "source": [
    "THE `*` is a \"nested table\" containing all rows in the group defined by the `GROUP BY` clause.\n",
    "\n",
    "In this example the `*` is all the airports in a given `Country`, since the query does `GROUP BY Country`.\n",
    "\n",
    "Since `*` is a table, we can query it as normally:"
   ]
  },
  {
   "cell_type": "code",
   "execution_count": 50,
   "metadata": {},
   "outputs": [
    {
     "data": {
      "text/html": [
       "<table class=\"nested-table\">\n",
       "<tr><th colspan=\"1\" rowspan=\"2\">Country</th><th colspan=\"2\" rowspan=\"1\">_2</th></tr>\n",
       "<tr><th colspan=\"1\" rowspan=\"1\">Name</th><th colspan=\"1\" rowspan=\"1\">City</th></tr>\n",
       "<tr><td colspan=\"1\" rowspan=\"21\" class=\"\">Afghanistan</td><td colspan=\"1\" rowspan=\"1\" class=\"\">Herat</td><td colspan=\"1\" rowspan=\"1\" class=\"\">Herat</td></tr>\n",
       "<tr><td colspan=\"1\" rowspan=\"1\" class=\"\">Jalalabad</td><td colspan=\"1\" rowspan=\"1\" class=\"\">Jalalabad</td></tr>\n",
       "<tr><td colspan=\"1\" rowspan=\"1\" class=\"\">Kabul Intl</td><td colspan=\"1\" rowspan=\"1\" class=\"\">Kabul</td></tr>\n",
       "<tr><td colspan=\"1\" rowspan=\"1\" class=\"\">Kandahar</td><td colspan=\"1\" rowspan=\"1\" class=\"\">Kandahar</td></tr>\n",
       "<tr><td colspan=\"1\" rowspan=\"1\" class=\"\">Maimana</td><td colspan=\"1\" rowspan=\"1\" class=\"\">Maimama</td></tr>\n",
       "<tr><td colspan=\"1\" rowspan=\"1\" class=\"\">Mazar I Sharif</td><td colspan=\"1\" rowspan=\"1\" class=\"\">Mazar-i-sharif</td></tr>\n",
       "<tr><td colspan=\"1\" rowspan=\"1\" class=\"\">Shindand</td><td colspan=\"1\" rowspan=\"1\" class=\"\">Shindand</td></tr>\n",
       "<tr><td colspan=\"1\" rowspan=\"1\" class=\"\">Sheberghan</td><td colspan=\"1\" rowspan=\"1\" class=\"\">Sheberghan</td></tr>\n",
       "<tr><td colspan=\"1\" rowspan=\"1\" class=\"\">Konduz</td><td colspan=\"1\" rowspan=\"1\" class=\"\">Kunduz</td></tr>\n",
       "<tr><td colspan=\"1\" rowspan=\"1\" class=\"\">Faizabad Airport</td><td colspan=\"1\" rowspan=\"1\" class=\"\">Faizabad</td></tr>\n",
       "<tr><td colspan=\"1\" rowspan=\"1\" class=\"\">Bagram AFB</td><td colspan=\"1\" rowspan=\"1\" class=\"\">Kabul</td></tr>\n",
       "<tr><td colspan=\"1\" rowspan=\"1\" class=\"\">Tarin Kowt Airport</td><td colspan=\"1\" rowspan=\"1\" class=\"\">Tarin Kowt</td></tr>\n",
       "<tr><td colspan=\"1\" rowspan=\"1\" class=\"\">Zaranj Airport</td><td colspan=\"1\" rowspan=\"1\" class=\"\">Zaranj</td></tr>\n",
       "<tr><td colspan=\"1\" rowspan=\"1\" class=\"\">Chaghcharan Airport</td><td colspan=\"1\" rowspan=\"1\" class=\"\">Chaghcharan</td></tr>\n",
       "<tr><td colspan=\"1\" rowspan=\"1\" class=\"\">Camp Bastion </td><td colspan=\"1\" rowspan=\"1\" class=\"\">Camp Bastion</td></tr>\n",
       "<tr><td colspan=\"1\" rowspan=\"1\" class=\"\">FOB Salerno</td><td colspan=\"1\" rowspan=\"1\" class=\"\">Khost</td></tr>\n",
       "<tr><td colspan=\"1\" rowspan=\"1\" class=\"\">FOB Sharana</td><td colspan=\"1\" rowspan=\"1\" class=\"\">Sharan</td></tr>\n",
       "<tr><td colspan=\"1\" rowspan=\"1\" class=\"\">Sharona</td><td colspan=\"1\" rowspan=\"1\" class=\"\">Sharona</td></tr>\n",
       "<tr><td colspan=\"1\" rowspan=\"1\" class=\"\">FOB Shank</td><td colspan=\"1\" rowspan=\"1\" class=\"\">Shank</td></tr>\n",
       "<tr><td colspan=\"1\" rowspan=\"1\" class=\"\">Bost Airport</td><td colspan=\"1\" rowspan=\"1\" class=\"\">Lashkar Gah</td></tr>\n",
       "<tr><td colspan=\"1\" rowspan=\"1\" class=\"\">Bamyan Airport</td><td colspan=\"1\" rowspan=\"1\" class=\"\">Bamyan</td></tr>\n",
       "<tr><td colspan=\"1\" rowspan=\"1\" class=\"\">Albania</td><td colspan=\"1\" rowspan=\"1\" class=\"\">Tirana Rinas</td><td colspan=\"1\" rowspan=\"1\" class=\"\">Tirana</td></tr>\n",
       "</table>"
      ],
      "text/plain": [
       "<raw_magic.nested_table.NestedTable at 0x127a92c40>"
      ]
     },
     "execution_count": 50,
     "metadata": {},
     "output_type": "execute_result"
    }
   ],
   "source": [
    "%%rql\n",
    "\n",
    "SELECT Country, (SELECT Name, City FROM *)\n",
    "FROM READ(\"https://raw-tutorial.s3.amazonaws.com/airports.csv\")\n",
    "GROUP BY Country\n",
    "LIMIT 2"
   ]
  },
  {
   "cell_type": "markdown",
   "metadata": {},
   "source": [
    "... or even ..."
   ]
  },
  {
   "cell_type": "code",
   "execution_count": 55,
   "metadata": {
    "scrolled": true
   },
   "outputs": [
    {
     "data": {
      "text/html": [
       "<table class=\"nested-table\">\n",
       "<tr><th colspan=\"1\" rowspan=\"2\">Country</th><th colspan=\"2\" rowspan=\"1\">_2</th></tr>\n",
       "<tr><th colspan=\"1\" rowspan=\"1\">City</th><th colspan=\"1\" rowspan=\"1\">_2</th></tr>\n",
       "<tr><td colspan=\"1\" rowspan=\"20\" class=\"\">Afghanistan</td><td colspan=\"1\" rowspan=\"1\" class=\"\">Shank</td><td colspan=\"1\" rowspan=\"1\" class=\"\">1</td></tr>\n",
       "<tr><td colspan=\"1\" rowspan=\"1\" class=\"\">Camp Bastion</td><td colspan=\"1\" rowspan=\"1\" class=\"\">1</td></tr>\n",
       "<tr><td colspan=\"1\" rowspan=\"1\" class=\"\">Jalalabad</td><td colspan=\"1\" rowspan=\"1\" class=\"\">1</td></tr>\n",
       "<tr><td colspan=\"1\" rowspan=\"1\" class=\"\">Chaghcharan</td><td colspan=\"1\" rowspan=\"1\" class=\"\">1</td></tr>\n",
       "<tr><td colspan=\"1\" rowspan=\"1\" class=\"\">Tarin Kowt</td><td colspan=\"1\" rowspan=\"1\" class=\"\">1</td></tr>\n",
       "<tr><td colspan=\"1\" rowspan=\"1\" class=\"\">Sheberghan</td><td colspan=\"1\" rowspan=\"1\" class=\"\">1</td></tr>\n",
       "<tr><td colspan=\"1\" rowspan=\"1\" class=\"\">Kunduz</td><td colspan=\"1\" rowspan=\"1\" class=\"\">1</td></tr>\n",
       "<tr><td colspan=\"1\" rowspan=\"1\" class=\"\">Kabul</td><td colspan=\"1\" rowspan=\"1\" class=\"\">2</td></tr>\n",
       "<tr><td colspan=\"1\" rowspan=\"1\" class=\"\">Shindand</td><td colspan=\"1\" rowspan=\"1\" class=\"\">1</td></tr>\n",
       "<tr><td colspan=\"1\" rowspan=\"1\" class=\"\">Sharan</td><td colspan=\"1\" rowspan=\"1\" class=\"\">1</td></tr>\n",
       "<tr><td colspan=\"1\" rowspan=\"1\" class=\"\">Khost</td><td colspan=\"1\" rowspan=\"1\" class=\"\">1</td></tr>\n",
       "<tr><td colspan=\"1\" rowspan=\"1\" class=\"\">Faizabad</td><td colspan=\"1\" rowspan=\"1\" class=\"\">1</td></tr>\n",
       "<tr><td colspan=\"1\" rowspan=\"1\" class=\"\">Zaranj</td><td colspan=\"1\" rowspan=\"1\" class=\"\">1</td></tr>\n",
       "<tr><td colspan=\"1\" rowspan=\"1\" class=\"\">Mazar-i-sharif</td><td colspan=\"1\" rowspan=\"1\" class=\"\">1</td></tr>\n",
       "<tr><td colspan=\"1\" rowspan=\"1\" class=\"\">Herat</td><td colspan=\"1\" rowspan=\"1\" class=\"\">1</td></tr>\n",
       "<tr><td colspan=\"1\" rowspan=\"1\" class=\"\">Sharona</td><td colspan=\"1\" rowspan=\"1\" class=\"\">1</td></tr>\n",
       "<tr><td colspan=\"1\" rowspan=\"1\" class=\"\">Kandahar</td><td colspan=\"1\" rowspan=\"1\" class=\"\">1</td></tr>\n",
       "<tr><td colspan=\"1\" rowspan=\"1\" class=\"\">Maimama</td><td colspan=\"1\" rowspan=\"1\" class=\"\">1</td></tr>\n",
       "<tr><td colspan=\"1\" rowspan=\"1\" class=\"\">Lashkar Gah</td><td colspan=\"1\" rowspan=\"1\" class=\"\">1</td></tr>\n",
       "<tr><td colspan=\"1\" rowspan=\"1\" class=\"\">Bamyan</td><td colspan=\"1\" rowspan=\"1\" class=\"\">1</td></tr>\n",
       "<tr><td colspan=\"1\" rowspan=\"1\" class=\"\">Albania</td><td colspan=\"1\" rowspan=\"1\" class=\"\">Tirana</td><td colspan=\"1\" rowspan=\"1\" class=\"\">1</td></tr>\n",
       "</table>"
      ],
      "text/plain": [
       "<raw_magic.nested_table.NestedTable at 0x12788eb20>"
      ]
     },
     "execution_count": 55,
     "metadata": {},
     "output_type": "execute_result"
    }
   ],
   "source": [
    "%%rql\n",
    "\n",
    "SELECT Country, (SELECT City, COUNT(*) FROM * GROUP BY City)\n",
    "FROM READ(\"https://raw-tutorial.s3.amazonaws.com/airports.csv\")\n",
    "GROUP BY Country\n",
    "LIMIT 2"
   ]
  },
  {
   "cell_type": "markdown",
   "metadata": {},
   "source": [
    "This groups the airports by Country, and then by City.\n",
    "\n",
    "The `COUNT(*)` in the inner `SELECT` refers to the groups created by `GROUP BY City`."
   ]
  },
  {
   "cell_type": "markdown",
   "metadata": {},
   "source": [
    "## Top-Level Collections"
   ]
  },
  {
   "cell_type": "markdown",
   "metadata": {},
   "source": [
    "Let's look in more detail at the output of the following queries:"
   ]
  },
  {
   "cell_type": "code",
   "execution_count": 68,
   "metadata": {},
   "outputs": [
    {
     "data": {
      "text/html": [
       "<table class=\"nested-table\">\n",
       "<tr><th colspan=\"1\" rowspan=\"1\">name</th></tr>\n",
       "<tr><td colspan=\"1\" rowspan=\"1\" class=\"\">CH</td></tr>\n",
       "<tr><td colspan=\"1\" rowspan=\"1\" class=\"\">US</td></tr>\n",
       "</table>"
      ],
      "text/plain": [
       "<raw_magic.nested_table.NestedTable at 0x127ebfdc0>"
      ]
     },
     "execution_count": 68,
     "metadata": {},
     "output_type": "execute_result"
    }
   ],
   "source": [
    "%%rql\n",
    "\n",
    "SELECT country AS name FROM READ(\"https://raw-tutorial.s3.amazonaws.com/sales.json\")"
   ]
  },
  {
   "cell_type": "markdown",
   "metadata": {},
   "source": [
    "This query returns a list of countries. Each row in the output has the column `name`.\n",
    "\n",
    "If we were to visualize the output as JSON, it would be:\n",
    "```\n",
    "[\n",
    "  {\"name\": \"CH\"},\n",
    "  {\"name\": \"US\"}\n",
    "]\n",
    "```\n",
    "\n",
    "Now the following query:"
   ]
  },
  {
   "cell_type": "code",
   "execution_count": 70,
   "metadata": {},
   "outputs": [
    {
     "data": {
      "text/html": [
       "<table class=\"nested-table\">\n",
       "<tr><th colspan=\"1\" rowspan=\"1\">string</th></tr>\n",
       "<tr><td colspan=\"1\" rowspan=\"1\" class=\"\">CH</td></tr>\n",
       "<tr><td colspan=\"1\" rowspan=\"1\" class=\"\">US</td></tr>\n",
       "</table>"
      ],
      "text/plain": [
       "<raw_magic.nested_table.NestedTable at 0x126cadaf0>"
      ]
     },
     "execution_count": 70,
     "metadata": {},
     "output_type": "execute_result"
    }
   ],
   "source": [
    "%%rql\n",
    "\n",
    "SELECT country FROM READ(\"https://raw-tutorial.s3.amazonaws.com/sales.json\")"
   ]
  },
  {
   "cell_type": "markdown",
   "metadata": {},
   "source": [
    "... appears similar but note that `AS` alias is not included.\n",
    "\n",
    "The output is different: each row is in fact a string. There is not record.\n",
    "\n",
    "If we were to visualize the output as JSON, it would be:\n",
    "\n",
    "```\n",
    "  [\"CH\", \"US\"]\n",
    "```\n",
    "\n",
    "We can confirm this by asking the output type of the query, with the RAW Jupyter magic `%%query_validate`. "
   ]
  },
  {
   "cell_type": "code",
   "execution_count": 78,
   "metadata": {},
   "outputs": [
    {
     "name": "stdout",
     "output_type": "stream",
     "text": [
      "collection(record(name: string))\n"
     ]
    }
   ],
   "source": [
    "%%query_validate\n",
    "\n",
    "SELECT country AS name FROM READ(\"https://raw-tutorial.s3.amazonaws.com/sales.json\")"
   ]
  },
  {
   "cell_type": "code",
   "execution_count": 79,
   "metadata": {},
   "outputs": [
    {
     "name": "stdout",
     "output_type": "stream",
     "text": [
      "collection(string)\n"
     ]
    }
   ],
   "source": [
    "%%query_validate\n",
    "\n",
    "SELECT country FROM READ(\"https://raw-tutorial.s3.amazonaws.com/sales.json\")"
   ]
  },
  {
   "cell_type": "markdown",
   "metadata": {},
   "source": [
    "Note that the first example returns `collection(record(name: string))`, which is RAW's type representation for a collection of records, each with a single field `name` of type string.\n",
    "\n",
    "The second returns `collection(string)`, which is RAW's type representation for a collection of strings."
   ]
  },
  {
   "cell_type": "markdown",
   "metadata": {},
   "source": [
    "## Top-Level Records "
   ]
  },
  {
   "cell_type": "markdown",
   "metadata": {},
   "source": [
    "The syntax `(field1: \"One\", field2: 1)` is used to create a record with two fields: `field1`, a string with value `\"One\"`, and `field2`, a integer with value 1.\n",
    "\n",
    "Collections and Records can be nested in RAW, so the following is a valid query:"
   ]
  },
  {
   "cell_type": "code",
   "execution_count": 63,
   "metadata": {},
   "outputs": [
    {
     "data": {
      "text/html": [
       "<table class=\"nested-table\">\n",
       "<tr><th colspan=\"1\" rowspan=\"1\">Countries</th><th colspan=\"1\" rowspan=\"1\">Number_Of_Airports</th></tr>\n",
       "<tr><td colspan=\"1\" rowspan=\"1\" class=\"\">Afghanistan</td><td colspan=\"1\" rowspan=\"240\" class=\"\">8107</td></tr>\n",
       "<tr><td colspan=\"1\" rowspan=\"1\" class=\"\">Albania</td></tr>\n",
       "<tr><td colspan=\"1\" rowspan=\"1\" class=\"\">Angola</td></tr>\n",
       "<tr><td colspan=\"1\" rowspan=\"1\" class=\"\">Antarctica</td></tr>\n",
       "<tr><td colspan=\"1\" rowspan=\"1\" class=\"\">Australia</td></tr>\n",
       "<tr><td colspan=\"1\" rowspan=\"1\" class=\"\">Barbados</td></tr>\n",
       "<tr><td colspan=\"1\" rowspan=\"1\" class=\"\">Belarus</td></tr>\n",
       "<tr><td colspan=\"1\" rowspan=\"1\" class=\"\">Benin</td></tr>\n",
       "<tr><td colspan=\"1\" rowspan=\"1\" class=\"\">Bermuda</td></tr>\n",
       "<tr><td colspan=\"1\" rowspan=\"1\" class=\"\">Bhutan</td></tr>\n",
       "<tr><td colspan=\"1\" rowspan=\"1\" class=\"\">Bolivia</td></tr>\n",
       "<tr><td colspan=\"1\" rowspan=\"1\" class=\"\">Brazil</td></tr>\n",
       "<tr><td colspan=\"1\" rowspan=\"1\" class=\"\">British Indian Ocean Territory</td></tr>\n",
       "<tr><td colspan=\"1\" rowspan=\"1\" class=\"\">British Virgin Islands</td></tr>\n",
       "<tr><td colspan=\"1\" rowspan=\"1\" class=\"\">Cambodia</td></tr>\n",
       "<tr><td colspan=\"1\" rowspan=\"1\" class=\"\">Cameroon</td></tr>\n",
       "<tr><td colspan=\"1\" rowspan=\"1\" class=\"\">Canada</td></tr>\n",
       "<tr><td colspan=\"1\" rowspan=\"1\" class=\"\">Chad</td></tr>\n",
       "<tr><td colspan=\"1\" rowspan=\"1\" class=\"\">Colombia</td></tr>\n",
       "<tr><td colspan=\"1\" rowspan=\"1\" class=\"\">Comoros</td></tr>\n",
       "<tr><td colspan=\"1\" rowspan=\"1\" class=\"\">Cook Islands</td></tr>\n",
       "<tr><td colspan=\"1\" rowspan=\"1\" class=\"\">Cote d&#x27;Ivoire</td></tr>\n",
       "<tr><td colspan=\"1\" rowspan=\"1\" class=\"\">Cyprus</td></tr>\n",
       "<tr><td colspan=\"1\" rowspan=\"1\" class=\"\">Denmark</td></tr>\n",
       "<tr><td colspan=\"1\" rowspan=\"1\" class=\"\">Djibouti</td></tr>\n",
       "<tr><td colspan=\"1\" rowspan=\"1\" class=\"\">Dominica</td></tr>\n",
       "<tr><td colspan=\"1\" rowspan=\"1\" class=\"\">Dominican Republic</td></tr>\n",
       "<tr><td colspan=\"1\" rowspan=\"1\" class=\"\">East Timor</td></tr>\n",
       "<tr><td colspan=\"1\" rowspan=\"1\" class=\"\">Equatorial Guinea</td></tr>\n",
       "<tr><td colspan=\"1\" rowspan=\"1\" class=\"\">Eritrea</td></tr>\n",
       "<tr><td colspan=\"1\" rowspan=\"1\" class=\"\">Fiji</td></tr>\n",
       "<tr><td colspan=\"1\" rowspan=\"1\" class=\"\">Finland</td></tr>\n",
       "<tr><td colspan=\"1\" rowspan=\"1\" class=\"\">French Polynesia</td></tr>\n",
       "<tr><td colspan=\"1\" rowspan=\"1\" class=\"\">Georgia</td></tr>\n",
       "<tr><td colspan=\"1\" rowspan=\"1\" class=\"\">Gibraltar</td></tr>\n",
       "<tr><td colspan=\"1\" rowspan=\"1\" class=\"\">Greenland</td></tr>\n",
       "<tr><td colspan=\"1\" rowspan=\"1\" class=\"\">Grenada</td></tr>\n",
       "<tr><td colspan=\"1\" rowspan=\"1\" class=\"\">Guam</td></tr>\n",
       "<tr><td colspan=\"1\" rowspan=\"1\" class=\"\">Guernsey</td></tr>\n",
       "<tr><td colspan=\"1\" rowspan=\"1\" class=\"\">Honduras</td></tr>\n",
       "<tr><td colspan=\"1\" rowspan=\"1\" class=\"\">Hungary</td></tr>\n",
       "<tr><td colspan=\"1\" rowspan=\"1\" class=\"\">Iceland</td></tr>\n",
       "<tr><td colspan=\"1\" rowspan=\"1\" class=\"\">Indonesia</td></tr>\n",
       "<tr><td colspan=\"1\" rowspan=\"1\" class=\"\">Iran</td></tr>\n",
       "<tr><td colspan=\"1\" rowspan=\"1\" class=\"\">Isle of Man</td></tr>\n",
       "<tr><td colspan=\"1\" rowspan=\"1\" class=\"\">Israel</td></tr>\n",
       "<tr><td colspan=\"1\" rowspan=\"1\" class=\"\">Jamaica</td></tr>\n",
       "<tr><td colspan=\"1\" rowspan=\"1\" class=\"\">Japan</td></tr>\n",
       "<tr><td colspan=\"1\" rowspan=\"1\" class=\"\">Jersey</td></tr>\n",
       "<tr><td colspan=\"1\" rowspan=\"1\" class=\"\">Jordan</td></tr>\n",
       "<tr><td colspan=\"1\" rowspan=\"1\" class=\"\">Kazakhstan</td></tr>\n",
       "<tr><td colspan=\"1\" rowspan=\"1\" class=\"\">Kenya</td></tr>\n",
       "<tr><td colspan=\"1\" rowspan=\"1\" class=\"\">Korea</td></tr>\n",
       "<tr><td colspan=\"1\" rowspan=\"1\" class=\"\">Kyrgyzstan</td></tr>\n",
       "<tr><td colspan=\"1\" rowspan=\"1\" class=\"\">Lesotho</td></tr>\n",
       "<tr><td colspan=\"1\" rowspan=\"1\" class=\"\">Liberia</td></tr>\n",
       "<tr><td colspan=\"1\" rowspan=\"1\" class=\"\">Luxembourg</td></tr>\n",
       "<tr><td colspan=\"1\" rowspan=\"1\" class=\"\">Madagascar</td></tr>\n",
       "<tr><td colspan=\"1\" rowspan=\"1\" class=\"\">Marshall Islands</td></tr>\n",
       "<tr><td colspan=\"1\" rowspan=\"1\" class=\"\">Micronesia</td></tr>\n",
       "<tr><td colspan=\"1\" rowspan=\"1\" class=\"\">Moldova</td></tr>\n",
       "<tr><td colspan=\"1\" rowspan=\"1\" class=\"\">Mongolia</td></tr>\n",
       "<tr><td colspan=\"1\" rowspan=\"1\" class=\"\">Montenegro</td></tr>\n",
       "<tr><td colspan=\"1\" rowspan=\"1\" class=\"\">Morocco</td></tr>\n",
       "<tr><td colspan=\"1\" rowspan=\"1\" class=\"\">Mozambique</td></tr>\n",
       "<tr><td colspan=\"1\" rowspan=\"1\" class=\"\">Nepal</td></tr>\n",
       "<tr><td colspan=\"1\" rowspan=\"1\" class=\"\">Netherlands</td></tr>\n",
       "<tr><td colspan=\"1\" rowspan=\"1\" class=\"\">Netherlands Antilles</td></tr>\n",
       "<tr><td colspan=\"1\" rowspan=\"1\" class=\"\">New Caledonia</td></tr>\n",
       "<tr><td colspan=\"1\" rowspan=\"1\" class=\"\">Norfolk Island</td></tr>\n",
       "<tr><td colspan=\"1\" rowspan=\"1\" class=\"\">Norway</td></tr>\n",
       "<tr><td colspan=\"1\" rowspan=\"1\" class=\"\">Panama</td></tr>\n",
       "<tr><td colspan=\"1\" rowspan=\"1\" class=\"\">Papua New Guinea</td></tr>\n",
       "<tr><td colspan=\"1\" rowspan=\"1\" class=\"\">Paraguay</td></tr>\n",
       "<tr><td colspan=\"1\" rowspan=\"1\" class=\"\">Peru</td></tr>\n",
       "<tr><td colspan=\"1\" rowspan=\"1\" class=\"\">Poland</td></tr>\n",
       "<tr><td colspan=\"1\" rowspan=\"1\" class=\"\">Portugal</td></tr>\n",
       "<tr><td colspan=\"1\" rowspan=\"1\" class=\"\">Puerto Rico</td></tr>\n",
       "<tr><td colspan=\"1\" rowspan=\"1\" class=\"\">Reunion</td></tr>\n",
       "<tr><td colspan=\"1\" rowspan=\"1\" class=\"\">Saint Helena</td></tr>\n",
       "<tr><td colspan=\"1\" rowspan=\"1\" class=\"\">Saint Kitts and Nevis</td></tr>\n",
       "<tr><td colspan=\"1\" rowspan=\"1\" class=\"\">Saint Vincent and the Grenadines</td></tr>\n",
       "<tr><td colspan=\"1\" rowspan=\"1\" class=\"\">Saudi Arabia</td></tr>\n",
       "<tr><td colspan=\"1\" rowspan=\"1\" class=\"\">Serbia</td></tr>\n",
       "<tr><td colspan=\"1\" rowspan=\"1\" class=\"\">Singapore</td></tr>\n",
       "<tr><td colspan=\"1\" rowspan=\"1\" class=\"\">Slovakia</td></tr>\n",
       "<tr><td colspan=\"1\" rowspan=\"1\" class=\"\">Somalia</td></tr>\n",
       "<tr><td colspan=\"1\" rowspan=\"1\" class=\"\">South Sudan</td></tr>\n",
       "<tr><td colspan=\"1\" rowspan=\"1\" class=\"\">Suriname</td></tr>\n",
       "<tr><td colspan=\"1\" rowspan=\"1\" class=\"\">Sweden</td></tr>\n",
       "<tr><td colspan=\"1\" rowspan=\"1\" class=\"\">Syria</td></tr>\n",
       "<tr><td colspan=\"1\" rowspan=\"1\" class=\"\">Taiwan</td></tr>\n",
       "<tr><td colspan=\"1\" rowspan=\"1\" class=\"\">Tajikistan</td></tr>\n",
       "<tr><td colspan=\"1\" rowspan=\"1\" class=\"\">Tanzania</td></tr>\n",
       "<tr><td colspan=\"1\" rowspan=\"1\" class=\"\">Trinidad and Tobago</td></tr>\n",
       "<tr><td colspan=\"1\" rowspan=\"1\" class=\"\">Turkey</td></tr>\n",
       "<tr><td colspan=\"1\" rowspan=\"1\" class=\"\">Turks and Caicos Islands</td></tr>\n",
       "<tr><td colspan=\"1\" rowspan=\"1\" class=\"\">Uganda</td></tr>\n",
       "<tr><td colspan=\"1\" rowspan=\"1\" class=\"\">United Kingdom</td></tr>\n",
       "<tr><td colspan=\"1\" rowspan=\"1\" class=\"\">Uruguay</td></tr>\n",
       "<tr><td colspan=\"1\" rowspan=\"1\" class=\"\">Uzbekistan</td></tr>\n",
       "<tr><td colspan=\"1\" rowspan=\"1\" class=\"\">Vanuatu</td></tr>\n",
       "<tr><td colspan=\"1\" rowspan=\"1\" class=\"\">Vietnam</td></tr>\n",
       "<tr><td colspan=\"1\" rowspan=\"1\" class=\"\">Wallis and Futuna</td></tr>\n",
       "<tr><td colspan=\"1\" rowspan=\"1\" class=\"\">Western Sahara</td></tr>\n",
       "<tr><td colspan=\"1\" rowspan=\"1\" class=\"\">Yemen</td></tr>\n",
       "<tr><td colspan=\"1\" rowspan=\"1\" class=\"\">Zambia</td></tr>\n",
       "<tr><td colspan=\"1\" rowspan=\"1\" class=\"\">Algeria</td></tr>\n",
       "<tr><td colspan=\"1\" rowspan=\"1\" class=\"\">American Samoa</td></tr>\n",
       "<tr><td colspan=\"1\" rowspan=\"1\" class=\"\">Anguilla</td></tr>\n",
       "<tr><td colspan=\"1\" rowspan=\"1\" class=\"\">Antigua and Barbuda</td></tr>\n",
       "<tr><td colspan=\"1\" rowspan=\"1\" class=\"\">Argentina</td></tr>\n",
       "<tr><td colspan=\"1\" rowspan=\"1\" class=\"\">Armenia</td></tr>\n",
       "<tr><td colspan=\"1\" rowspan=\"1\" class=\"\">Aruba</td></tr>\n",
       "<tr><td colspan=\"1\" rowspan=\"1\" class=\"\">Austria</td></tr>\n",
       "<tr><td colspan=\"1\" rowspan=\"1\" class=\"\">Azerbaijan</td></tr>\n",
       "<tr><td colspan=\"1\" rowspan=\"1\" class=\"\">Bahamas</td></tr>\n",
       "<tr><td colspan=\"1\" rowspan=\"1\" class=\"\">Bahrain</td></tr>\n",
       "<tr><td colspan=\"1\" rowspan=\"1\" class=\"\">Bangladesh</td></tr>\n",
       "<tr><td colspan=\"1\" rowspan=\"1\" class=\"\">Belgium</td></tr>\n",
       "<tr><td colspan=\"1\" rowspan=\"1\" class=\"\">Belize</td></tr>\n",
       "<tr><td colspan=\"1\" rowspan=\"1\" class=\"\">Bosnia and Herzegovina</td></tr>\n",
       "<tr><td colspan=\"1\" rowspan=\"1\" class=\"\">Botswana</td></tr>\n",
       "<tr><td colspan=\"1\" rowspan=\"1\" class=\"\">Brunei</td></tr>\n",
       "<tr><td colspan=\"1\" rowspan=\"1\" class=\"\">Bulgaria</td></tr>\n",
       "<tr><td colspan=\"1\" rowspan=\"1\" class=\"\">Burkina Faso</td></tr>\n",
       "<tr><td colspan=\"1\" rowspan=\"1\" class=\"\">Burma</td></tr>\n",
       "<tr><td colspan=\"1\" rowspan=\"1\" class=\"\">Burundi</td></tr>\n",
       "<tr><td colspan=\"1\" rowspan=\"1\" class=\"\">Cape Verde</td></tr>\n",
       "<tr><td colspan=\"1\" rowspan=\"1\" class=\"\">Cayman Islands</td></tr>\n",
       "<tr><td colspan=\"1\" rowspan=\"1\" class=\"\">Central African Republic</td></tr>\n",
       "<tr><td colspan=\"1\" rowspan=\"1\" class=\"\">Chile</td></tr>\n",
       "<tr><td colspan=\"1\" rowspan=\"1\" class=\"\">China</td></tr>\n",
       "<tr><td colspan=\"1\" rowspan=\"1\" class=\"\">Christmas Island</td></tr>\n",
       "<tr><td colspan=\"1\" rowspan=\"1\" class=\"\">Cocos (Keeling) Islands</td></tr>\n",
       "<tr><td colspan=\"1\" rowspan=\"1\" class=\"\">Congo (Brazzaville)</td></tr>\n",
       "<tr><td colspan=\"1\" rowspan=\"1\" class=\"\">Congo (Kinshasa)</td></tr>\n",
       "<tr><td colspan=\"1\" rowspan=\"1\" class=\"\">Costa Rica</td></tr>\n",
       "<tr><td colspan=\"1\" rowspan=\"1\" class=\"\">Croatia</td></tr>\n",
       "<tr><td colspan=\"1\" rowspan=\"1\" class=\"\">Cuba</td></tr>\n",
       "<tr><td colspan=\"1\" rowspan=\"1\" class=\"\">Czech Republic</td></tr>\n",
       "<tr><td colspan=\"1\" rowspan=\"1\" class=\"\">Ecuador</td></tr>\n",
       "<tr><td colspan=\"1\" rowspan=\"1\" class=\"\">Egypt</td></tr>\n",
       "<tr><td colspan=\"1\" rowspan=\"1\" class=\"\">El Salvador</td></tr>\n",
       "<tr><td colspan=\"1\" rowspan=\"1\" class=\"\">Estonia</td></tr>\n",
       "<tr><td colspan=\"1\" rowspan=\"1\" class=\"\">Ethiopia</td></tr>\n",
       "<tr><td colspan=\"1\" rowspan=\"1\" class=\"\">Falkland Islands</td></tr>\n",
       "<tr><td colspan=\"1\" rowspan=\"1\" class=\"\">Faroe Islands</td></tr>\n",
       "<tr><td colspan=\"1\" rowspan=\"1\" class=\"\">France</td></tr>\n",
       "<tr><td colspan=\"1\" rowspan=\"1\" class=\"\">French Guiana</td></tr>\n",
       "<tr><td colspan=\"1\" rowspan=\"1\" class=\"\">Gabon</td></tr>\n",
       "<tr><td colspan=\"1\" rowspan=\"1\" class=\"\">Gambia</td></tr>\n",
       "<tr><td colspan=\"1\" rowspan=\"1\" class=\"\">Germany</td></tr>\n",
       "<tr><td colspan=\"1\" rowspan=\"1\" class=\"\">Ghana</td></tr>\n",
       "<tr><td colspan=\"1\" rowspan=\"1\" class=\"\">Greece</td></tr>\n",
       "<tr><td colspan=\"1\" rowspan=\"1\" class=\"\">Guadeloupe</td></tr>\n",
       "<tr><td colspan=\"1\" rowspan=\"1\" class=\"\">Guatemala</td></tr>\n",
       "<tr><td colspan=\"1\" rowspan=\"1\" class=\"\">Guinea</td></tr>\n",
       "<tr><td colspan=\"1\" rowspan=\"1\" class=\"\">Guinea-Bissau</td></tr>\n",
       "<tr><td colspan=\"1\" rowspan=\"1\" class=\"\">Guyana</td></tr>\n",
       "<tr><td colspan=\"1\" rowspan=\"1\" class=\"\">Haiti</td></tr>\n",
       "<tr><td colspan=\"1\" rowspan=\"1\" class=\"\">Hong Kong</td></tr>\n",
       "<tr><td colspan=\"1\" rowspan=\"1\" class=\"\">India</td></tr>\n",
       "<tr><td colspan=\"1\" rowspan=\"1\" class=\"\">Iraq</td></tr>\n",
       "<tr><td colspan=\"1\" rowspan=\"1\" class=\"\">Ireland</td></tr>\n",
       "<tr><td colspan=\"1\" rowspan=\"1\" class=\"\">Italy</td></tr>\n",
       "<tr><td colspan=\"1\" rowspan=\"1\" class=\"\">Johnston Atoll</td></tr>\n",
       "<tr><td colspan=\"1\" rowspan=\"1\" class=\"\">Kiribati</td></tr>\n",
       "<tr><td colspan=\"1\" rowspan=\"1\" class=\"\">Kuwait</td></tr>\n",
       "<tr><td colspan=\"1\" rowspan=\"1\" class=\"\">Laos</td></tr>\n",
       "<tr><td colspan=\"1\" rowspan=\"1\" class=\"\">Latvia</td></tr>\n",
       "<tr><td colspan=\"1\" rowspan=\"1\" class=\"\">Lebanon</td></tr>\n",
       "<tr><td colspan=\"1\" rowspan=\"1\" class=\"\">Libya</td></tr>\n",
       "<tr><td colspan=\"1\" rowspan=\"1\" class=\"\">Lithuania</td></tr>\n",
       "<tr><td colspan=\"1\" rowspan=\"1\" class=\"\">Macau</td></tr>\n",
       "<tr><td colspan=\"1\" rowspan=\"1\" class=\"\">Macedonia</td></tr>\n",
       "<tr><td colspan=\"1\" rowspan=\"1\" class=\"\">Malawi</td></tr>\n",
       "<tr><td colspan=\"1\" rowspan=\"1\" class=\"\">Malaysia</td></tr>\n",
       "<tr><td colspan=\"1\" rowspan=\"1\" class=\"\">Maldives</td></tr>\n",
       "<tr><td colspan=\"1\" rowspan=\"1\" class=\"\">Mali</td></tr>\n",
       "<tr><td colspan=\"1\" rowspan=\"1\" class=\"\">Malta</td></tr>\n",
       "<tr><td colspan=\"1\" rowspan=\"1\" class=\"\">Martinique</td></tr>\n",
       "<tr><td colspan=\"1\" rowspan=\"1\" class=\"\">Mauritania</td></tr>\n",
       "<tr><td colspan=\"1\" rowspan=\"1\" class=\"\">Mauritius</td></tr>\n",
       "<tr><td colspan=\"1\" rowspan=\"1\" class=\"\">Mayotte</td></tr>\n",
       "<tr><td colspan=\"1\" rowspan=\"1\" class=\"\">Mexico</td></tr>\n",
       "<tr><td colspan=\"1\" rowspan=\"1\" class=\"\">Midway Islands</td></tr>\n",
       "<tr><td colspan=\"1\" rowspan=\"1\" class=\"\">Monaco</td></tr>\n",
       "<tr><td colspan=\"1\" rowspan=\"1\" class=\"\">Montserrat</td></tr>\n",
       "<tr><td colspan=\"1\" rowspan=\"1\" class=\"\">Myanmar</td></tr>\n",
       "<tr><td colspan=\"1\" rowspan=\"1\" class=\"\">Namibia</td></tr>\n",
       "<tr><td colspan=\"1\" rowspan=\"1\" class=\"\">Nauru</td></tr>\n",
       "<tr><td colspan=\"1\" rowspan=\"1\" class=\"\">New Zealand</td></tr>\n",
       "<tr><td colspan=\"1\" rowspan=\"1\" class=\"\">Nicaragua</td></tr>\n",
       "<tr><td colspan=\"1\" rowspan=\"1\" class=\"\">Niger</td></tr>\n",
       "<tr><td colspan=\"1\" rowspan=\"1\" class=\"\">Nigeria</td></tr>\n",
       "<tr><td colspan=\"1\" rowspan=\"1\" class=\"\">Niue</td></tr>\n",
       "<tr><td colspan=\"1\" rowspan=\"1\" class=\"\">North Korea</td></tr>\n",
       "<tr><td colspan=\"1\" rowspan=\"1\" class=\"\">Northern Mariana Islands</td></tr>\n",
       "<tr><td colspan=\"1\" rowspan=\"1\" class=\"\">Oman</td></tr>\n",
       "<tr><td colspan=\"1\" rowspan=\"1\" class=\"\">Pakistan</td></tr>\n",
       "<tr><td colspan=\"1\" rowspan=\"1\" class=\"\">Palau</td></tr>\n",
       "<tr><td colspan=\"1\" rowspan=\"1\" class=\"\">Palestine</td></tr>\n",
       "<tr><td colspan=\"1\" rowspan=\"1\" class=\"\">Philippines</td></tr>\n",
       "<tr><td colspan=\"1\" rowspan=\"1\" class=\"\">Qatar</td></tr>\n",
       "<tr><td colspan=\"1\" rowspan=\"1\" class=\"\">Romania</td></tr>\n",
       "<tr><td colspan=\"1\" rowspan=\"1\" class=\"\">Russia</td></tr>\n",
       "<tr><td colspan=\"1\" rowspan=\"1\" class=\"\">Rwanda</td></tr>\n",
       "<tr><td colspan=\"1\" rowspan=\"1\" class=\"\">Saint Lucia</td></tr>\n",
       "<tr><td colspan=\"1\" rowspan=\"1\" class=\"\">Saint Pierre and Miquelon</td></tr>\n",
       "<tr><td colspan=\"1\" rowspan=\"1\" class=\"\">Samoa</td></tr>\n",
       "<tr><td colspan=\"1\" rowspan=\"1\" class=\"\">Sao Tome and Principe</td></tr>\n",
       "<tr><td colspan=\"1\" rowspan=\"1\" class=\"\">Senegal</td></tr>\n",
       "<tr><td colspan=\"1\" rowspan=\"1\" class=\"\">Seychelles</td></tr>\n",
       "<tr><td colspan=\"1\" rowspan=\"1\" class=\"\">Sierra Leone</td></tr>\n",
       "<tr><td colspan=\"1\" rowspan=\"1\" class=\"\">Slovenia</td></tr>\n",
       "<tr><td colspan=\"1\" rowspan=\"1\" class=\"\">Solomon Islands</td></tr>\n",
       "<tr><td colspan=\"1\" rowspan=\"1\" class=\"\">South Africa</td></tr>\n",
       "<tr><td colspan=\"1\" rowspan=\"1\" class=\"\">South Georgia and the Islands</td></tr>\n",
       "<tr><td colspan=\"1\" rowspan=\"1\" class=\"\">South Korea</td></tr>\n",
       "<tr><td colspan=\"1\" rowspan=\"1\" class=\"\">Spain</td></tr>\n",
       "<tr><td colspan=\"1\" rowspan=\"1\" class=\"\">Sri Lanka</td></tr>\n",
       "<tr><td colspan=\"1\" rowspan=\"1\" class=\"\">Sudan</td></tr>\n",
       "<tr><td colspan=\"1\" rowspan=\"1\" class=\"\">Svalbard</td></tr>\n",
       "<tr><td colspan=\"1\" rowspan=\"1\" class=\"\">Swaziland</td></tr>\n",
       "<tr><td colspan=\"1\" rowspan=\"1\" class=\"\">Switzerland</td></tr>\n",
       "<tr><td colspan=\"1\" rowspan=\"1\" class=\"\">Thailand</td></tr>\n",
       "<tr><td colspan=\"1\" rowspan=\"1\" class=\"\">Togo</td></tr>\n",
       "<tr><td colspan=\"1\" rowspan=\"1\" class=\"\">Tonga</td></tr>\n",
       "<tr><td colspan=\"1\" rowspan=\"1\" class=\"\">Tunisia</td></tr>\n",
       "<tr><td colspan=\"1\" rowspan=\"1\" class=\"\">Turkmenistan</td></tr>\n",
       "<tr><td colspan=\"1\" rowspan=\"1\" class=\"\">Tuvalu</td></tr>\n",
       "<tr><td colspan=\"1\" rowspan=\"1\" class=\"\">Ukraine</td></tr>\n",
       "<tr><td colspan=\"1\" rowspan=\"1\" class=\"\">United Arab Emirates</td></tr>\n",
       "<tr><td colspan=\"1\" rowspan=\"1\" class=\"\">United States</td></tr>\n",
       "<tr><td colspan=\"1\" rowspan=\"1\" class=\"\">Venezuela</td></tr>\n",
       "<tr><td colspan=\"1\" rowspan=\"1\" class=\"\">Virgin Islands</td></tr>\n",
       "<tr><td colspan=\"1\" rowspan=\"1\" class=\"\">Wake Island</td></tr>\n",
       "<tr><td colspan=\"1\" rowspan=\"1\" class=\"\">West Bank</td></tr>\n",
       "<tr><td colspan=\"1\" rowspan=\"1\" class=\"\">Zimbabwe</td></tr>\n",
       "</table>"
      ],
      "text/plain": [
       "<raw_magic.nested_table.NestedTable at 0x127ebfc10>"
      ]
     },
     "execution_count": 63,
     "metadata": {},
     "output_type": "execute_result"
    }
   ],
   "source": [
    "%%rql\n",
    "\n",
    "(\n",
    "    Countries: (SELECT DISTINCT Country FROM READ(\"https://raw-tutorial.s3.amazonaws.com/airports.csv\")),\n",
    "    Number_Of_Airports: (SELECT COUNT(*) FROM READ(\"https://raw-tutorial.s3.amazonaws.com/airports.csv\"))\n",
    ")"
   ]
  },
  {
   "cell_type": "markdown",
   "metadata": {},
   "source": [
    "If we again use `%%query_validate` to see the output type:"
   ]
  },
  {
   "cell_type": "code",
   "execution_count": 80,
   "metadata": {},
   "outputs": [
    {
     "name": "stdout",
     "output_type": "stream",
     "text": [
      "record(Countries: collection(string), Number_Of_Airports: long)\n"
     ]
    }
   ],
   "source": [
    "%%query_validate\n",
    "\n",
    "\n",
    "(\n",
    "    Countries: (SELECT DISTINCT Country FROM READ(\"https://raw-tutorial.s3.amazonaws.com/airports.csv\")),\n",
    "    Number_Of_Airports: (SELECT COUNT(*) FROM READ(\"https://raw-tutorial.s3.amazonaws.com/airports.csv\"))\n",
    ")"
   ]
  },
  {
   "cell_type": "markdown",
   "metadata": {},
   "source": [
    "Therefore we confirm the output of this query is a record with two fields: `Countries`, a collection of strings, and `Number_of_Airports`, a long."
   ]
  },
  {
   "cell_type": "markdown",
   "metadata": {},
   "source": [
    "**Next:** [Advanced Data Discovery](Advanced%20Data%20Discovery.ipynb)"
   ]
  }
 ],
 "metadata": {
  "kernelspec": {
   "display_name": "Python 3",
   "language": "python",
   "name": "python3"
  },
  "language_info": {
   "codemirror_mode": {
    "name": "ipython",
    "version": 3
   },
   "file_extension": ".py",
   "mimetype": "text/x-python",
   "name": "python",
   "nbconvert_exporter": "python",
   "pygments_lexer": "ipython3",
   "version": "3.6.9"
  }
 },
 "nbformat": 4,
 "nbformat_minor": 4
}
