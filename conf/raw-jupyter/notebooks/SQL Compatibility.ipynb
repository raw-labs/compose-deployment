{
 "cells": [
  {
   "cell_type": "markdown",
   "metadata": {},
   "source": [
    "# SQL Compatibility\n",
    "\n",
    "Thus far we have focused on RQL (RAW Query Language) queries.\n",
    "\n",
    "However, RAW users are not forced to use RQL. In fact, RAW also provides SQL as a first-class query language.\n",
    "\n",
    "This SQL mode is provided for strict compatibility with SQL standards. It is also helpful when submitting queries to RAW from external tools that only \"speak\" SQL.\n",
    "\n",
    "In Jupyter, this is available using the `%%sql` magic.\n",
    "\n",
    "In SQL mode, however, none of the extensions seen so far are available.\n",
    "Therefore, to use SQL, users have first to define views in RQL, and then consume them from SQL.\n",
    "That's because keywords like `READ`, to read data from source, are not part of the SQL specification.\n",
    "\n",
    "(In later notebooks we will see how to define materialized views and tables in RAW, which provides additional ways to make data available for the SQL mode.)"
   ]
  },
  {
   "cell_type": "code",
   "execution_count": 1,
   "metadata": {},
   "outputs": [],
   "source": [
    "%load_ext raw_magic"
   ]
  },
  {
   "cell_type": "markdown",
   "metadata": {},
   "source": [
    "We start by defining a view over a CSV file in RQL as before:"
   ]
  },
  {
   "cell_type": "code",
   "execution_count": 2,
   "metadata": {},
   "outputs": [
    {
     "name": "stdout",
     "output_type": "stream",
     "text": [
      "View \"airports\" was replaced\n"
     ]
    }
   ],
   "source": [
    "%%view airports\n",
    "\n",
    "SELECT * FROM READ(\"https://raw-tutorial.s3.amazonaws.com/airports.csv\")"
   ]
  },
  {
   "cell_type": "markdown",
   "metadata": {},
   "source": [
    "Now that `airports` is available, we can query it using SQL.\n",
    "\n",
    "For this we use `%%sql` instead of `%%rql`:"
   ]
  },
  {
   "cell_type": "code",
   "execution_count": 5,
   "metadata": {},
   "outputs": [
    {
     "data": {
      "text/html": [
       "<table class=\"nested-table\">\n",
       "<tr><th colspan=\"1\" rowspan=\"1\">AirportID</th><th colspan=\"1\" rowspan=\"1\">Name</th><th colspan=\"1\" rowspan=\"1\">City</th><th colspan=\"1\" rowspan=\"1\">Country</th><th colspan=\"1\" rowspan=\"1\">IATA_FAA</th><th colspan=\"1\" rowspan=\"1\">ICAO</th><th colspan=\"1\" rowspan=\"1\">Latitude</th><th colspan=\"1\" rowspan=\"1\">Longitude</th><th colspan=\"1\" rowspan=\"1\">Altitude</th><th colspan=\"1\" rowspan=\"1\">Timezone</th><th colspan=\"1\" rowspan=\"1\">DST</th><th colspan=\"1\" rowspan=\"1\">TZ</th></tr>\n",
       "<tr><td colspan=\"1\" rowspan=\"1\" class=\"\">1</td><td colspan=\"1\" rowspan=\"1\" class=\"\">Goroka</td><td colspan=\"1\" rowspan=\"1\" class=\"\">Goroka</td><td colspan=\"1\" rowspan=\"1\" class=\"\">Papua New Guinea</td><td colspan=\"1\" rowspan=\"1\" class=\"\">GKA</td><td colspan=\"1\" rowspan=\"1\" class=\"\">AYGA</td><td colspan=\"1\" rowspan=\"1\" class=\"\">-6.081689</td><td colspan=\"1\" rowspan=\"1\" class=\"\">145.391881</td><td colspan=\"1\" rowspan=\"1\" class=\"\">5282</td><td colspan=\"1\" rowspan=\"1\" class=\"\">10.0</td><td colspan=\"1\" rowspan=\"1\" class=\"\">U</td><td colspan=\"1\" rowspan=\"1\" class=\"\">Pacific/Port_Moresby</td></tr>\n",
       "<tr><td colspan=\"1\" rowspan=\"1\" class=\"\">2</td><td colspan=\"1\" rowspan=\"1\" class=\"\">Madang</td><td colspan=\"1\" rowspan=\"1\" class=\"\">Madang</td><td colspan=\"1\" rowspan=\"1\" class=\"\">Papua New Guinea</td><td colspan=\"1\" rowspan=\"1\" class=\"\">MAG</td><td colspan=\"1\" rowspan=\"1\" class=\"\">AYMD</td><td colspan=\"1\" rowspan=\"1\" class=\"\">-5.207083</td><td colspan=\"1\" rowspan=\"1\" class=\"\">145.7887</td><td colspan=\"1\" rowspan=\"1\" class=\"\">20</td><td colspan=\"1\" rowspan=\"1\" class=\"\">10.0</td><td colspan=\"1\" rowspan=\"1\" class=\"\">U</td><td colspan=\"1\" rowspan=\"1\" class=\"\">Pacific/Port_Moresby</td></tr>\n",
       "<tr><td colspan=\"1\" rowspan=\"1\" class=\"\">3</td><td colspan=\"1\" rowspan=\"1\" class=\"\">Mount Hagen</td><td colspan=\"1\" rowspan=\"1\" class=\"\">Mount Hagen</td><td colspan=\"1\" rowspan=\"1\" class=\"\">Papua New Guinea</td><td colspan=\"1\" rowspan=\"1\" class=\"\">HGU</td><td colspan=\"1\" rowspan=\"1\" class=\"\">AYMH</td><td colspan=\"1\" rowspan=\"1\" class=\"\">-5.826789</td><td colspan=\"1\" rowspan=\"1\" class=\"\">144.295861</td><td colspan=\"1\" rowspan=\"1\" class=\"\">5388</td><td colspan=\"1\" rowspan=\"1\" class=\"\">10.0</td><td colspan=\"1\" rowspan=\"1\" class=\"\">U</td><td colspan=\"1\" rowspan=\"1\" class=\"\">Pacific/Port_Moresby</td></tr>\n",
       "<tr><td colspan=\"1\" rowspan=\"1\" class=\"\">4</td><td colspan=\"1\" rowspan=\"1\" class=\"\">Nadzab</td><td colspan=\"1\" rowspan=\"1\" class=\"\">Nadzab</td><td colspan=\"1\" rowspan=\"1\" class=\"\">Papua New Guinea</td><td colspan=\"1\" rowspan=\"1\" class=\"\">LAE</td><td colspan=\"1\" rowspan=\"1\" class=\"\">AYNZ</td><td colspan=\"1\" rowspan=\"1\" class=\"\">-6.569828</td><td colspan=\"1\" rowspan=\"1\" class=\"\">146.726242</td><td colspan=\"1\" rowspan=\"1\" class=\"\">239</td><td colspan=\"1\" rowspan=\"1\" class=\"\">10.0</td><td colspan=\"1\" rowspan=\"1\" class=\"\">U</td><td colspan=\"1\" rowspan=\"1\" class=\"\">Pacific/Port_Moresby</td></tr>\n",
       "<tr><td colspan=\"1\" rowspan=\"1\" class=\"\">5</td><td colspan=\"1\" rowspan=\"1\" class=\"\">Port Moresby Jacksons Intl</td><td colspan=\"1\" rowspan=\"1\" class=\"\">Port Moresby</td><td colspan=\"1\" rowspan=\"1\" class=\"\">Papua New Guinea</td><td colspan=\"1\" rowspan=\"1\" class=\"\">POM</td><td colspan=\"1\" rowspan=\"1\" class=\"\">AYPY</td><td colspan=\"1\" rowspan=\"1\" class=\"\">-9.443383</td><td colspan=\"1\" rowspan=\"1\" class=\"\">147.22005</td><td colspan=\"1\" rowspan=\"1\" class=\"\">146</td><td colspan=\"1\" rowspan=\"1\" class=\"\">10.0</td><td colspan=\"1\" rowspan=\"1\" class=\"\">U</td><td colspan=\"1\" rowspan=\"1\" class=\"\">Pacific/Port_Moresby</td></tr>\n",
       "</table>"
      ],
      "text/plain": [
       "<raw_magic.nested_table.NestedTable at 0x11ced9d60>"
      ]
     },
     "execution_count": 5,
     "metadata": {},
     "output_type": "execute_result"
    }
   ],
   "source": [
    "%%sql\n",
    "\n",
    "SELECT * FROM airports LIMIT 5"
   ]
  },
  {
   "cell_type": "markdown",
   "metadata": {},
   "source": [
    "If we filter airports by city, we see the SQL syntax being used:"
   ]
  },
  {
   "cell_type": "code",
   "execution_count": 6,
   "metadata": {},
   "outputs": [
    {
     "data": {
      "text/html": [
       "<table class=\"nested-table\">\n",
       "<tr><th colspan=\"1\" rowspan=\"1\">AirportID</th><th colspan=\"1\" rowspan=\"1\">Name</th><th colspan=\"1\" rowspan=\"1\">City</th><th colspan=\"1\" rowspan=\"1\">Country</th><th colspan=\"1\" rowspan=\"1\">IATA_FAA</th><th colspan=\"1\" rowspan=\"1\">ICAO</th><th colspan=\"1\" rowspan=\"1\">Latitude</th><th colspan=\"1\" rowspan=\"1\">Longitude</th><th colspan=\"1\" rowspan=\"1\">Altitude</th><th colspan=\"1\" rowspan=\"1\">Timezone</th><th colspan=\"1\" rowspan=\"1\">DST</th><th colspan=\"1\" rowspan=\"1\">TZ</th></tr>\n",
       "<tr><td colspan=\"1\" rowspan=\"1\" class=\"\">1638</td><td colspan=\"1\" rowspan=\"1\" class=\"\">Lisboa</td><td colspan=\"1\" rowspan=\"1\" class=\"\">Lisbon</td><td colspan=\"1\" rowspan=\"1\" class=\"\">Portugal</td><td colspan=\"1\" rowspan=\"1\" class=\"\">LIS</td><td colspan=\"1\" rowspan=\"1\" class=\"\">LPPT</td><td colspan=\"1\" rowspan=\"1\" class=\"\">38.781311</td><td colspan=\"1\" rowspan=\"1\" class=\"\">-9.135919</td><td colspan=\"1\" rowspan=\"1\" class=\"\">374</td><td colspan=\"1\" rowspan=\"1\" class=\"\">0.0</td><td colspan=\"1\" rowspan=\"1\" class=\"\">E</td><td colspan=\"1\" rowspan=\"1\" class=\"\">Europe/Lisbon</td></tr>\n",
       "<tr><td colspan=\"1\" rowspan=\"1\" class=\"\">7752</td><td colspan=\"1\" rowspan=\"1\" class=\"\">Lisbon Cruise Terminal</td><td colspan=\"1\" rowspan=\"1\" class=\"\">Lisbon</td><td colspan=\"1\" rowspan=\"1\" class=\"\">Portugal</td><td colspan=\"1\" rowspan=\"1\" class=\"\"></td><td colspan=\"1\" rowspan=\"1\" class=\"\">N</td><td colspan=\"1\" rowspan=\"1\" class=\"\">38.712606</td><td colspan=\"1\" rowspan=\"1\" class=\"\">-9.122483</td><td colspan=\"1\" rowspan=\"1\" class=\"\">0</td><td colspan=\"1\" rowspan=\"1\" class=\"\">0.0</td><td colspan=\"1\" rowspan=\"1\" class=\"\">E</td><td colspan=\"1\" rowspan=\"1\" class=\"\">Europe/Lisbon</td></tr>\n",
       "</table>"
      ],
      "text/plain": [
       "<raw_magic.nested_table.NestedTable at 0x11cedd4f0>"
      ]
     },
     "execution_count": 6,
     "metadata": {},
     "output_type": "execute_result"
    }
   ],
   "source": [
    "%%sql\n",
    "\n",
    "SELECT * FROM airports WHERE City = 'Lisbon'"
   ]
  },
  {
   "cell_type": "markdown",
   "metadata": {},
   "source": [
    "In RQL, we use `\"\"` for strings instead, as in:"
   ]
  },
  {
   "cell_type": "code",
   "execution_count": 8,
   "metadata": {},
   "outputs": [
    {
     "data": {
      "text/html": [
       "<table class=\"nested-table\">\n",
       "<tr><th colspan=\"1\" rowspan=\"1\">AirportID</th><th colspan=\"1\" rowspan=\"1\">Name</th><th colspan=\"1\" rowspan=\"1\">City</th><th colspan=\"1\" rowspan=\"1\">Country</th><th colspan=\"1\" rowspan=\"1\">IATA_FAA</th><th colspan=\"1\" rowspan=\"1\">ICAO</th><th colspan=\"1\" rowspan=\"1\">Latitude</th><th colspan=\"1\" rowspan=\"1\">Longitude</th><th colspan=\"1\" rowspan=\"1\">Altitude</th><th colspan=\"1\" rowspan=\"1\">Timezone</th><th colspan=\"1\" rowspan=\"1\">DST</th><th colspan=\"1\" rowspan=\"1\">TZ</th></tr>\n",
       "<tr><td colspan=\"1\" rowspan=\"1\" class=\"\">1638</td><td colspan=\"1\" rowspan=\"1\" class=\"\">Lisboa</td><td colspan=\"1\" rowspan=\"1\" class=\"\">Lisbon</td><td colspan=\"1\" rowspan=\"1\" class=\"\">Portugal</td><td colspan=\"1\" rowspan=\"1\" class=\"\">LIS</td><td colspan=\"1\" rowspan=\"1\" class=\"\">LPPT</td><td colspan=\"1\" rowspan=\"1\" class=\"\">38.781311</td><td colspan=\"1\" rowspan=\"1\" class=\"\">-9.135919</td><td colspan=\"1\" rowspan=\"1\" class=\"\">374</td><td colspan=\"1\" rowspan=\"1\" class=\"\">0.0</td><td colspan=\"1\" rowspan=\"1\" class=\"\">E</td><td colspan=\"1\" rowspan=\"1\" class=\"\">Europe/Lisbon</td></tr>\n",
       "<tr><td colspan=\"1\" rowspan=\"1\" class=\"\">7752</td><td colspan=\"1\" rowspan=\"1\" class=\"\">Lisbon Cruise Terminal</td><td colspan=\"1\" rowspan=\"1\" class=\"\">Lisbon</td><td colspan=\"1\" rowspan=\"1\" class=\"\">Portugal</td><td colspan=\"1\" rowspan=\"1\" class=\"\"></td><td colspan=\"1\" rowspan=\"1\" class=\"\">N</td><td colspan=\"1\" rowspan=\"1\" class=\"\">38.712606</td><td colspan=\"1\" rowspan=\"1\" class=\"\">-9.122483</td><td colspan=\"1\" rowspan=\"1\" class=\"\">0</td><td colspan=\"1\" rowspan=\"1\" class=\"\">0.0</td><td colspan=\"1\" rowspan=\"1\" class=\"\">E</td><td colspan=\"1\" rowspan=\"1\" class=\"\">Europe/Lisbon</td></tr>\n",
       "</table>"
      ],
      "text/plain": [
       "<raw_magic.nested_table.NestedTable at 0x11cedd8e0>"
      ]
     },
     "execution_count": 8,
     "metadata": {},
     "output_type": "execute_result"
    }
   ],
   "source": [
    "%%rql\n",
    "\n",
    "SELECT * FROM airports WHERE City = \"Lisbon\""
   ]
  },
  {
   "cell_type": "markdown",
   "metadata": {},
   "source": [
    "## SQL Limitations\n",
    "\n",
    "The SQL layer is meant to conform to the SQL 2003 standard.\n",
    "\n",
    "The major limitation with the SQL layer is that only RAW entities that are tables are made available to the SQL layer.\n",
    "\n",
    "A \"table\" is, in RAW, a collection of records, whose fields are all primitive types."
   ]
  },
  {
   "cell_type": "code",
   "execution_count": 11,
   "metadata": {},
   "outputs": [
    {
     "name": "stdout",
     "output_type": "stream",
     "text": [
      "collection(\n",
      "    record(\n",
      "        AirportID: int,\n",
      "        Name: string,\n",
      "        City: string,\n",
      "        Country: string,\n",
      "        IATA_FAA: string,\n",
      "        ICAO: string,\n",
      "        Latitude: double,\n",
      "        Longitude: double,\n",
      "        Altitude: int,\n",
      "        Timezone: double,\n",
      "        DST: string,\n",
      "        TZ: string))\n"
     ]
    }
   ],
   "source": [
    "%%query_validate\n",
    "\n",
    "airports"
   ]
  },
  {
   "cell_type": "markdown",
   "metadata": {},
   "source": [
    "The view `airports` is compatible with SQL.\n",
    "\n",
    "Let's define a new view that is not SQL compatible:"
   ]
  },
  {
   "cell_type": "code",
   "execution_count": 12,
   "metadata": {},
   "outputs": [],
   "source": [
    "%%view airports_1\n",
    "\n",
    "SELECT City, * FROM airports GROUP BY City"
   ]
  },
  {
   "cell_type": "code",
   "execution_count": 15,
   "metadata": {},
   "outputs": [
    {
     "name": "stdout",
     "output_type": "stream",
     "text": [
      "collection(\n",
      "    record(\n",
      "        City: string,\n",
      "        _2: collection(\n",
      "            record(\n",
      "                AirportID: int,\n",
      "                Name: string,\n",
      "                City: string,\n",
      "                Country: string,\n",
      "                IATA_FAA: string,\n",
      "                ICAO: string,\n",
      "                Latitude: double,\n",
      "                Longitude: double,\n",
      "                Altitude: int,\n",
      "                Timezone: double,\n",
      "                DST: string,\n",
      "                TZ: string))))\n"
     ]
    }
   ],
   "source": [
    "%%query_validate\n",
    "\n",
    "airports_1"
   ]
  },
  {
   "cell_type": "markdown",
   "metadata": {},
   "source": [
    "This type is not SQL compatible, and therefore, not made available to query from the SQL layer."
   ]
  },
  {
   "cell_type": "code",
   "execution_count": 16,
   "metadata": {},
   "outputs": [
    {
     "name": "stdout",
     "output_type": "stream",
     "text": [
      "org.apache.calcite.runtime.CalciteContextException: From line 3, column 15 to line 3, column 24: Object 'AIRPORTS_1' not found. Positions: 3:15 to 3:24\n",
      "  3: SELECT * FROM airports_1\n",
      "                   ^^^^^^^^^^\n"
     ]
    }
   ],
   "source": [
    "%%sql\n",
    "\n",
    "SELECT * FROM airports_1"
   ]
  },
  {
   "cell_type": "markdown",
   "metadata": {},
   "source": [
    "**Next:** [Caching](Caching.ipynb)"
   ]
  }
 ],
 "metadata": {
  "kernelspec": {
   "display_name": "Python 3",
   "language": "python",
   "name": "python3"
  },
  "language_info": {
   "codemirror_mode": {
    "name": "ipython",
    "version": 3
   },
   "file_extension": ".py",
   "mimetype": "text/x-python",
   "name": "python",
   "nbconvert_exporter": "python",
   "pygments_lexer": "ipython3",
   "version": "3.8.5"
  }
 },
 "nbformat": 4,
 "nbformat_minor": 4
}
