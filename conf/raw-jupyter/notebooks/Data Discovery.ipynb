{
 "cells": [
  {
   "cell_type": "markdown",
   "metadata": {},
   "source": [
    "# Data Discovery\n",
    "\n",
    "A normal part of data analysis is discovering data and understanding schemas.\n",
    "\n",
    "Our goal in RAW is to ease this process and make it an integral part of data analysis, avoiding to the extent possible the need for separate \"Extract-Transform-Load\" (ETL) processes."
   ]
  },
  {
   "cell_type": "code",
   "execution_count": 2,
   "metadata": {},
   "outputs": [],
   "source": [
    "%load_ext raw_magic"
   ]
  },
  {
   "cell_type": "markdown",
   "metadata": {},
   "source": [
    "When given a new dataset, a simple way to understand its structure is to use `DESCRIBE`."
   ]
  },
  {
   "cell_type": "code",
   "execution_count": 3,
   "metadata": {},
   "outputs": [
    {
     "data": {
      "text/html": [
       "<table class=\"nested-table\">\n",
       "<tr><th colspan=\"1\" rowspan=\"2\">format</th><th colspan=\"1\" rowspan=\"2\">comment</th><th colspan=\"1\" rowspan=\"2\">type</th><th colspan=\"2\" rowspan=\"1\">properties</th><th colspan=\"1\" rowspan=\"2\">is_collection</th><th colspan=\"3\" rowspan=\"1\">columns</th></tr>\n",
       "<tr><th colspan=\"1\" rowspan=\"1\">name</th><th colspan=\"1\" rowspan=\"1\">value</th><th colspan=\"1\" rowspan=\"1\">col_name</th><th colspan=\"1\" rowspan=\"1\">col_type</th><th colspan=\"1\" rowspan=\"1\">nullable</th></tr>\n",
       "<tr><td colspan=\"1\" rowspan=\"12\" class=\"\">csv</td><td colspan=\"1\" rowspan=\"12\" class=\"\">encoding utf-8 (confidence: 100%)</td><td colspan=\"1\" rowspan=\"12\" class=\"\">collection(record(`AirportID`: int,`Name`: string,`City`: string,`Country`: string,`IATA_FAA`: string,`ICAO`: string,`Latitude`: double,`Longitude`: double,`Altitude`: int,`Timezone`: double,`DST`: string,`TZ`: string))</td><td colspan=\"1\" rowspan=\"1\" class=\"\">has_header</td><td colspan=\"1\" rowspan=\"1\" class=\"\">true</td><td colspan=\"1\" rowspan=\"12\" class=\"\">True</td><td colspan=\"1\" rowspan=\"1\" class=\"\">AirportID</td><td colspan=\"1\" rowspan=\"1\" class=\"\">int</td><td colspan=\"1\" rowspan=\"1\" class=\"\">False</td></tr>\n",
       "<tr><td colspan=\"1\" rowspan=\"1\" class=\"\">nans</td><td colspan=\"1\" rowspan=\"1\" class=\"\">[]</td><td colspan=\"1\" rowspan=\"1\" class=\"\">Name</td><td colspan=\"1\" rowspan=\"1\" class=\"\">string</td><td colspan=\"1\" rowspan=\"1\" class=\"\">False</td></tr>\n",
       "<tr><td colspan=\"1\" rowspan=\"1\" class=\"\">multiLine_fields</td><td colspan=\"1\" rowspan=\"1\" class=\"\">false</td><td colspan=\"1\" rowspan=\"1\" class=\"\">City</td><td colspan=\"1\" rowspan=\"1\" class=\"\">string</td><td colspan=\"1\" rowspan=\"1\" class=\"\">False</td></tr>\n",
       "<tr><td colspan=\"1\" rowspan=\"1\" class=\"\">skip</td><td colspan=\"1\" rowspan=\"1\" class=\"\">1</td><td colspan=\"1\" rowspan=\"1\" class=\"\">Country</td><td colspan=\"1\" rowspan=\"1\" class=\"\">string</td><td colspan=\"1\" rowspan=\"1\" class=\"\">False</td></tr>\n",
       "<tr><td colspan=\"1\" rowspan=\"1\" class=\"\">nulls</td><td colspan=\"1\" rowspan=\"1\" class=\"\">[&quot;&quot;]</td><td colspan=\"1\" rowspan=\"1\" class=\"\">IATA_FAA</td><td colspan=\"1\" rowspan=\"1\" class=\"\">string</td><td colspan=\"1\" rowspan=\"1\" class=\"\">False</td></tr>\n",
       "<tr><td colspan=\"1\" rowspan=\"1\" class=\"\">quote</td><td colspan=\"1\" rowspan=\"1\" class=\"\">&quot;</td><td colspan=\"1\" rowspan=\"1\" class=\"\">ICAO</td><td colspan=\"1\" rowspan=\"1\" class=\"\">string</td><td colspan=\"1\" rowspan=\"1\" class=\"\">False</td></tr>\n",
       "<tr><td colspan=\"1\" rowspan=\"1\" class=\"\">escape</td><td colspan=\"1\" rowspan=\"1\" class=\"\">\\</td><td colspan=\"1\" rowspan=\"1\" class=\"\">Latitude</td><td colspan=\"1\" rowspan=\"1\" class=\"\">double</td><td colspan=\"1\" rowspan=\"1\" class=\"\">False</td></tr>\n",
       "<tr><td colspan=\"1\" rowspan=\"5\" class=\"\">delimiter</td><td colspan=\"1\" rowspan=\"5\" class=\"\">,</td><td colspan=\"1\" rowspan=\"1\" class=\"\">Longitude</td><td colspan=\"1\" rowspan=\"1\" class=\"\">double</td><td colspan=\"1\" rowspan=\"1\" class=\"\">False</td></tr>\n",
       "<tr><td colspan=\"1\" rowspan=\"1\" class=\"\">Altitude</td><td colspan=\"1\" rowspan=\"1\" class=\"\">int</td><td colspan=\"1\" rowspan=\"1\" class=\"\">False</td></tr>\n",
       "<tr><td colspan=\"1\" rowspan=\"1\" class=\"\">Timezone</td><td colspan=\"1\" rowspan=\"1\" class=\"\">double</td><td colspan=\"1\" rowspan=\"1\" class=\"\">False</td></tr>\n",
       "<tr><td colspan=\"1\" rowspan=\"1\" class=\"\">DST</td><td colspan=\"1\" rowspan=\"1\" class=\"\">string</td><td colspan=\"1\" rowspan=\"1\" class=\"\">False</td></tr>\n",
       "<tr><td colspan=\"1\" rowspan=\"1\" class=\"\">TZ</td><td colspan=\"1\" rowspan=\"1\" class=\"\">string</td><td colspan=\"1\" rowspan=\"1\" class=\"\">False</td></tr>\n",
       "</table>"
      ],
      "text/plain": [
       "<raw_magic.nested_table.NestedTable at 0x1083370d0>"
      ]
     },
     "execution_count": 3,
     "metadata": {},
     "output_type": "execute_result"
    }
   ],
   "source": [
    "%%rql\n",
    "\n",
    "DESCRIBE(\"https://raw-tutorial.s3.amazonaws.com/airports.csv\")"
   ]
  },
  {
   "cell_type": "markdown",
   "metadata": {},
   "source": [
    "The output of `DESCRIBE` includes information on the format and structure of the data.\n",
    "\n",
    "`DESCRIBE` tells us this data is a collection. It means we can query it with `SELECT` as shown before.\n",
    "(RAW is capable of query data that are not collections as will be shown later in this tutorial.)"
   ]
  },
  {
   "cell_type": "markdown",
   "metadata": {},
   "source": [
    "Another very typical way to get an idea of the content of a dataset, is to directly read it using `SELECT`.\n",
    "\n",
    "In this case, however, it is always wise to set `LIMIT` to a low number to avoid reading large amounts of data unnecessarily.\n",
    "\n",
    "For instance, given a new file located at https://raw-tutorial.s3.amazonaws.com/trips.json a RAW user may well start by doing `DESCRIBE` then `SELECT`."
   ]
  },
  {
   "cell_type": "code",
   "execution_count": 5,
   "metadata": {},
   "outputs": [
    {
     "data": {
      "text/html": [
       "<table class=\"nested-table\">\n",
       "<tr><th colspan=\"1\" rowspan=\"2\">format</th><th colspan=\"1\" rowspan=\"2\">comment</th><th colspan=\"1\" rowspan=\"2\">type</th><th colspan=\"2\" rowspan=\"1\">properties</th><th colspan=\"1\" rowspan=\"2\">is_collection</th><th colspan=\"3\" rowspan=\"1\">columns</th></tr>\n",
       "<tr><th colspan=\"1\" rowspan=\"1\">name</th><th colspan=\"1\" rowspan=\"1\">value</th><th colspan=\"1\" rowspan=\"1\">col_name</th><th colspan=\"1\" rowspan=\"1\">col_type</th><th colspan=\"1\" rowspan=\"1\">nullable</th></tr>\n",
       "<tr><td colspan=\"1\" rowspan=\"4\" class=\"\">json</td><td colspan=\"1\" rowspan=\"4\" class=\"\">encoding iso-8859-1 (confidence: 58%)</td><td colspan=\"1\" rowspan=\"4\" class=\"\">collection(record(`reason`: string,`origin`: string,`destination`: string,`dates`: record(`departure`: string,`arrival`: string)))</td><td colspan=\"2\" rowspan=\"4\" class=\"empty-value\">empty</td><td colspan=\"1\" rowspan=\"4\" class=\"\">True</td><td colspan=\"1\" rowspan=\"1\" class=\"\">reason</td><td colspan=\"1\" rowspan=\"1\" class=\"\">string</td><td colspan=\"1\" rowspan=\"1\" class=\"\">False</td></tr>\n",
       "<tr><td colspan=\"1\" rowspan=\"1\" class=\"\">origin</td><td colspan=\"1\" rowspan=\"1\" class=\"\">string</td><td colspan=\"1\" rowspan=\"1\" class=\"\">False</td></tr>\n",
       "<tr><td colspan=\"1\" rowspan=\"1\" class=\"\">destination</td><td colspan=\"1\" rowspan=\"1\" class=\"\">string</td><td colspan=\"1\" rowspan=\"1\" class=\"\">False</td></tr>\n",
       "<tr><td colspan=\"1\" rowspan=\"1\" class=\"\">dates</td><td colspan=\"1\" rowspan=\"1\" class=\"\">record(`departure`: string,`arrival`: string)</td><td colspan=\"1\" rowspan=\"1\" class=\"\">False</td></tr>\n",
       "</table>"
      ],
      "text/plain": [
       "<raw_magic.nested_table.NestedTable at 0x10cfda1c0>"
      ]
     },
     "execution_count": 5,
     "metadata": {},
     "output_type": "execute_result"
    }
   ],
   "source": [
    "%%rql\n",
    "\n",
    "DESCRIBE(\"https://raw-tutorial.s3.amazonaws.com/trips.json\")"
   ]
  },
  {
   "cell_type": "code",
   "execution_count": 6,
   "metadata": {},
   "outputs": [
    {
     "data": {
      "text/html": [
       "<table class=\"nested-table\">\n",
       "<tr><th colspan=\"1\" rowspan=\"2\">reason</th><th colspan=\"1\" rowspan=\"2\">origin</th><th colspan=\"1\" rowspan=\"2\">destination</th><th colspan=\"2\" rowspan=\"1\">dates</th></tr>\n",
       "<tr><th colspan=\"1\" rowspan=\"1\">departure</th><th colspan=\"1\" rowspan=\"1\">arrival</th></tr>\n",
       "<tr><td colspan=\"1\" rowspan=\"1\" class=\"\">Holidays</td><td colspan=\"1\" rowspan=\"1\" class=\"\">GVA</td><td colspan=\"1\" rowspan=\"1\" class=\"\">KEF</td><td colspan=\"1\" rowspan=\"1\" class=\"\">2016/02/27</td><td colspan=\"1\" rowspan=\"1\" class=\"\">2016/03/06</td></tr>\n",
       "<tr><td colspan=\"1\" rowspan=\"1\" class=\"\">Work</td><td colspan=\"1\" rowspan=\"1\" class=\"\">GVA</td><td colspan=\"1\" rowspan=\"1\" class=\"\">SFO</td><td colspan=\"1\" rowspan=\"1\" class=\"\">2016/04/10</td><td colspan=\"1\" rowspan=\"1\" class=\"\">2016/04/17</td></tr>\n",
       "</table>"
      ],
      "text/plain": [
       "<raw_magic.nested_table.NestedTable at 0x10d1ea850>"
      ]
     },
     "execution_count": 6,
     "metadata": {},
     "output_type": "execute_result"
    }
   ],
   "source": [
    "%%rql\n",
    "\n",
    "SELECT * FROM READ(\"https://raw-tutorial.s3.amazonaws.com/trips.json\") LIMIT 2"
   ]
  },
  {
   "cell_type": "markdown",
   "metadata": {},
   "source": [
    "Note that this JSON file includes a nested structure on field `dates`.\n",
    "These will be discussed further in the tutorial."
   ]
  },
  {
   "cell_type": "markdown",
   "metadata": {},
   "source": [
    "Sometimes, it's helpful to list data on a storage system accessible by RAW.\n",
    "\n",
    "In this case, we will search for data on an S3 bucket.\n",
    "Before we can read data from S3, we need to \"register the bucket\"; this will be discussed later in the tutorial."
   ]
  },
  {
   "cell_type": "code",
   "execution_count": 11,
   "metadata": {},
   "outputs": [
    {
     "name": "stdout",
     "output_type": "stream",
     "text": [
      "Registered s3://raw-tutorial\n"
     ]
    }
   ],
   "source": [
    "%buckets_register raw-tutorial"
   ]
  },
  {
   "cell_type": "code",
   "execution_count": 14,
   "metadata": {},
   "outputs": [
    {
     "data": {
      "text/html": [
       "<table class=\"nested-table\">\n",
       "<tr><th colspan=\"1\" rowspan=\"1\">string</th></tr>\n",
       "<tr><td colspan=\"1\" rowspan=\"1\" class=\"\">s3://raw-tutorial//CDR.txt</td></tr>\n",
       "<tr><td colspan=\"1\" rowspan=\"1\" class=\"\">s3://raw-tutorial//Lokad_Orders.csv</td></tr>\n",
       "<tr><td colspan=\"1\" rowspan=\"1\" class=\"\">s3://raw-tutorial//airports.csv</td></tr>\n",
       "<tr><td colspan=\"1\" rowspan=\"1\" class=\"\">s3://raw-tutorial//files-with-errors.hjson</td></tr>\n",
       "<tr><td colspan=\"1\" rowspan=\"1\" class=\"\">s3://raw-tutorial//machine_log.log</td></tr>\n",
       "</table>"
      ],
      "text/plain": [
       "<raw_magic.nested_table.NestedTable at 0x10d1ea670>"
      ]
     },
     "execution_count": 14,
     "metadata": {},
     "output_type": "execute_result"
    }
   ],
   "source": [
    "%%rql\n",
    "\n",
    "SELECT * FROM LS(\"s3://raw-tutorial/\") LIMIT 5"
   ]
  },
  {
   "cell_type": "markdown",
   "metadata": {},
   "source": [
    "`LS` lists the contents of the bucket and returns URLs for each file available.\n",
    "This is useful to discover datasets.\n",
    "\n",
    "Wildcards can also be used:"
   ]
  },
  {
   "cell_type": "code",
   "execution_count": 17,
   "metadata": {},
   "outputs": [
    {
     "data": {
      "text/html": [
       "<table class=\"nested-table\">\n",
       "<tr><th colspan=\"1\" rowspan=\"1\">string</th></tr>\n",
       "<tr><td colspan=\"1\" rowspan=\"1\" class=\"\">s3://raw-tutorial//airports.csv</td></tr>\n",
       "</table>"
      ],
      "text/plain": [
       "<raw_magic.nested_table.NestedTable at 0x10d1e65b0>"
      ]
     },
     "execution_count": 17,
     "metadata": {},
     "output_type": "execute_result"
    }
   ],
   "source": [
    "%%rql\n",
    "\n",
    "SELECT * FROM LS(\"s3://raw-tutorial/air*.csv\")"
   ]
  },
  {
   "cell_type": "markdown",
   "metadata": {},
   "source": [
    "**Next:** [Views](Views.ipynb)"
   ]
  }
 ],
 "metadata": {
  "kernelspec": {
   "display_name": "Python 3",
   "language": "python",
   "name": "python3"
  },
  "language_info": {
   "codemirror_mode": {
    "name": "ipython",
    "version": 3
   },
   "file_extension": ".py",
   "mimetype": "text/x-python",
   "name": "python",
   "nbconvert_exporter": "python",
   "pygments_lexer": "ipython3",
   "version": "3.6.9"
  }
 },
 "nbformat": 4,
 "nbformat_minor": 2
}
