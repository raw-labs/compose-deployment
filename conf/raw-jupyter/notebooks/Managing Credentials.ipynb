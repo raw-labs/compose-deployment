{
 "cells": [
  {
   "cell_type": "markdown",
   "metadata": {},
   "source": [
    "# Managing Credentials\n",
    "\n",
    "The data sources used in this tutorial have been publicly accessible. However, RAW can access secure servers. This requires registering credentials in RAW's Credentials Service."
   ]
  },
  {
   "cell_type": "code",
   "execution_count": 1,
   "metadata": {},
   "outputs": [],
   "source": [
    "%load_ext raw_magic"
   ]
  },
  {
   "cell_type": "markdown",
   "metadata": {},
   "source": [
    "Generally, then registering a credential, a name is then given to the credential; this name is then used in the query to refer to the set of credentials to use.\n",
    "\n",
    "Credentials can be managed in the Web Admin UI, command-line client, or even using Jupyter magics.\n",
    "However, we recommend to register credentials in the Web Admin UI, so that secrets are never stored in a notebook.\n",
    "\n",
    "For instance, for relational databases, the Jupyter magic `%%rdbms_register` can be used. It requires the following parameters:\n",
    "```\n",
    "%%rdbms_register <credentials name>\n",
    "type: <database vendor: e.g. postgresql, mysql, sqlserver, oracle, teradata....>\n",
    "host: <host>\n",
    "[database: <database>]\n",
    "[port: <port>]\n",
    "[username: <username>]\n",
    "[password: <password>]\n",
    "[parameters: <parameters>] -- only for teradata databases\n",
    "```\n",
    "\n",
    "Suppose we registered a PostgreSQL credential with:\n",
    "```\n",
    "%%rdbms_register psql01\n",
    "type: postgresql\n",
    "host: postgres-demo.server.host\n",
    "database: demo_db\n",
    "username: raw\n",
    "password: 12345\n",
    "```\n",
    "\n",
    "Then the PostgreSQL service can be queried with:\n",
    "```\n",
    "%%rql\n",
    "\n",
    "SELECT * FROM READ_PGSQL(\"psql01\", \"schema\", \"table\")\n",
    "```\n",
    "\n",
    "Note that `psql01` refers to the credential name used in the `rdbms_register` command.\n",
    "\n",
    "To list existing credentials:"
   ]
  },
  {
   "cell_type": "code",
   "execution_count": 7,
   "metadata": {},
   "outputs": [],
   "source": [
    "%rdbms_list"
   ]
  },
  {
   "cell_type": "markdown",
   "metadata": {},
   "source": [
    "Or in the case of access keys/secrets for S3 buckets on AWS:"
   ]
  },
  {
   "cell_type": "code",
   "execution_count": 6,
   "metadata": {},
   "outputs": [
    {
     "name": "stdout",
     "output_type": "stream",
     "text": [
      "raw-tutorial\n"
     ]
    }
   ],
   "source": [
    "%buckets_list"
   ]
  },
  {
   "cell_type": "markdown",
   "metadata": {},
   "source": [
    "**Next:** [Querying Relational Database Systems](Querying%20Relational%20Database%20Systems.ipynb)"
   ]
  }
 ],
 "metadata": {
  "kernelspec": {
   "display_name": "Python 3",
   "language": "python",
   "name": "python3"
  },
  "language_info": {
   "codemirror_mode": {
    "name": "ipython",
    "version": 3
   },
   "file_extension": ".py",
   "mimetype": "text/x-python",
   "name": "python",
   "nbconvert_exporter": "python",
   "pygments_lexer": "ipython3",
   "version": "3.6.9"
  }
 },
 "nbformat": 4,
 "nbformat_minor": 4
}
